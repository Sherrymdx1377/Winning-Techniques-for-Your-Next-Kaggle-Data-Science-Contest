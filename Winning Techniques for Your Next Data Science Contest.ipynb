{
 "cells": [
  {
   "cell_type": "markdown",
   "metadata": {},
   "source": [
    "<p style=\"text-align:center\">\n",
    "    <a href=\"https://skills.network/?utm_medium=Exinfluencer&utm_source=Exinfluencer&utm_content=000026UJ&utm_term=10006555&utm_id=NA-SkillsNetwork-Channel-SkillsNetworkGuidedProjectsIBMGPXX0CRSEN2517-2023-01-01\">\n",
    "    <img src=\"https://cf-courses-data.s3.us.cloud-object-storage.appdomain.cloud/assets/logos/SN_web_lightmode.png\" width=\"200\" alt=\"Skills Network Logo\"  />\n",
    "    </a>\n",
    "</p>\n"
   ]
  },
  {
   "cell_type": "markdown",
   "metadata": {},
   "source": [
    "# **Winning Techniques for Your Next Data Science Contest**\n"
   ]
  },
  {
   "cell_type": "markdown",
   "metadata": {},
   "source": [
    "Estimated time needed: **60** minutes\n"
   ]
  },
  {
   "cell_type": "markdown",
   "metadata": {},
   "source": [
    "The field of data science is rapidly growing, and the need for individuals in the traditional industries, such as Agriculture, Transportation, Construction, Retail, Hospitality and Tourism, to acquire these skills is also increasing. If you are an expert in these industries and would like to have a competitive edge in your career and the ability to drive innovation in your industry, then you found the right place!\n",
    "\n",
    "\n",
    "This guided project provides a unique opportunity for you to learn about data science and machine learning in a practical way. We will guide you through the full machine learning project cycle, which typically includes the following steps:\n",
    "\n",
    "- **Problem formulation**: defining the problem and understanding the business context.\n",
    "\n",
    "- **Data collection**: gathering and acquiring data from various sources.\n",
    "\n",
    "- **Data preprocessing**: cleaning, transforming, and preparing data for analysis.\n",
    "\n",
    "- **Exploratory data analysis**: understanding the structure, contents, and patterns in the data through visualizations and summary statistics.\n",
    "\n",
    "- **Feature engineering**: creating new features from the existing data.\n",
    "\n",
    "- **Model selection**: choosing an appropriate model or algorithm for the problem.\n",
    "\n",
    "- **Model training**: fitting the model to the data and tuning its hyperparameters.\n",
    "\n",
    "- **Model evaluation**: assessing the performance of the model using appropriate metrics and techniques.\n",
    "\n",
    "\n",
    "This comprehensive guide is hard to find on the internet and will equip you with a solid foundation in the data science process.\n",
    "\n",
    "After completing the project, you will be able to use real-world data to make predictions and apply machine learning algorithms to analyze and draw insights from data.\n",
    "\n",
    "\n",
    "\n",
    "<center><img src=\"https://cf-courses-data.s3.us.cloud-object-storage.appdomain.cloud/IBM-GPXX0CRSEN/images/Screen%20Shot%202023-04-03%20at%2010.51.22%20PM.png\" width=\"60%\"></center>\n",
    "\n",
    "<p style=\"color:gray; text-align:center;\">Credit: THINKSTOCK</p>\n"
   ]
  },
  {
   "cell_type": "markdown",
   "metadata": {},
   "source": [
    "## __Table of Contents__\n",
    "\n",
    "<ol>\n",
    "    <li><a href=\"#Objectives\">Objectives</a></li>\n",
    "    <li>\n",
    "        <a href=\"#Setup\">Setup</a>\n",
    "        <ol>\n",
    "            <li><a href=\"#Installing-Required-Libraries\">Installing Required Libraries</a></li>\n",
    "            <li><a href=\"#Importing-Required-Libraries\">Importing Required Libraries</a></li>\n",
    "            <li><a href=\"#Defining-Helper-Functions\">Defining Helper Functions</a></li>\n",
    "        </ol>\n",
    "    </li>\n",
    "    <li><a href=\"#Background-(optional)\">Background (optional)</a></li>\n",
    "    <li><a href=\"#Loading the dataset\">Loading the dataset</a></li>\n",
    "    <li>\n",
    "        <a href=\"#Preprocessing the dataset\">Preprocessing the dataset</a>\n",
    "        <ol>\n",
    "            <li><a href=\"#Make Loc Groups\">Make Loc Groups</a></li>\n",
    "            <li><a href=\"#Fill Missing Values\">Fill Missing Values</a></li>\n",
    "        </ol>\n",
    "    </li>\n",
    "    <li>\n",
    "        <a href=\"#Feature Selection and Lasso Regressions (to Obtain Residuals)\">Feature Selection and Lasso Regressions (to Obtain Residuals)</a>\n",
    "        <ol>\n",
    "            <li><a href=\"#Train, Validation, Test Split\">Train, Validation, Test Split</a></li>\n",
    "            <li><a href=\"#Feature Selection For Linear Regression\">Feature Selection For Linear Regression</a></li>\n",
    "            <li><a href=\"#Selecting Alpha and Fitting Linear Regressions (to Obtain Residuals)\">Selecting Alpha and Fitting Linear Regressions (to Obtain Residuals)</a></li>\n",
    "        </ol>\n",
    "    </li>\n",
    "    <li>\n",
    "        <a href=\"#Using Boosting Algorithms to Predict Residuals\">Using Boosting Algorithms to Predict Residuals</a>\n",
    "        <ol>\n",
    "            <li><a href=\"#Feature Selection for Boosting\">Feature Selection for Boosting</a></li>\n",
    "            <li><a href=\"#Boosting Models for Predicting Fitted Residuals\">Boosting Models for Predicting Fitted Residuals</a></li>\n",
    "        </ol>\n",
    "    </li>\n",
    "</ol>    \n"
   ]
  },
  {
   "cell_type": "markdown",
   "metadata": {},
   "source": [
    "## Objectives\n",
    "\n",
    "After completing this lab you will be able to:\n",
    "\n",
    "- Learn the full machine learning project cycle, from data exploration to model evaluation\n",
    "- Gain hands-on experience with data cleaning and preparation techniques\n",
    "- Understand the importance of feature engineering and how to apply it to real-world datasets\n",
    "- Learn how to select and train machine learning models for different problems\n",
    "- Learn how to make predictions and draw insights from data using machine learning algorithms\n",
    "- Understand the working mechanisms of three famous boosting algorithms: CatBoost, LightGBM, and XGBoost.\n",
    "- Discover how to use ensemble learning techniques to combine model predictions and achieve even better results.\n"
   ]
  },
  {
   "cell_type": "markdown",
   "metadata": {},
   "source": [
    "----\n"
   ]
  },
  {
   "cell_type": "markdown",
   "metadata": {},
   "source": [
    "## Setup\n"
   ]
  },
  {
   "cell_type": "markdown",
   "metadata": {},
   "source": [
    "For this lab, we will be using the following libraries:\n",
    "\n",
    "*   [`pandas`](https://pandas.pydata.org/?utm_medium=Exinfluencer&utm_source=Exinfluencer&utm_content=000026UJ&utm_term=10006555&utm_id=NA-SkillsNetwork-Channel-SkillsNetworkCoursesIBMML0187ENSkillsNetwork31430127-2021-01-01) for managing the data.\n",
    "*   [`numpy`](https://numpy.org/?utm_medium=Exinfluencer&utm_source=Exinfluencer&utm_content=000026UJ&utm_term=10006555&utm_id=NA-SkillsNetwork-Channel-SkillsNetworkCoursesIBMML0187ENSkillsNetwork31430127-2021-01-01) for mathematical operations.\n",
    "*   [`sklearn`](https://scikit-learn.org/stable/?utm_medium=Exinfluencer&utm_source=Exinfluencer&utm_content=000026UJ&utm_term=10006555&utm_id=NA-SkillsNetwork-Channel-SkillsNetworkCoursesIBMML0187ENSkillsNetwork31430127-2021-01-01) for machine learning and machine-learning-pipeline related functions.\n",
    "*   [`seaborn`](https://seaborn.pydata.org/?utm_medium=Exinfluencer&utm_source=Exinfluencer&utm_content=000026UJ&utm_term=10006555&utm_id=NA-SkillsNetwork-Channel-SkillsNetworkCoursesIBMML0187ENSkillsNetwork31430127-2021-01-01) for visualizing the data.\n",
    "*   [`matplotlib`](https://matplotlib.org/?utm_medium=Exinfluencer&utm_source=Exinfluencer&utm_content=000026UJ&utm_term=10006555&utm_id=NA-SkillsNetwork-Channel-SkillsNetworkCoursesIBMML0187ENSkillsNetwork31430127-2021-01-01) for additional plotting tools.\n"
   ]
  },
  {
   "cell_type": "markdown",
   "metadata": {},
   "source": [
    "### Installing Required Libraries\n",
    "\n",
    "The following required libraries are pre-installed in the Skills Network Labs environment. However, if you run this notebook commands in a different Jupyter environment (e.g. Watson Studio or Ananconda), you will need to install these libraries by removing the `#` sign before `!mamba` in the code cell below.\n"
   ]
  },
  {
   "cell_type": "code",
   "execution_count": null,
   "metadata": {},
   "outputs": [],
   "source": [
    "# All Libraries required for this lab are listed below. The libraries pre-installed on Skills Network Labs are commented.\n",
    "# !mamba install -qy pandas==1.3.4 numpy==1.21.4 seaborn==0.9.0 matplotlib==3.5.0 scikit-learn==0.20.1\n",
    "# Note: If your environment doesn't support \"!mamba install\", use \"!pip install\""
   ]
  },
  {
   "cell_type": "markdown",
   "metadata": {},
   "source": [
    "The following required libraries are __not__ pre-installed in the Skills Network Labs environment. __You will need to run the following cell__ to install them:\n"
   ]
  },
  {
   "cell_type": "code",
   "execution_count": 1,
   "metadata": {
    "tags": []
   },
   "outputs": [
    {
     "name": "stdout",
     "output_type": "stream",
     "text": [
      "Preparing transaction: ...working... done\n",
      "Verifying transaction: ...working... done\n",
      "Executing transaction: ...working... done\n",
      "Preparing transaction: ...working... done\n",
      "Verifying transaction: ...working... done\n",
      "Executing transaction: ...working... \n",
      "\n",
      "    Installed package of scikit-learn can be accelerated using scikit-learn-intelex.\n",
      "    More details are available here: https://intel.github.io/scikit-learn-intelex\n",
      "\n",
      "    For example:\n",
      "\n",
      "        $ conda install scikit-learn-intelex\n",
      "        $ python -m sklearnex my_application.py\n",
      "\n",
      "    \n",
      "\n",
      "done\n",
      "Preparing transaction: ...working... done\n",
      "Verifying transaction: ...working... done\n",
      "Executing transaction: ...working... done\n"
     ]
    }
   ],
   "source": [
    "!mamba install -qy catboost\n",
    "!mamba install -qy lightgbm\n",
    "!mamba install -qy xgboost"
   ]
  },
  {
   "cell_type": "markdown",
   "metadata": {},
   "source": [
    "### Importing Required Libraries\n",
    "\n",
    "_We recommend you import all required libraries in one place (here):_\n"
   ]
  },
  {
   "cell_type": "code",
   "execution_count": 2,
   "metadata": {
    "tags": []
   },
   "outputs": [],
   "source": [
    "import warnings\n",
    "warnings.simplefilter('ignore')\n",
    "\n",
    "import pandas as pd\n",
    "import numpy as np\n",
    "import tqdm\n",
    "from numpy import median\n",
    "import random\n",
    "import catboost as cb\n",
    "import lightgbm as lgb\n",
    "import xgboost as xgb\n",
    "from sklearn.decomposition import PCA\n",
    "from sklearn.preprocessing import LabelEncoder, OneHotEncoder, StandardScaler\n",
    "from sklearn.linear_model import Lasso, Ridge\n",
    "from sklearn.ensemble import RandomForestClassifier\n",
    "from statsmodels.stats.outliers_influence import variance_inflation_factor\n",
    "\n",
    "import matplotlib.pyplot as plt\n",
    "from sklearn.metrics import mean_squared_error\n",
    "from sklearn.metrics import roc_auc_score\n",
    "%matplotlib inline"
   ]
  },
  {
   "cell_type": "markdown",
   "metadata": {},
   "source": [
    "### Defining Helper Functions\n"
   ]
  },
  {
   "cell_type": "code",
   "execution_count": 3,
   "metadata": {
    "tags": []
   },
   "outputs": [],
   "source": [
    "def rmse(actual, predicted):\n",
    "    return mean_squared_error(actual, predicted, squared=False)"
   ]
  },
  {
   "cell_type": "markdown",
   "metadata": {},
   "source": [
    "## Background\n"
   ]
  },
  {
   "cell_type": "markdown",
   "metadata": {},
   "source": [
    "Participating in data science competitions is a great way for beginners to gain practical experience and develop valuable data science skills. Competitions provide real-world datasets and problems that allow you to apply your knowledge and practice the entire data science process.\n",
    "\n",
    "The dataset we will use in this project is provided by Women in Data Science (WiDS Datathon) 2023 competition on Kaggle. This compeition focuses on forecasting weather in different regions within the US over a two-week period. Each row in the data corresponds to a single location and a single start date for the two-week period. **Our task is to predict the average temperature over the next 14 days, for each location and start date**.\n",
    "\n",
    "The competition is now finished and it had over 700 participating teams around the world. We collected the best winning techniques of the top winners of the compeition and built this project. We offer you this great opportunity to learn from the best approaches and elevate your data science skills!\n"
   ]
  },
  {
   "cell_type": "markdown",
   "metadata": {},
   "source": [
    "<center><img src=\"https://cf-courses-data.s3.us.cloud-object-storage.appdomain.cloud/IBM-GPXX0CRSEN/images/bg.png\" width=\"85%\"></center>\n"
   ]
  },
  {
   "cell_type": "markdown",
   "metadata": {},
   "source": [
    "In a nutshell, in this project we will first preprocess the dataset by filling the missing values and encode valuable features. Then we will use Lasso regression to predict the residuals of our original target, which allows us to capture any simple, linear relationships existing between the predictors and the target. After we obtain the fitted residuals, we will bring on the power of Boosting algorithms, which we will introduce later in this project, to predict the fitted residuals. Boosting algorithms will help us capture complex, non-linear pattern in our data, and we hope to further reduce the gap between our predictions and the real target using Boosting algorithms.\n",
    "\n",
    "There are a lot of great technical details covered in this comprehensive project, so let's get started!\n"
   ]
  },
  {
   "cell_type": "markdown",
   "metadata": {},
   "source": [
    "## Loading the dataset\n"
   ]
  },
  {
   "cell_type": "markdown",
   "metadata": {},
   "source": [
    "We have a pre-prepared dataset consisting of features such as weather and climate information for a number of US locations, for a number of start dates for the two-week observation, as well as the forecasted temperature and precipitation from a number of weather forecast models. For more information regarding the data schema, please refer to the [competition](https://www.kaggle.com/competitions/widsdatathon2023/data?utm_medium=Exinfluencer&utm_source=Exinfluencer&utm_content=000026UJ&utm_term=10006555&utm_id=NA-SkillsNetwork-Channel-SkillsNetworkGuidedProjectsIBMGPXX0CRSEN2517-2023-01-01).\n",
    "\n",
    "Let's import the dataset. It may take 2-3 minutes to import as the original dataset is quite large.\n"
   ]
  },
  {
   "cell_type": "code",
   "execution_count": 4,
   "metadata": {
    "tags": []
   },
   "outputs": [
    {
     "data": {
      "text/html": [
       "<div>\n",
       "<style scoped>\n",
       "    .dataframe tbody tr th:only-of-type {\n",
       "        vertical-align: middle;\n",
       "    }\n",
       "\n",
       "    .dataframe tbody tr th {\n",
       "        vertical-align: top;\n",
       "    }\n",
       "\n",
       "    .dataframe thead th {\n",
       "        text-align: right;\n",
       "    }\n",
       "</style>\n",
       "<table border=\"1\" class=\"dataframe\">\n",
       "  <thead>\n",
       "    <tr style=\"text-align: right;\">\n",
       "      <th></th>\n",
       "      <th>lat</th>\n",
       "      <th>lon</th>\n",
       "      <th>startdate</th>\n",
       "      <th>contest-pevpr-sfc-gauss-14d__pevpr</th>\n",
       "      <th>nmme0-tmp2m-34w__cancm30</th>\n",
       "      <th>nmme0-tmp2m-34w__cancm40</th>\n",
       "      <th>nmme0-tmp2m-34w__ccsm30</th>\n",
       "      <th>nmme0-tmp2m-34w__ccsm40</th>\n",
       "      <th>nmme0-tmp2m-34w__cfsv20</th>\n",
       "      <th>nmme0-tmp2m-34w__gfdlflora0</th>\n",
       "      <th>...</th>\n",
       "      <th>wind-vwnd-925-2010-11</th>\n",
       "      <th>wind-vwnd-925-2010-12</th>\n",
       "      <th>wind-vwnd-925-2010-13</th>\n",
       "      <th>wind-vwnd-925-2010-14</th>\n",
       "      <th>wind-vwnd-925-2010-15</th>\n",
       "      <th>wind-vwnd-925-2010-16</th>\n",
       "      <th>wind-vwnd-925-2010-17</th>\n",
       "      <th>wind-vwnd-925-2010-18</th>\n",
       "      <th>wind-vwnd-925-2010-19</th>\n",
       "      <th>wind-vwnd-925-2010-20</th>\n",
       "    </tr>\n",
       "    <tr>\n",
       "      <th>index</th>\n",
       "      <th></th>\n",
       "      <th></th>\n",
       "      <th></th>\n",
       "      <th></th>\n",
       "      <th></th>\n",
       "      <th></th>\n",
       "      <th></th>\n",
       "      <th></th>\n",
       "      <th></th>\n",
       "      <th></th>\n",
       "      <th></th>\n",
       "      <th></th>\n",
       "      <th></th>\n",
       "      <th></th>\n",
       "      <th></th>\n",
       "      <th></th>\n",
       "      <th></th>\n",
       "      <th></th>\n",
       "      <th></th>\n",
       "      <th></th>\n",
       "      <th></th>\n",
       "    </tr>\n",
       "  </thead>\n",
       "  <tbody>\n",
       "    <tr>\n",
       "      <th>0</th>\n",
       "      <td>0.0</td>\n",
       "      <td>0.833333</td>\n",
       "      <td>2014-09-01</td>\n",
       "      <td>237.00</td>\n",
       "      <td>29.02</td>\n",
       "      <td>31.64</td>\n",
       "      <td>29.57</td>\n",
       "      <td>30.73</td>\n",
       "      <td>29.71</td>\n",
       "      <td>31.52</td>\n",
       "      <td>...</td>\n",
       "      <td>-27.68</td>\n",
       "      <td>-37.21</td>\n",
       "      <td>8.32</td>\n",
       "      <td>9.56</td>\n",
       "      <td>-2.03</td>\n",
       "      <td>48.13</td>\n",
       "      <td>28.09</td>\n",
       "      <td>-13.50</td>\n",
       "      <td>11.90</td>\n",
       "      <td>4.58</td>\n",
       "    </tr>\n",
       "    <tr>\n",
       "      <th>1</th>\n",
       "      <td>0.0</td>\n",
       "      <td>0.833333</td>\n",
       "      <td>2014-09-02</td>\n",
       "      <td>228.90</td>\n",
       "      <td>29.02</td>\n",
       "      <td>31.64</td>\n",
       "      <td>29.57</td>\n",
       "      <td>30.73</td>\n",
       "      <td>29.71</td>\n",
       "      <td>31.52</td>\n",
       "      <td>...</td>\n",
       "      <td>-21.13</td>\n",
       "      <td>-36.57</td>\n",
       "      <td>8.77</td>\n",
       "      <td>21.17</td>\n",
       "      <td>4.44</td>\n",
       "      <td>48.60</td>\n",
       "      <td>27.41</td>\n",
       "      <td>-23.77</td>\n",
       "      <td>15.44</td>\n",
       "      <td>3.42</td>\n",
       "    </tr>\n",
       "    <tr>\n",
       "      <th>2</th>\n",
       "      <td>0.0</td>\n",
       "      <td>0.833333</td>\n",
       "      <td>2014-09-03</td>\n",
       "      <td>220.69</td>\n",
       "      <td>29.02</td>\n",
       "      <td>31.64</td>\n",
       "      <td>29.57</td>\n",
       "      <td>30.73</td>\n",
       "      <td>29.71</td>\n",
       "      <td>31.52</td>\n",
       "      <td>...</td>\n",
       "      <td>-10.72</td>\n",
       "      <td>-34.16</td>\n",
       "      <td>6.99</td>\n",
       "      <td>32.16</td>\n",
       "      <td>5.01</td>\n",
       "      <td>48.53</td>\n",
       "      <td>19.21</td>\n",
       "      <td>-33.16</td>\n",
       "      <td>15.11</td>\n",
       "      <td>4.82</td>\n",
       "    </tr>\n",
       "    <tr>\n",
       "      <th>3</th>\n",
       "      <td>0.0</td>\n",
       "      <td>0.833333</td>\n",
       "      <td>2014-09-04</td>\n",
       "      <td>225.28</td>\n",
       "      <td>29.02</td>\n",
       "      <td>31.64</td>\n",
       "      <td>29.57</td>\n",
       "      <td>30.73</td>\n",
       "      <td>29.71</td>\n",
       "      <td>31.52</td>\n",
       "      <td>...</td>\n",
       "      <td>0.33</td>\n",
       "      <td>-31.04</td>\n",
       "      <td>6.17</td>\n",
       "      <td>39.66</td>\n",
       "      <td>-1.41</td>\n",
       "      <td>50.59</td>\n",
       "      <td>8.29</td>\n",
       "      <td>-37.22</td>\n",
       "      <td>18.24</td>\n",
       "      <td>9.74</td>\n",
       "    </tr>\n",
       "    <tr>\n",
       "      <th>4</th>\n",
       "      <td>0.0</td>\n",
       "      <td>0.833333</td>\n",
       "      <td>2014-09-05</td>\n",
       "      <td>237.24</td>\n",
       "      <td>29.02</td>\n",
       "      <td>31.64</td>\n",
       "      <td>29.57</td>\n",
       "      <td>30.73</td>\n",
       "      <td>29.71</td>\n",
       "      <td>31.52</td>\n",
       "      <td>...</td>\n",
       "      <td>9.83</td>\n",
       "      <td>-31.80</td>\n",
       "      <td>7.47</td>\n",
       "      <td>38.62</td>\n",
       "      <td>-5.21</td>\n",
       "      <td>54.73</td>\n",
       "      <td>-2.58</td>\n",
       "      <td>-42.30</td>\n",
       "      <td>21.91</td>\n",
       "      <td>10.95</td>\n",
       "    </tr>\n",
       "  </tbody>\n",
       "</table>\n",
       "<p>5 rows × 245 columns</p>\n",
       "</div>"
      ],
      "text/plain": [
       "       lat       lon  startdate  contest-pevpr-sfc-gauss-14d__pevpr  \\\n",
       "index                                                                 \n",
       "0      0.0  0.833333 2014-09-01                              237.00   \n",
       "1      0.0  0.833333 2014-09-02                              228.90   \n",
       "2      0.0  0.833333 2014-09-03                              220.69   \n",
       "3      0.0  0.833333 2014-09-04                              225.28   \n",
       "4      0.0  0.833333 2014-09-05                              237.24   \n",
       "\n",
       "       nmme0-tmp2m-34w__cancm30  nmme0-tmp2m-34w__cancm40  \\\n",
       "index                                                       \n",
       "0                         29.02                     31.64   \n",
       "1                         29.02                     31.64   \n",
       "2                         29.02                     31.64   \n",
       "3                         29.02                     31.64   \n",
       "4                         29.02                     31.64   \n",
       "\n",
       "       nmme0-tmp2m-34w__ccsm30  nmme0-tmp2m-34w__ccsm40  \\\n",
       "index                                                     \n",
       "0                        29.57                    30.73   \n",
       "1                        29.57                    30.73   \n",
       "2                        29.57                    30.73   \n",
       "3                        29.57                    30.73   \n",
       "4                        29.57                    30.73   \n",
       "\n",
       "       nmme0-tmp2m-34w__cfsv20  nmme0-tmp2m-34w__gfdlflora0  ...  \\\n",
       "index                                                        ...   \n",
       "0                        29.71                        31.52  ...   \n",
       "1                        29.71                        31.52  ...   \n",
       "2                        29.71                        31.52  ...   \n",
       "3                        29.71                        31.52  ...   \n",
       "4                        29.71                        31.52  ...   \n",
       "\n",
       "       wind-vwnd-925-2010-11  wind-vwnd-925-2010-12  wind-vwnd-925-2010-13  \\\n",
       "index                                                                        \n",
       "0                     -27.68                 -37.21                   8.32   \n",
       "1                     -21.13                 -36.57                   8.77   \n",
       "2                     -10.72                 -34.16                   6.99   \n",
       "3                       0.33                 -31.04                   6.17   \n",
       "4                       9.83                 -31.80                   7.47   \n",
       "\n",
       "       wind-vwnd-925-2010-14  wind-vwnd-925-2010-15  wind-vwnd-925-2010-16  \\\n",
       "index                                                                        \n",
       "0                       9.56                  -2.03                  48.13   \n",
       "1                      21.17                   4.44                  48.60   \n",
       "2                      32.16                   5.01                  48.53   \n",
       "3                      39.66                  -1.41                  50.59   \n",
       "4                      38.62                  -5.21                  54.73   \n",
       "\n",
       "       wind-vwnd-925-2010-17  wind-vwnd-925-2010-18  wind-vwnd-925-2010-19  \\\n",
       "index                                                                        \n",
       "0                      28.09                 -13.50                  11.90   \n",
       "1                      27.41                 -23.77                  15.44   \n",
       "2                      19.21                 -33.16                  15.11   \n",
       "3                       8.29                 -37.22                  18.24   \n",
       "4                      -2.58                 -42.30                  21.91   \n",
       "\n",
       "       wind-vwnd-925-2010-20  \n",
       "index                         \n",
       "0                       4.58  \n",
       "1                       3.42  \n",
       "2                       4.82  \n",
       "3                       9.74  \n",
       "4                      10.95  \n",
       "\n",
       "[5 rows x 245 columns]"
      ]
     },
     "execution_count": 4,
     "metadata": {},
     "output_type": "execute_result"
    }
   ],
   "source": [
    "df = pd.read_csv(\"https://cf-courses-data.s3.us.cloud-object-storage.appdomain.cloud/IBM-GPXX0CRSEN/LargeData/train_data.csv\", parse_dates=['startdate'], index_col=0)\n",
    "df.head()"
   ]
  },
  {
   "cell_type": "code",
   "execution_count": 5,
   "metadata": {
    "tags": []
   },
   "outputs": [
    {
     "data": {
      "text/plain": [
       "(375734, 245)"
      ]
     },
     "execution_count": 5,
     "metadata": {},
     "output_type": "execute_result"
    }
   ],
   "source": [
    "df.shape"
   ]
  },
  {
   "cell_type": "code",
   "execution_count": 6,
   "metadata": {
    "tags": []
   },
   "outputs": [
    {
     "data": {
      "text/plain": [
       "index\n",
       "0         28.744480\n",
       "1         28.370585\n",
       "2         28.133059\n",
       "3         28.256798\n",
       "4         28.372353\n",
       "            ...    \n",
       "375729    17.150954\n",
       "375730    16.962051\n",
       "375731    16.915474\n",
       "375732    16.536761\n",
       "375733    15.910995\n",
       "Name: contest-tmp2m-14d__tmp2m, Length: 375734, dtype: float64"
      ]
     },
     "execution_count": 6,
     "metadata": {},
     "output_type": "execute_result"
    }
   ],
   "source": [
    "target = 'contest-tmp2m-14d__tmp2m'\n",
    "df[target]"
   ]
  },
  {
   "cell_type": "markdown",
   "metadata": {},
   "source": [
    "As you can see, the original dataset contains 375,734 observations, 244 features and one target variable `contest-tmp2m-14d__tmp2m`. According to the competition, `contest-tmp2m-14d__tmp2m` is the **arithmetic mean of the max and min observed temperature over the next 14 days for each location and start date**.\n"
   ]
  },
  {
   "cell_type": "markdown",
   "metadata": {},
   "source": [
    "## Preprocessing the dataset\n",
    "\n",
    "This section explains how we preprocessed the original dataset and then split it into train, validation, and test datasets. Preprocessing is a critical step in building a successful Machine Learning project.\n"
   ]
  },
  {
   "cell_type": "markdown",
   "metadata": {},
   "source": [
    "### Make Location Groups\n",
    "\n",
    "First, the location data given are expressed in terms of longitude and latitude, we can turn this critical information into a more convenient format by creating location groups. A location group has its unique combination of longitude and latitude. However, to avoid having too many different groups, we choose to round the longitudes and latitudes down to contain 14 decimal places. \n"
   ]
  },
  {
   "cell_type": "code",
   "execution_count": 7,
   "metadata": {
    "tags": []
   },
   "outputs": [],
   "source": [
    "def loc_group(df):\n",
    "    \n",
    "    scale = 14\n",
    "\n",
    "    df['lat'] = np.round(df['lat'], scale)\n",
    "    df['lon'] = np.round(df['lon'], scale)\n",
    "    df['loc_group'] = df.groupby(['lon', 'lat']).ngroup()\n",
    "     \n",
    "    return df"
   ]
  },
  {
   "cell_type": "code",
   "execution_count": 8,
   "metadata": {
    "tags": []
   },
   "outputs": [
    {
     "data": {
      "text/plain": [
       "514"
      ]
     },
     "execution_count": 8,
     "metadata": {},
     "output_type": "execute_result"
    }
   ],
   "source": [
    "df = loc_group(df)\n",
    "df.loc_group.nunique()"
   ]
  },
  {
   "cell_type": "markdown",
   "metadata": {},
   "source": [
    "We created in total 514 different location groups for which we will predict the average weather in the next 14 days.\n"
   ]
  },
  {
   "cell_type": "code",
   "execution_count": 9,
   "metadata": {
    "tags": []
   },
   "outputs": [
    {
     "name": "stdout",
     "output_type": "stream",
     "text": [
      "[731, 731, 731, 731, 731, 731, 731, 731, 731, 731, 731, 731, 731, 731, 731, 731, 731, 731, 731, 731, 731, 731, 731, 731, 731, 731, 731, 731, 731, 731, 731, 731, 731, 731, 731, 731, 731, 731, 731, 731, 731, 731, 731, 731, 731, 731, 731, 731, 731, 731, 731, 731, 731, 731, 731, 731, 731, 731, 731, 731, 731, 731, 731, 731, 731, 731, 731, 731, 731, 731, 731, 731, 731, 731, 731, 731, 731, 731, 731, 731, 731, 731, 731, 731, 731, 731, 731, 731, 731, 731, 731, 731, 731, 731, 731, 731, 731, 731, 731, 731, 731, 731, 731, 731, 731, 731, 731, 731, 731, 731, 731, 731, 731, 731, 731, 731, 731, 731, 731, 731, 731, 731, 731, 731, 731, 731, 731, 731, 731, 731, 731, 731, 731, 731, 731, 731, 731, 731, 731, 731, 731, 731, 731, 731, 731, 731, 731, 731, 731, 731, 731, 731, 731, 731, 731, 731, 731, 731, 731, 731, 731, 731, 731, 731, 731, 731, 731, 731, 731, 731, 731, 731, 731, 731, 731, 731, 731, 731, 731, 731, 731, 731, 731, 731, 731, 731, 731, 731, 731, 731, 731, 731, 731, 731, 731, 731, 731, 731, 731, 731, 731, 731, 731, 731, 731, 731, 731, 731, 731, 731, 731, 731, 731, 731, 731, 731, 731, 731, 731, 731, 731, 731, 731, 731, 731, 731, 731, 731, 731, 731, 731, 731, 731, 731, 731, 731, 731, 731, 731, 731, 731, 731, 731, 731, 731, 731, 731, 731, 731, 731, 731, 731, 731, 731, 731, 731, 731, 731, 731, 731, 731, 731, 731, 731, 731, 731, 731, 731, 731, 731, 731, 731, 731, 731, 731, 731, 731, 731, 731, 731, 731, 731, 731, 731, 731, 731, 731, 731, 731, 731, 731, 731, 731, 731, 731, 731, 731, 731, 731, 731, 731, 731, 731, 731, 731, 731, 731, 731, 731, 731, 731, 731, 731, 731, 731, 731, 731, 731, 731, 731, 731, 731, 731, 731, 731, 731, 731, 731, 731, 731, 731, 731, 731, 731, 731, 731, 731, 731, 731, 731, 731, 731, 731, 731, 731, 731, 731, 731, 731, 731, 731, 731, 731, 731, 731, 731, 731, 731, 731, 731, 731, 731, 731, 731, 731, 731, 731, 731, 731, 731, 731, 731, 731, 731, 731, 731, 731, 731, 731, 731, 731, 731, 731, 731, 731, 731, 731, 731, 731, 731, 731, 731, 731, 731, 731, 731, 731, 731, 731, 731, 731, 731, 731, 731, 731, 731, 731, 731, 731, 731, 731, 731, 731, 731, 731, 731, 731, 731, 731, 731, 731, 731, 731, 731, 731, 731, 731, 731, 731, 731, 731, 731, 731, 731, 731, 731, 731, 731, 731, 731, 731, 731, 731, 731, 731, 731, 731, 731, 731, 731, 731, 731, 731, 731, 731, 731, 731, 731, 731, 731, 731, 731, 731, 731, 731, 731, 731, 731, 731, 731, 731, 731, 731, 731, 731, 731, 731, 731, 731, 731, 731, 731, 731, 731, 731, 731, 731, 731, 731, 731, 731, 731, 731, 731, 731, 731, 731, 731, 731, 731, 731, 731, 731, 731, 731, 731, 731, 731, 731, 731, 731, 731, 731, 731]\n",
      "\n",
      "731\n"
     ]
    }
   ],
   "source": [
    "n_startdates = []\n",
    "\n",
    "for n in range(df.loc_group.nunique()):\n",
    "    n_startdates.append(df[df.loc_group == n].startdate.nunique())\n",
    "\n",
    "print(n_startdates)\n",
    "print()\n",
    "print(df.startdate.nunique())"
   ]
  },
  {
   "cell_type": "markdown",
   "metadata": {},
   "source": [
    "We can see that each `loc_group` has 731 unique start dates and we have in total 731 unique start dates in the entire dataset, meaning all location groups have data for the same 731 start dates. This is a good thing because we have a balanced dataset for training models to forecast weather in different locations.  \n"
   ]
  },
  {
   "cell_type": "markdown",
   "metadata": {},
   "source": [
    "### Fill Missing Values\n"
   ]
  },
  {
   "cell_type": "markdown",
   "metadata": {},
   "source": [
    "Let's examine columns with missing values in the original dataset.\n"
   ]
  },
  {
   "cell_type": "code",
   "execution_count": 10,
   "metadata": {
    "tags": []
   },
   "outputs": [
    {
     "name": "stdout",
     "output_type": "stream",
     "text": [
      "nmme0-tmp2m-34w__ccsm30 15934\n",
      "nmme-tmp2m-56w__ccsm3 10280\n",
      "nmme-prate-34w__ccsm3 8738\n",
      "nmme0-prate-56w__ccsm30 15934\n",
      "nmme0-prate-34w__ccsm30 15934\n",
      "nmme-prate-56w__ccsm3 10280\n",
      "nmme-tmp2m-34w__ccsm3 8738\n",
      "ccsm30 15934\n"
     ]
    }
   ],
   "source": [
    "na_cols = []\n",
    "\n",
    "for col in df.columns:\n",
    "    if df[col].isnull().sum() >0:\n",
    "        na_cols.append(col)\n",
    "        print(col, df[col].isnull().sum())"
   ]
  },
  {
   "cell_type": "markdown",
   "metadata": {},
   "source": [
    "According to the competition, **cancm30, cancm40, ccsm30, ccsm40, cfsv20, gfdlflora0, gfdlflorb0, gfdl0, nasa0, and nmme0mean** are most recent forecasts from weather models. \n",
    "\n",
    "- `nmme0-prate-34w`: weeks 3-4 weighted average of most recent monthly NMME model forecasts for precipitation.\n",
    "- `nmme0-prate-56w`: weeks 5-6 weighted average of most recent monthly NMME model forecasts for precipitation.\n",
    "- `nmme-prate-34w`: weeks 3-4 weighted average of monthly NMME model forecasts for precipitation.\n",
    "- `nmme-prate-56w`: weeks 5-6 weighted average of monthly NMME model forecasts for precipitation.\n",
    "- `nmme-tmp2m-34w`: weeks 3-4 weighted average of most recent monthly NMME model forecasts for target label, `contest-tmp2m-14d__tmp2m`.\n",
    "- `nmme-tmp2m-56w`: weeks 5-6 weighted average of monthly NMME model forecasts for target label, `contest-tmp2m-14d__tmp2m`.\n",
    "\n"
   ]
  },
  {
   "cell_type": "markdown",
   "metadata": {},
   "source": [
    "Now we know that we are missing forecasts from **ccsm30 and ccsm3** NMME (North American Multi-Model Ensemble) weather models for the above prefixes. \n",
    "\n",
    "We can make an educated guess that the missing forecasts can be derived from the remaining complete forecasts. Specifically, for column `nmme-tmp2m-34w__ccsm3`, its missing values can be computed through first multiplying the average forecast `nmme-tmp2m-34w__nmmemean` by 9 to get the sum of **nmme-tmp2m-34w** forecasts and then subtract the other 8 forecasts (of 8 remaining weather forecast models).\n",
    "\n",
    "We will use this methodology to fill missing values for all columns containing missing values. \n"
   ]
  },
  {
   "cell_type": "code",
   "execution_count": 11,
   "metadata": {
    "tags": []
   },
   "outputs": [],
   "source": [
    "forecast_na_cols = ['nmme0-tmp2m-34w__ccsm30',\n",
    " 'nmme-tmp2m-56w__ccsm3',\n",
    " 'nmme-prate-34w__ccsm3',\n",
    " 'nmme0-prate-56w__ccsm30',\n",
    " 'nmme0-prate-34w__ccsm30',\n",
    " 'nmme-prate-56w__ccsm3',\n",
    " 'nmme-tmp2m-34w__ccsm3']\n",
    "\n",
    "\n",
    "forecast_mean_cols = ['nmme0-tmp2m-34w__nmme0mean', \n",
    " 'nmme-tmp2m-56w__nmmemean', \n",
    " 'nmme-prate-34w__nmmemean', \n",
    " 'nmme0-prate-56w__nmme0mean', \n",
    " 'nmme0-prate-34w__nmme0mean', \n",
    " 'nmme-prate-56w__nmmemean', \n",
    " 'nmme-tmp2m-34w__nmmemean']\n",
    "\n",
    "\n",
    "nmme0_tmp2m_34w = ['nmme0-tmp2m-34w__cancm30',\n",
    "'nmme0-tmp2m-34w__cancm40',\n",
    "'nmme0-tmp2m-34w__ccsm40',\n",
    "'nmme0-tmp2m-34w__cfsv20',\n",
    "'nmme0-tmp2m-34w__gfdlflora0',\n",
    "'nmme0-tmp2m-34w__gfdlflorb0',\n",
    "'nmme0-tmp2m-34w__gfdl0',\n",
    "'nmme0-tmp2m-34w__nasa0']\n",
    "\n",
    "nmme_tmp2m_56w = ['nmme-tmp2m-56w__cancm3',\n",
    "'nmme-tmp2m-56w__cancm4',\n",
    "'nmme-tmp2m-56w__ccsm4',\n",
    "'nmme-tmp2m-56w__cfsv2',\n",
    "'nmme-tmp2m-56w__gfdl',\n",
    "'nmme-tmp2m-56w__gfdlflora',\n",
    "'nmme-tmp2m-56w__gfdlflorb',\n",
    "'nmme-tmp2m-56w__nasa']\n",
    "\n",
    "nmme_prate_34w = ['nmme-prate-34w__cancm3',\n",
    "'nmme-prate-34w__cancm4',\n",
    "'nmme-prate-34w__ccsm4',\n",
    "'nmme-prate-34w__cfsv2',\n",
    "'nmme-prate-34w__gfdl',\n",
    "'nmme-prate-34w__gfdlflora',\n",
    "'nmme-prate-34w__gfdlflorb',\n",
    "'nmme-prate-34w__nasa']\n",
    "\n",
    "nmme0_prate_56w = [ 'nmme0-prate-56w__cancm30',\n",
    "'nmme0-prate-56w__cancm40',\n",
    "'nmme0-prate-56w__ccsm40',\n",
    "'nmme0-prate-56w__cfsv20',\n",
    "'nmme0-prate-56w__gfdlflora0',\n",
    "'nmme0-prate-56w__gfdlflorb0',\n",
    "'nmme0-prate-56w__gfdl0',\n",
    "'nmme0-prate-56w__nasa0']\n",
    "\n",
    "nmme0_prate_34w = ['nmme0-prate-34w__cancm30',\n",
    "'nmme0-prate-34w__cancm40',\n",
    "'nmme0-prate-34w__ccsm40',\n",
    "'nmme0-prate-34w__cfsv20',\n",
    "'nmme0-prate-34w__gfdlflora0',\n",
    "'nmme0-prate-34w__gfdlflorb0',\n",
    "'nmme0-prate-34w__gfdl0',\n",
    "'nmme0-prate-34w__nasa0']\n",
    "\n",
    "nmme_prate_56w = ['nmme-prate-56w__cancm3',\n",
    "'nmme-prate-56w__cancm4',\n",
    "'nmme-prate-56w__ccsm4',\n",
    "'nmme-prate-56w__cfsv2',\n",
    "'nmme-prate-56w__gfdl',\n",
    "'nmme-prate-56w__gfdlflora',\n",
    "'nmme-prate-56w__gfdlflorb',\n",
    "'nmme-prate-56w__nasa']\n",
    "\n",
    "nmme_tmp2m_34w = ['nmme-tmp2m-34w__cancm3',\n",
    "'nmme-tmp2m-34w__cancm4',\n",
    "'nmme-tmp2m-34w__ccsm4',\n",
    "'nmme-tmp2m-34w__cfsv2',\n",
    "'nmme-tmp2m-34w__gfdl',\n",
    "'nmme-tmp2m-34w__gfdlflora',\n",
    "'nmme-tmp2m-34w__gfdlflorb',\n",
    "'nmme-tmp2m-34w__nasa']\n",
    "\n",
    "forecast_cols = [nmme0_tmp2m_34w, nmme_tmp2m_56w, nmme_prate_34w, nmme0_prate_56w, nmme0_prate_34w, nmme_prate_56w, nmme_tmp2m_34w]"
   ]
  },
  {
   "cell_type": "code",
   "execution_count": 12,
   "metadata": {
    "tags": []
   },
   "outputs": [],
   "source": [
    "def impute_missing_values(df):\n",
    "\n",
    "    for i, na_col in enumerate(forecast_na_cols):\n",
    "        total = df[forecast_mean_cols[i]] * 9\n",
    "        sum_of_8_forecast = df[forecast_cols[i]].sum(axis=1)\n",
    "        df[na_col] = total - sum_of_8_forecast\n",
    "        \n",
    "    return df"
   ]
  },
  {
   "cell_type": "code",
   "execution_count": 13,
   "metadata": {
    "tags": []
   },
   "outputs": [],
   "source": [
    "df = impute_missing_values(df)"
   ]
  },
  {
   "cell_type": "markdown",
   "metadata": {},
   "source": [
    "We will just drop the `ccsm30` column as it's redundant.\n"
   ]
  },
  {
   "cell_type": "code",
   "execution_count": 14,
   "metadata": {
    "tags": []
   },
   "outputs": [],
   "source": [
    "def drop_redundant_col(df):\n",
    "    \n",
    "    df.drop(['ccsm30'], axis=1, inplace=True)\n",
    "    \n",
    "    return df"
   ]
  },
  {
   "cell_type": "code",
   "execution_count": 15,
   "metadata": {
    "tags": []
   },
   "outputs": [],
   "source": [
    "df = drop_redundant_col(df)"
   ]
  },
  {
   "cell_type": "markdown",
   "metadata": {},
   "source": [
    "Now we no longer have missing values.\n"
   ]
  },
  {
   "cell_type": "code",
   "execution_count": 16,
   "metadata": {
    "tags": []
   },
   "outputs": [
    {
     "data": {
      "text/plain": [
       "0"
      ]
     },
     "execution_count": 16,
     "metadata": {},
     "output_type": "execute_result"
    }
   ],
   "source": [
    "df.isnull().sum().sum()"
   ]
  },
  {
   "cell_type": "markdown",
   "metadata": {},
   "source": [
    "## Feature Selection and Lasso Regressions (to Obtain Residuals)\n"
   ]
  },
  {
   "cell_type": "markdown",
   "metadata": {},
   "source": [
    "Boosting algorithms are normally used to predict the residuals of the base models' predictions. To obtain these residuals, we can first fit linear regressions to the data with some regularization. To account for the fact that different locations might have different relationships between its predictors and its response variable, we fit 514 different linear regressions and collect their residuals.\n"
   ]
  },
  {
   "cell_type": "markdown",
   "metadata": {},
   "source": [
    "### Train, Validation, Test split\n"
   ]
  },
  {
   "cell_type": "markdown",
   "metadata": {},
   "source": [
    "We sort the data used for fitting linear regressions by location group and start date. We split the data so that for each location group, data between 2014-09-1 and 2015-11-15 are used for training, data between 2015-11-15 and 2016-04-08 are used for validation, and data between 2016-04-08 and 2016-08-31 are used for testing. By doing so, we maintain a **6:2:2** ratio of train, validation, and test split.\n"
   ]
  },
  {
   "cell_type": "code",
   "execution_count": 17,
   "metadata": {
    "tags": []
   },
   "outputs": [],
   "source": [
    "df.sort_values(by=['loc_group', 'startdate'], inplace=True, ignore_index=True)"
   ]
  },
  {
   "cell_type": "code",
   "execution_count": 18,
   "metadata": {
    "tags": []
   },
   "outputs": [
    {
     "data": {
      "text/html": [
       "<div>\n",
       "<style scoped>\n",
       "    .dataframe tbody tr th:only-of-type {\n",
       "        vertical-align: middle;\n",
       "    }\n",
       "\n",
       "    .dataframe tbody tr th {\n",
       "        vertical-align: top;\n",
       "    }\n",
       "\n",
       "    .dataframe thead th {\n",
       "        text-align: right;\n",
       "    }\n",
       "</style>\n",
       "<table border=\"1\" class=\"dataframe\">\n",
       "  <thead>\n",
       "    <tr style=\"text-align: right;\">\n",
       "      <th></th>\n",
       "      <th>lat</th>\n",
       "      <th>lon</th>\n",
       "      <th>startdate</th>\n",
       "      <th>contest-pevpr-sfc-gauss-14d__pevpr</th>\n",
       "      <th>nmme0-tmp2m-34w__cancm30</th>\n",
       "      <th>nmme0-tmp2m-34w__cancm40</th>\n",
       "      <th>nmme0-tmp2m-34w__ccsm30</th>\n",
       "      <th>nmme0-tmp2m-34w__ccsm40</th>\n",
       "      <th>nmme0-tmp2m-34w__cfsv20</th>\n",
       "      <th>nmme0-tmp2m-34w__gfdlflora0</th>\n",
       "      <th>...</th>\n",
       "      <th>wind-vwnd-925-2010-12</th>\n",
       "      <th>wind-vwnd-925-2010-13</th>\n",
       "      <th>wind-vwnd-925-2010-14</th>\n",
       "      <th>wind-vwnd-925-2010-15</th>\n",
       "      <th>wind-vwnd-925-2010-16</th>\n",
       "      <th>wind-vwnd-925-2010-17</th>\n",
       "      <th>wind-vwnd-925-2010-18</th>\n",
       "      <th>wind-vwnd-925-2010-19</th>\n",
       "      <th>wind-vwnd-925-2010-20</th>\n",
       "      <th>loc_group</th>\n",
       "    </tr>\n",
       "  </thead>\n",
       "  <tbody>\n",
       "    <tr>\n",
       "      <th>0</th>\n",
       "      <td>0.590909</td>\n",
       "      <td>0.0</td>\n",
       "      <td>2014-09-01</td>\n",
       "      <td>731.27</td>\n",
       "      <td>24.08</td>\n",
       "      <td>23.28</td>\n",
       "      <td>19.34</td>\n",
       "      <td>20.35</td>\n",
       "      <td>17.97</td>\n",
       "      <td>19.48</td>\n",
       "      <td>...</td>\n",
       "      <td>-37.21</td>\n",
       "      <td>8.32</td>\n",
       "      <td>9.56</td>\n",
       "      <td>-2.03</td>\n",
       "      <td>48.13</td>\n",
       "      <td>28.09</td>\n",
       "      <td>-13.50</td>\n",
       "      <td>11.90</td>\n",
       "      <td>4.58</td>\n",
       "      <td>0</td>\n",
       "    </tr>\n",
       "    <tr>\n",
       "      <th>1</th>\n",
       "      <td>0.590909</td>\n",
       "      <td>0.0</td>\n",
       "      <td>2014-09-02</td>\n",
       "      <td>711.89</td>\n",
       "      <td>24.08</td>\n",
       "      <td>23.28</td>\n",
       "      <td>19.34</td>\n",
       "      <td>20.35</td>\n",
       "      <td>17.97</td>\n",
       "      <td>19.48</td>\n",
       "      <td>...</td>\n",
       "      <td>-36.57</td>\n",
       "      <td>8.77</td>\n",
       "      <td>21.17</td>\n",
       "      <td>4.44</td>\n",
       "      <td>48.60</td>\n",
       "      <td>27.41</td>\n",
       "      <td>-23.77</td>\n",
       "      <td>15.44</td>\n",
       "      <td>3.42</td>\n",
       "      <td>0</td>\n",
       "    </tr>\n",
       "    <tr>\n",
       "      <th>2</th>\n",
       "      <td>0.590909</td>\n",
       "      <td>0.0</td>\n",
       "      <td>2014-09-03</td>\n",
       "      <td>683.18</td>\n",
       "      <td>24.08</td>\n",
       "      <td>23.28</td>\n",
       "      <td>19.34</td>\n",
       "      <td>20.35</td>\n",
       "      <td>17.97</td>\n",
       "      <td>19.48</td>\n",
       "      <td>...</td>\n",
       "      <td>-34.16</td>\n",
       "      <td>6.99</td>\n",
       "      <td>32.16</td>\n",
       "      <td>5.01</td>\n",
       "      <td>48.53</td>\n",
       "      <td>19.21</td>\n",
       "      <td>-33.16</td>\n",
       "      <td>15.11</td>\n",
       "      <td>4.82</td>\n",
       "      <td>0</td>\n",
       "    </tr>\n",
       "    <tr>\n",
       "      <th>3</th>\n",
       "      <td>0.590909</td>\n",
       "      <td>0.0</td>\n",
       "      <td>2014-09-04</td>\n",
       "      <td>649.02</td>\n",
       "      <td>24.08</td>\n",
       "      <td>23.28</td>\n",
       "      <td>19.34</td>\n",
       "      <td>20.35</td>\n",
       "      <td>17.97</td>\n",
       "      <td>19.48</td>\n",
       "      <td>...</td>\n",
       "      <td>-31.04</td>\n",
       "      <td>6.17</td>\n",
       "      <td>39.66</td>\n",
       "      <td>-1.41</td>\n",
       "      <td>50.59</td>\n",
       "      <td>8.29</td>\n",
       "      <td>-37.22</td>\n",
       "      <td>18.24</td>\n",
       "      <td>9.74</td>\n",
       "      <td>0</td>\n",
       "    </tr>\n",
       "    <tr>\n",
       "      <th>4</th>\n",
       "      <td>0.590909</td>\n",
       "      <td>0.0</td>\n",
       "      <td>2014-09-05</td>\n",
       "      <td>582.21</td>\n",
       "      <td>24.08</td>\n",
       "      <td>23.28</td>\n",
       "      <td>19.34</td>\n",
       "      <td>20.35</td>\n",
       "      <td>17.97</td>\n",
       "      <td>19.48</td>\n",
       "      <td>...</td>\n",
       "      <td>-31.80</td>\n",
       "      <td>7.47</td>\n",
       "      <td>38.62</td>\n",
       "      <td>-5.21</td>\n",
       "      <td>54.73</td>\n",
       "      <td>-2.58</td>\n",
       "      <td>-42.30</td>\n",
       "      <td>21.91</td>\n",
       "      <td>10.95</td>\n",
       "      <td>0</td>\n",
       "    </tr>\n",
       "  </tbody>\n",
       "</table>\n",
       "<p>5 rows × 245 columns</p>\n",
       "</div>"
      ],
      "text/plain": [
       "        lat  lon  startdate  contest-pevpr-sfc-gauss-14d__pevpr  \\\n",
       "0  0.590909  0.0 2014-09-01                              731.27   \n",
       "1  0.590909  0.0 2014-09-02                              711.89   \n",
       "2  0.590909  0.0 2014-09-03                              683.18   \n",
       "3  0.590909  0.0 2014-09-04                              649.02   \n",
       "4  0.590909  0.0 2014-09-05                              582.21   \n",
       "\n",
       "   nmme0-tmp2m-34w__cancm30  nmme0-tmp2m-34w__cancm40  \\\n",
       "0                     24.08                     23.28   \n",
       "1                     24.08                     23.28   \n",
       "2                     24.08                     23.28   \n",
       "3                     24.08                     23.28   \n",
       "4                     24.08                     23.28   \n",
       "\n",
       "   nmme0-tmp2m-34w__ccsm30  nmme0-tmp2m-34w__ccsm40  nmme0-tmp2m-34w__cfsv20  \\\n",
       "0                    19.34                    20.35                    17.97   \n",
       "1                    19.34                    20.35                    17.97   \n",
       "2                    19.34                    20.35                    17.97   \n",
       "3                    19.34                    20.35                    17.97   \n",
       "4                    19.34                    20.35                    17.97   \n",
       "\n",
       "   nmme0-tmp2m-34w__gfdlflora0  ...  wind-vwnd-925-2010-12  \\\n",
       "0                        19.48  ...                 -37.21   \n",
       "1                        19.48  ...                 -36.57   \n",
       "2                        19.48  ...                 -34.16   \n",
       "3                        19.48  ...                 -31.04   \n",
       "4                        19.48  ...                 -31.80   \n",
       "\n",
       "   wind-vwnd-925-2010-13  wind-vwnd-925-2010-14  wind-vwnd-925-2010-15  \\\n",
       "0                   8.32                   9.56                  -2.03   \n",
       "1                   8.77                  21.17                   4.44   \n",
       "2                   6.99                  32.16                   5.01   \n",
       "3                   6.17                  39.66                  -1.41   \n",
       "4                   7.47                  38.62                  -5.21   \n",
       "\n",
       "   wind-vwnd-925-2010-16  wind-vwnd-925-2010-17  wind-vwnd-925-2010-18  \\\n",
       "0                  48.13                  28.09                 -13.50   \n",
       "1                  48.60                  27.41                 -23.77   \n",
       "2                  48.53                  19.21                 -33.16   \n",
       "3                  50.59                   8.29                 -37.22   \n",
       "4                  54.73                  -2.58                 -42.30   \n",
       "\n",
       "   wind-vwnd-925-2010-19  wind-vwnd-925-2010-20  loc_group  \n",
       "0                  11.90                   4.58          0  \n",
       "1                  15.44                   3.42          0  \n",
       "2                  15.11                   4.82          0  \n",
       "3                  18.24                   9.74          0  \n",
       "4                  21.91                  10.95          0  \n",
       "\n",
       "[5 rows x 245 columns]"
      ]
     },
     "execution_count": 18,
     "metadata": {},
     "output_type": "execute_result"
    }
   ],
   "source": [
    "df.head()"
   ]
  },
  {
   "cell_type": "code",
   "execution_count": 19,
   "metadata": {
    "tags": []
   },
   "outputs": [
    {
     "name": "stdout",
     "output_type": "stream",
     "text": [
      "Train_shape: (226674, 245)  |  Val_shape: (74530, 245)   |  Test_shape: (74530, 245)\n"
     ]
    }
   ],
   "source": [
    "train = df[df[\"startdate\"] <= pd.datetime(2015, 11, 15)]\n",
    "val = df[(df[\"startdate\"] > pd.datetime(2015, 11, 15)) & (df[\"startdate\"] <= pd.datetime(2016, 4, 8))]\n",
    "test = df[df[\"startdate\"] > pd.datetime(2016, 4, 8)]\n",
    "\n",
    "print(f'Train_shape: {train.shape}  |  Val_shape: {val.shape}   |  Test_shape: {test.shape}')"
   ]
  },
  {
   "cell_type": "markdown",
   "metadata": {},
   "source": [
    "### Feature Selection For Linear Regression\n"
   ]
  },
  {
   "cell_type": "markdown",
   "metadata": {},
   "source": [
    "Since we are fitting linear regression models, predictors that have high linear correlation with the response variable will give us better model fitting results. Thus, we select some features based on this criterion, hoping that the selected features could explain any underlying linear relationships.\n",
    "\n",
    "The first set of potential features we will look at are the ones whose names contain \"14d\", which indicates that they are measured over the same time frame as the target variable and thus they have higher chance of being linearly correlated with the target.\n"
   ]
  },
  {
   "cell_type": "code",
   "execution_count": 20,
   "metadata": {
    "tags": []
   },
   "outputs": [
    {
     "name": "stdout",
     "output_type": "stream",
     "text": [
      "contest-pevpr-sfc-gauss-14d__pevpr 0.8053009996220467\n",
      "contest-wind-h100-14d__wind-hgt-100 0.898186990483465\n",
      "contest-wind-h500-14d__wind-hgt-500 0.8841771695589746\n"
     ]
    }
   ],
   "source": [
    "LR_cols = []\n",
    "\n",
    "for col in df.columns:\n",
    "    if '14d' in col and col != target:\n",
    "        corr = df[[col, target]].corr().iloc[0,1]\n",
    "        if np.abs(corr) > 0.8: \n",
    "            print(col, corr)\n",
    "            LR_cols.append(col)"
   ]
  },
  {
   "cell_type": "markdown",
   "metadata": {},
   "source": [
    "By setting 0.8 as the threshold, we identified three features with high linear correlations with the target.\n"
   ]
  },
  {
   "cell_type": "markdown",
   "metadata": {},
   "source": [
    "Another potential set of features are the NMME model forecasts as they are purely physics-based models which forecast weather-related information such as precipitation. Hence, they have the potential of providing us with some meaningful insights. We have the following prefixes, each of them is associated with the NMME model forecasts over a specific time frame:\n"
   ]
  },
  {
   "cell_type": "code",
   "execution_count": 21,
   "metadata": {
    "tags": []
   },
   "outputs": [
    {
     "data": {
      "text/plain": [
       "['nmme0-tmp2m-34w',\n",
       " 'nmme-tmp2m-56w',\n",
       " 'nmme-prate-34w',\n",
       " 'nmme0-prate-34w',\n",
       " 'nmme0-prate-56w',\n",
       " 'nmme-prate-56w',\n",
       " 'nmme-tmp2m-34w']"
      ]
     },
     "execution_count": 21,
     "metadata": {},
     "output_type": "execute_result"
    }
   ],
   "source": [
    "prefixs = []\n",
    "\n",
    "for col in df.columns:\n",
    "    if '34w' in col or '56w' in col:\n",
    "        prefix = col.split(\"__\")[0]\n",
    "        prefixs.append(prefix)\n",
    "\n",
    "prefixs = list(set(prefixs))\n",
    "prefixs"
   ]
  },
  {
   "cell_type": "markdown",
   "metadata": {},
   "source": [
    "Since there are many columns sharing the same prefix, let's see if information contained in columns sharing a prefix can be \"summarized\" by linear PCA.\n"
   ]
  },
  {
   "cell_type": "code",
   "execution_count": 22,
   "metadata": {
    "tags": []
   },
   "outputs": [
    {
     "name": "stdout",
     "output_type": "stream",
     "text": [
      "nmme0-tmp2m-34w | pca1 explained variance: 0.9766670636760262\n",
      "pca1 vs target corr: -0.8510460209544366\n",
      "\n",
      "nmme-tmp2m-56w | pca1 explained variance: 0.974571519979762\n",
      "pca1 vs target corr: -0.9507973950481766\n",
      "\n",
      "nmme-prate-34w | pca1 explained variance: 0.7614083062894695\n",
      "pca1 vs target corr: -0.17623054345157405\n",
      "\n",
      "nmme0-prate-34w | pca1 explained variance: 0.7204595742942378\n",
      "pca1 vs target corr: -0.053929212683081144\n",
      "\n",
      "nmme0-prate-56w | pca1 explained variance: 0.7200377592939774\n",
      "pca1 vs target corr: -0.001827811333559654\n",
      "\n",
      "nmme-prate-56w | pca1 explained variance: 0.7560619762229117\n",
      "pca1 vs target corr: -0.16866080996153748\n",
      "\n",
      "nmme-tmp2m-34w | pca1 explained variance: 0.9718817675543961\n",
      "pca1 vs target corr: -0.9501574246213689\n",
      "\n"
     ]
    }
   ],
   "source": [
    "pca = PCA(n_components=1)\n",
    "y = np.array(df[target]).reshape(1, -1)\n",
    "\n",
    "for prefix in prefixs:\n",
    "    \n",
    "    cols = [col for col in df.columns if prefix in col and 'mean' not in col]\n",
    "    pca1 = pca.fit_transform(df[cols]).reshape(1, -1)\n",
    "    print(prefix, f\"| pca1 explained variance: {pca.explained_variance_ratio_[0]}\")\n",
    "    print(f\"pca1 vs target corr: {np.corrcoef(pca1, y)[1,0]}\")\n",
    "    print()"
   ]
  },
  {
   "cell_type": "markdown",
   "metadata": {},
   "source": [
    "From the above result, we can conclude that for \"nmme0-tmp2m-34\", \"nmme-tmp2m-56w\", and \"nmme-tmp2m-34w\" forecasts, the contained information can be summarized by the first principal component and the first principal component is highly correlated with the target (|correlation| > 0.8). \n"
   ]
  },
  {
   "cell_type": "code",
   "execution_count": 23,
   "metadata": {
    "tags": []
   },
   "outputs": [],
   "source": [
    "corr_prefix = ['nmme0-tmp2m-34w', 'nmme-tmp2m-34w', 'nmme-tmp2m-56w']\n",
    "\n",
    "corr_prefix_cols = [nmme0_tmp2m_34w, nmme_tmp2m_34w, nmme_tmp2m_56w]\n",
    "    \n",
    "for prefix, cols in zip(corr_prefix, corr_prefix_cols):\n",
    "    pc_name = prefix + '-pc'\n",
    "    pca = PCA(n_components=1)\n",
    "    pca.fit(df[cols])\n",
    "    for ds in [train, val, test]:\n",
    "        ds[pc_name] = pca.fit_transform(ds[cols])"
   ]
  },
  {
   "cell_type": "code",
   "execution_count": 24,
   "metadata": {
    "tags": []
   },
   "outputs": [
    {
     "data": {
      "text/plain": [
       "['contest-pevpr-sfc-gauss-14d__pevpr',\n",
       " 'contest-wind-h100-14d__wind-hgt-100',\n",
       " 'contest-wind-h500-14d__wind-hgt-500',\n",
       " 'nmme0-tmp2m-34w-pc',\n",
       " 'nmme-tmp2m-34w-pc',\n",
       " 'nmme-tmp2m-56w-pc']"
      ]
     },
     "execution_count": 24,
     "metadata": {},
     "output_type": "execute_result"
    }
   ],
   "source": [
    "LR_cols = LR_cols + [prefix+'-pc' for prefix in corr_prefix]\n",
    "LR_cols"
   ]
  },
  {
   "cell_type": "markdown",
   "metadata": {},
   "source": [
    "Now we have 6 continuous variables for fitting linear regressions, we can examine the remaining variables and select them as features if they have high linear correlations with our target.\n"
   ]
  },
  {
   "cell_type": "code",
   "execution_count": 25,
   "metadata": {
    "tags": []
   },
   "outputs": [
    {
     "name": "stdout",
     "output_type": "stream",
     "text": [
      "contest-tmp2m-14d__tmp2m 1.0\n",
      "wind-hgt-500-2010-1 -0.8060782090050108\n",
      "wind-hgt-10-2010-1 -0.8157008804019407\n",
      "wind-hgt-100-2010-1 -0.802239950441264\n",
      "wind-vwnd-925-2010-1 -0.8073710173926125\n"
     ]
    }
   ],
   "source": [
    "for col in df.columns:\n",
    "    \n",
    "    if df[col].dtype == 'float64' and col not in LR_cols and 'nmme0-tmp2m-34w' not in col and 'nmme-tmp2m-34w' not in col and 'nmme-tmp2m-56w' not in col:      \n",
    "        corr = df[[col, target]].corr().iloc[0,1]\n",
    "        if np.abs(corr) > 0.8:\n",
    "            LR_cols.append(col)\n",
    "            print(col, corr)"
   ]
  },
  {
   "cell_type": "markdown",
   "metadata": {},
   "source": [
    "We now have 10 continuous predictors for fitting linear regressions. They are:\n"
   ]
  },
  {
   "cell_type": "code",
   "execution_count": 26,
   "metadata": {
    "tags": []
   },
   "outputs": [
    {
     "data": {
      "text/plain": [
       "['contest-pevpr-sfc-gauss-14d__pevpr',\n",
       " 'contest-wind-h100-14d__wind-hgt-100',\n",
       " 'contest-wind-h500-14d__wind-hgt-500',\n",
       " 'nmme0-tmp2m-34w-pc',\n",
       " 'nmme-tmp2m-34w-pc',\n",
       " 'nmme-tmp2m-56w-pc',\n",
       " 'wind-hgt-500-2010-1',\n",
       " 'wind-hgt-10-2010-1',\n",
       " 'wind-hgt-100-2010-1',\n",
       " 'wind-vwnd-925-2010-1']"
      ]
     },
     "execution_count": 26,
     "metadata": {},
     "output_type": "execute_result"
    }
   ],
   "source": [
    "LR_cols = [col for col in LR_cols if col != target]\n",
    "LR_cols"
   ]
  },
  {
   "cell_type": "markdown",
   "metadata": {},
   "source": [
    "### Selecting Alpha and Fitting Linear Regressions (to Obtain Residuals)\n"
   ]
  },
  {
   "cell_type": "markdown",
   "metadata": {},
   "source": [
    "We use the following defined function `LR_models` to help us fit 514 linear regressions to the weather data of 514 different locations. Notice that the function takes three parameters:\n",
    "\n",
    "- `alpha`: float, regularization parameter shared by the 514 linear regressions\n",
    "\n",
    "- `selected_feats`: list of strings, selected features for fitting linear regressions to the data\n",
    "\n",
    "- `shift_feats`: boolean, True if we want to shift the `..-34w-..` and `..-56w-..` features backward by 14 and 28 days respectively, by location group.\n",
    "\n",
    "The function will return the training rmse and validation rmse.\n"
   ]
  },
  {
   "cell_type": "code",
   "execution_count": 27,
   "metadata": {
    "tags": []
   },
   "outputs": [],
   "source": [
    "def LR_models(alpha, selected_feats, shift_feats):\n",
    "    \n",
    "    # new train and vaidation dataset containing only the selected features\n",
    "    X_train, y_train = train[selected_feats], train[target]\n",
    "    X_val, y_val = val[selected_feats], val[target]\n",
    "\n",
    "    train_se = 0\n",
    "    val_se = 0\n",
    "\n",
    "    # loop through 514 different locations, \n",
    "    # for each location we create a machine learning pipeline and fit a linear regression model\n",
    "    for i in range(df.loc_group.nunique()):\n",
    "\n",
    "        # train and validation dataset for the ith location\n",
    "        X1_train = X_train[train[\"loc_group\"]==i]\n",
    "        y1_train = y_train[train[\"loc_group\"]==i]\n",
    "        X1_val = X_val[val[\"loc_group\"]==i]\n",
    "        y1_val = y_val[val[\"loc_group\"]==i]\n",
    "\n",
    "        # collect the indices of the observations, which we will use to recover the train and val split of the data\n",
    "        t_index = X_train[train[\"loc_group\"]==i].index\n",
    "        v_index = X_val[val[\"loc_group\"]==i].index\n",
    "\n",
    "        # if shift_feats, we combine the train and val set to shift the \"34w\" and \"56w\" features \n",
    "        if shift_feats == True and np.any(['34w' in col or '56w' in col for col in selected_feats]):\n",
    "            X1_conc = pd.concat([X1_train, X1_val])           \n",
    "            for col in selected_feats:\n",
    "                if '34w' in col:\n",
    "                    X1_conc[col] = X1_conc[col].shift(-14).ffill()\n",
    "                if '56w' in col:\n",
    "                    X1_conc[col] = X1_conc[col].shift(-28).ffill()\n",
    "\n",
    "            # we recover the train and val set by their respective list of indices\n",
    "            X1_train = X1_conc.loc[t_index, :]\n",
    "            X1_val = X1_conc.loc[v_index, :]\n",
    "        \n",
    "        # scale the data\n",
    "        ss = StandardScaler()\n",
    "        X1_train_ss = ss.fit_transform(X1_train)\n",
    "        X1_val_ss = ss.transform(X1_val)\n",
    "\n",
    "        # fit the linear regression model with alpha as the regularization parameter\n",
    "        LR = Lasso(alpha=alpha, max_iter=10000)\n",
    "        LR.fit(X1_train_ss, y1_train)\n",
    "        y1_train_pred = LR.predict(X1_train_ss)\n",
    "        y1_val_pred = LR.predict(X1_val_ss)\n",
    "        \n",
    "        # accumulate the total squared errors by the sum of squared errors from the ith location\n",
    "        train_se += mean_squared_error(y1_train, y1_train_pred) * len(t_index)\n",
    "        val_se += mean_squared_error(y1_val, y1_val_pred) * len(v_index)\n",
    "        \n",
    "    # return the root mean squared error of train and validation set\n",
    "    train_rmse = np.round(np.sqrt(train_se / X_train.shape[0]), 3)\n",
    "    val_rmse = np.round(np.sqrt(val_se / X_val.shape[0]), 3)\n",
    "    \n",
    "    return train_rmse, val_rmse"
   ]
  },
  {
   "cell_type": "markdown",
   "metadata": {},
   "source": [
    "One important parameter in fitting Linear Regressions is the `alpha` parameter. Here we are going to try a list of different alphas and then look at the root mean squared error of the training and validation dataset. \n"
   ]
  },
  {
   "cell_type": "code",
   "execution_count": 28,
   "metadata": {
    "tags": []
   },
   "outputs": [
    {
     "name": "stdout",
     "output_type": "stream",
     "text": [
      "alpha = 0.001...\n",
      "alpha = 0.01...\n",
      "alpha = 0.05...\n",
      "alpha = 0.1...\n",
      "alpha = 0.15...\n",
      "alpha = 0.2...\n",
      "alpha = 0.25...\n",
      "alpha = 0.3...\n",
      "alpha = 0.5...\n",
      "alpha = 0.8...\n",
      "alpha = 1...\n",
      "alpha = 1.5...\n",
      "alpha = 2...\n",
      "alpha = 2.5...\n",
      "alpha = 3...\n",
      "alpha = 3.5...\n",
      "alpha = 4...\n"
     ]
    }
   ],
   "source": [
    "train_rmses = []\n",
    "val_rmses = []\n",
    "alphas = [0.001, 0.01, 0.05, 0.1, 0.15, 0.2, 0.25, 0.3, 0.5, 0.8, 1, 1.5, 2, 2.5, 3, 3.5, 4]\n",
    "\n",
    "for alpha in alphas:\n",
    "    \n",
    "    print(f\"alpha = {alpha}...\")\n",
    "    train_rmse, val_rmse = LR_models(alpha, LR_cols, True)\n",
    "    train_rmses.append(train_rmse)\n",
    "    val_rmses.append(val_rmse)"
   ]
  },
  {
   "cell_type": "code",
   "execution_count": 29,
   "metadata": {
    "tags": []
   },
   "outputs": [
    {
     "data": {
      "image/png": "[encoded data removed]",
      "text/plain": [
       "<Figure size 640x480 with 1 Axes>"
      ]
     },
     "metadata": {},
     "output_type": "display_data"
    }
   ],
   "source": [
    "plt.plot(alphas, train_rmses, 'o-', label=\"train rmse\")\n",
    "plt.plot(alphas, val_rmses,'o-', label=\"val rmse\")\n",
    "plt.plot(alphas, np.array(val_rmses)-np.array(train_rmses), 'o-', label=\"val-train rmse\")\n",
    "\n",
    "for i in np.arange(8, len(alphas)):\n",
    "    plt.annotate(f\"{np.round(val_rmses[i]-train_rmses[i], 2)}\", (alphas[i], val_rmses[i]-train_rmses[i]))\n",
    "\n",
    "plt.xlabel(\"lasso regression alpha\")\n",
    "plt.ylabel(\"rmse\")\n",
    "plt.legend(loc='best')\n",
    "plt.show()"
   ]
  },
  {
   "cell_type": "markdown",
   "metadata": {},
   "source": [
    "We want the error value to be as small as possible but we also don't want the models to overfit to the training data. Thus, to take both the error metric and the overfitting problem into account, we decide to use **alpha = 2** to create the linear regression residuals.\n"
   ]
  },
  {
   "cell_type": "markdown",
   "metadata": {},
   "source": [
    "To obtain the residuals from the linear regressions, we are going to modify the `LR_models` function. Note that we don't need the `alpha` argument in the function anymore as it's now a fixed value.\n",
    "\n",
    "To have more training data to learn the 514 linear regressions, we are going to combine `train` and `val` into one new training dataset and we call it `train2`.\n"
   ]
  },
  {
   "cell_type": "code",
   "execution_count": 30,
   "metadata": {
    "tags": []
   },
   "outputs": [
    {
     "name": "stdout",
     "output_type": "stream",
     "text": [
      "Train2_shape: (301204, 248)  |  Test_shape: (74530, 248)\n"
     ]
    }
   ],
   "source": [
    "train2 = pd.concat([train, val], axis=0)\n",
    "print(f'Train2_shape: {train2.shape}  |  Test_shape: {test.shape}')"
   ]
  },
  {
   "cell_type": "markdown",
   "metadata": {},
   "source": [
    "Here is the modified function for obtaining linear regression residuals. It will return the fitted residuals as well as the predictions for the entire dataset.\n"
   ]
  },
  {
   "cell_type": "code",
   "execution_count": 31,
   "metadata": {
    "tags": []
   },
   "outputs": [],
   "source": [
    "def LR_models_residuals(selected_feats, shift_feats):\n",
    "    \n",
    "    # new train and test dataset containing only the selected features\n",
    "    X_train, y_train = train2[selected_feats], train2[target]\n",
    "    X_test, y_test = test[selected_feats], test[target]\n",
    "\n",
    "    pred_residuals = np.zeros(df.shape[0])\n",
    "    predictions = np.zeros(df.shape[0])\n",
    "\n",
    "    # loop through 514 different locations, \n",
    "    # for each location we create a machine learning pipeline and fit a linear regression model\n",
    "    for i in range(df.loc_group.nunique()):\n",
    "\n",
    "        # train and test dataset for the ith location\n",
    "        X1_train = X_train[train2[\"loc_group\"]==i]\n",
    "        y1_train = y_train[train2[\"loc_group\"]==i]\n",
    "        X1_test = X_test[test[\"loc_group\"]==i]\n",
    "        y1_test = y_test[test[\"loc_group\"]==i]\n",
    "\n",
    "        # collect the indices of the observations, which we will use to recover the train and test split of the data\n",
    "        t_index = X_train[train2[\"loc_group\"]==i].index\n",
    "        te_index = X_test[test[\"loc_group\"]==i].index\n",
    "\n",
    "        # if shift_feats, we combine the train and test set to shift the \"34w\" and \"56w\" features \n",
    "        if shift_feats == True and np.any(['34w' in col or '56w' in col for col in selected_feats]):\n",
    "            X1_conc = pd.concat([X1_train, X1_test])           \n",
    "            for col in selected_feats:\n",
    "                if '34w' in col:\n",
    "                    X1_conc[col] = X1_conc[col].shift(-14).ffill()\n",
    "                if '56w' in col:\n",
    "                    X1_conc[col] = X1_conc[col].shift(-28).ffill()\n",
    "\n",
    "            # we recover the train and test set by their respective list of indices\n",
    "            X1_train = X1_conc.loc[t_index, :]\n",
    "            X1_test = X1_conc.loc[te_index, :]\n",
    "        \n",
    "        # scale the data\n",
    "        ss = StandardScaler()\n",
    "        X1_train_ss = ss.fit_transform(X1_train)\n",
    "        X1_test_ss = ss.transform(X1_test)\n",
    "\n",
    "        # fit the linear regression model with alpha = 2.0 as the regularization parameter\n",
    "        LR = Lasso(alpha=2.0, max_iter=10000)\n",
    "        LR.fit(X1_train_ss, y1_train)\n",
    "        y1_train_pred = LR.predict(X1_train_ss)\n",
    "        y1_test_pred = LR.predict(X1_test_ss)\n",
    "        predictions[t_index] = y1_train_pred\n",
    "        predictions[te_index] = y1_test_pred\n",
    "        \n",
    "        # return predicted residuals\n",
    "        pred_residuals[t_index] = y1_train - y1_train_pred\n",
    "        pred_residuals[te_index] = y1_test - y1_test_pred\n",
    "    \n",
    "    return pred_residuals, predictions"
   ]
  },
  {
   "cell_type": "code",
   "execution_count": 32,
   "metadata": {
    "tags": []
   },
   "outputs": [],
   "source": [
    "pred_residuals, predictions = LR_models_residuals(LR_cols, True)"
   ]
  },
  {
   "cell_type": "markdown",
   "metadata": {},
   "source": [
    "We confirm that we have obtained linear regression fitted residuals for all observations in the original dataset.\n"
   ]
  },
  {
   "cell_type": "code",
   "execution_count": 33,
   "metadata": {
    "tags": []
   },
   "outputs": [
    {
     "name": "stdout",
     "output_type": "stream",
     "text": [
      "True\n"
     ]
    }
   ],
   "source": [
    "print(len(pred_residuals) == df.shape[0])"
   ]
  },
  {
   "cell_type": "markdown",
   "metadata": {},
   "source": [
    "We can plot a histogram of the fitted residuals:\n"
   ]
  },
  {
   "cell_type": "code",
   "execution_count": 34,
   "metadata": {
    "tags": []
   },
   "outputs": [
    {
     "data": {
      "image/png": "[encoded data removed]",
      "text/plain": [
       "<Figure size 640x480 with 1 Axes>"
      ]
     },
     "metadata": {},
     "output_type": "display_data"
    }
   ],
   "source": [
    "plt.hist(pred_residuals, density=True)\n",
    "plt.xlabel(\"Fitted residuals\")\n",
    "plt.ylabel(\"Normalized count\")\n",
    "plt.title(\"Lassion regression fitted residuals\")\n",
    "plt.show()"
   ]
  },
  {
   "cell_type": "markdown",
   "metadata": {},
   "source": [
    "## Using Boosting Algorithms to Predict Residuals\n",
    "\n",
    "CatBoost, LightGBM, and XGBoost are three popular boosting algorithms in machine learning. Before we dive into the these three algorithms, let's start with the term ensemble learning and how boosting as one type of ensemble learning helps us reduce model errors.\n",
    "\n",
    "**Ensemble Learning** is a Machine Learning technique that combines predictions from multiple base models to produce more accurate and robust predictions. Ensemble learning can improve the generalization of the model. It can help to create a model that can generalize well to new and unseen data by combining the different perspectives of individual models. There are several ways to create an ensemble model, including **bagging, boosting, and stacking**. \n",
    "\n",
    "**Bagging** is primarily used to reduce the variance of a model by combining predictions of multiple models that are trained on different subsets of the training data through a voting mechanism. **Boosting**, on the other hand, is used to reduce the bias of a model by sequentially training models that focus on correcting the errors of the previous models. **Stacking** is used to combine multiple models by training a meta-model on the predictions of the base models to create more accurate final predictions.\n",
    "\n",
    "In this guided project, **we will focus on the Boosting algorithms**, which are particularly helpful for achieving success in data science competitions.\n"
   ]
  },
  {
   "cell_type": "markdown",
   "metadata": {},
   "source": [
    "First, we concatenate the fitted residuals to the dataframe and make sure that there are no null values in the `residuals` column as it will be our target column when fitting the Boosting models.\n"
   ]
  },
  {
   "cell_type": "code",
   "execution_count": 35,
   "metadata": {
    "tags": []
   },
   "outputs": [
    {
     "data": {
      "text/plain": [
       "0"
      ]
     },
     "execution_count": 35,
     "metadata": {},
     "output_type": "execute_result"
    }
   ],
   "source": [
    "df['residuals'] = pred_residuals\n",
    "df.residuals.isnull().sum()"
   ]
  },
  {
   "cell_type": "code",
   "execution_count": 36,
   "metadata": {
    "tags": []
   },
   "outputs": [],
   "source": [
    "del pred_residuals"
   ]
  },
  {
   "cell_type": "markdown",
   "metadata": {},
   "source": [
    "We add the `residuals` column to the training and test dataset as well.\n"
   ]
  },
  {
   "cell_type": "code",
   "execution_count": 37,
   "metadata": {
    "tags": []
   },
   "outputs": [],
   "source": [
    "train2['residuals'] = df.loc[train2.index, 'residuals']\n",
    "test['residuals'] = df.loc[test.index, 'residuals']"
   ]
  },
  {
   "cell_type": "markdown",
   "metadata": {},
   "source": [
    "### Feature Selection for Boosting\n"
   ]
  },
  {
   "cell_type": "markdown",
   "metadata": {},
   "source": [
    "Now we need to select features for the Boosting models, which we will call `B_cols`. First, we will use the forecasts from the purely physics-based weather models and we will select the forecast means this time.\n"
   ]
  },
  {
   "cell_type": "code",
   "execution_count": 38,
   "metadata": {
    "tags": []
   },
   "outputs": [
    {
     "data": {
      "text/plain": [
       "['nmme0-tmp2m-34w__nmme0mean',\n",
       " 'nmme-tmp2m-56w__nmmemean',\n",
       " 'nmme-prate-34w__nmmemean',\n",
       " 'nmme0-prate-56w__nmme0mean',\n",
       " 'nmme0-prate-34w__nmme0mean',\n",
       " 'nmme-prate-56w__nmmemean',\n",
       " 'nmme-tmp2m-34w__nmmemean',\n",
       " 'nmme0mean']"
      ]
     },
     "execution_count": 38,
     "metadata": {},
     "output_type": "execute_result"
    }
   ],
   "source": [
    "forecast_means = [col for col in df.columns if 'mean' in col]\n",
    "forecast_means"
   ]
  },
  {
   "cell_type": "markdown",
   "metadata": {},
   "source": [
    "As we did before with linear regressions, we are going to shift the `..-34w-..` and `..-56w-..` features backward by 14 and 28 days respectively, by location group, and then we add those shifted features to `B_cols`.\n"
   ]
  },
  {
   "cell_type": "code",
   "execution_count": 39,
   "metadata": {
    "tags": []
   },
   "outputs": [],
   "source": [
    "B_cols = []\n",
    "\n",
    "for col in forecast_means:\n",
    "    if '34w' in col:\n",
    "        df[col+'_shifted'] = df.groupby(['loc_group'])[col].shift(-14).ffill()\n",
    "        B_cols.append(col+'_shifted')\n",
    "    elif '56w' in col:\n",
    "        df[col+'_shifted'] = df.groupby(['loc_group'])[col].shift(-28).ffill()\n",
    "        B_cols.append(col+'_shifted')   \n",
    "    else:   \n",
    "        B_cols.append(col)"
   ]
  },
  {
   "cell_type": "markdown",
   "metadata": {},
   "source": [
    "Now we append these shifted features to our training and test dataset.\n"
   ]
  },
  {
   "cell_type": "code",
   "execution_count": 40,
   "metadata": {
    "tags": []
   },
   "outputs": [
    {
     "name": "stdout",
     "output_type": "stream",
     "text": [
      "(301204, 256) (74530, 256)\n"
     ]
    }
   ],
   "source": [
    "for ds in [train2, test]:\n",
    "    for col in B_cols:\n",
    "        ds[col] = df.loc[ds.index, col]\n",
    "\n",
    "print(train2.shape, test.shape)"
   ]
  },
  {
   "cell_type": "markdown",
   "metadata": {},
   "source": [
    "Another set of continuous variables we could add to `B_cols` are the ones whose names contain \"14d\", because they are measured over the same time interval as our original target variable.\n"
   ]
  },
  {
   "cell_type": "code",
   "execution_count": 41,
   "metadata": {
    "tags": []
   },
   "outputs": [],
   "source": [
    "for col in df.columns:\n",
    "    if '14d' in col:\n",
    "        B_cols.append(col)"
   ]
  },
  {
   "cell_type": "markdown",
   "metadata": {},
   "source": [
    "Apart from the continuous variables, don't forget about the categorical variables that we haven't touched on so far. The original dataset comes with one categorical variable called `climateregions__climateregion`. We can encode this variable using Label Encoder from scikit-learn. **Note that we can analyze the feature importance later after we fit the models**.\n"
   ]
  },
  {
   "cell_type": "code",
   "execution_count": 42,
   "metadata": {
    "tags": []
   },
   "outputs": [],
   "source": [
    "LE = LabelEncoder()\n",
    "LE.fit(train2['climateregions__climateregion'])\n",
    "train2['climateregions__climateregion'] = LE.transform(train2['climateregions__climateregion'])\n",
    "test['climateregions__climateregion'] = LE.transform(test['climateregions__climateregion'])"
   ]
  },
  {
   "cell_type": "markdown",
   "metadata": {},
   "source": [
    "We can create a `month` variable to see if some months have larger fitted residuals than the others.\n"
   ]
  },
  {
   "cell_type": "code",
   "execution_count": 43,
   "metadata": {
    "tags": []
   },
   "outputs": [
    {
     "data": {
      "text/plain": [
       "month\n",
       "1    -2.333870\n",
       "2    -0.468863\n",
       "3     0.756814\n",
       "4     0.966043\n",
       "5     1.464542\n",
       "6     2.949630\n",
       "7     2.905138\n",
       "8     2.516673\n",
       "9     2.129676\n",
       "10    1.038387\n",
       "11   -2.619120\n",
       "12   -2.845659\n",
       "Name: residuals, dtype: float64"
      ]
     },
     "execution_count": 43,
     "metadata": {},
     "output_type": "execute_result"
    }
   ],
   "source": [
    "df['month'] = df['startdate'].dt.month\n",
    "df.groupby(['month'])['residuals'].median()"
   ]
  },
  {
   "cell_type": "markdown",
   "metadata": {},
   "source": [
    "It appears that our linear regression fitted residuals differ quite perceivably for different months, so we could consider `month` as a feature for the Boosting models. Let's create `month` variable for the training and test set.\n"
   ]
  },
  {
   "cell_type": "code",
   "execution_count": 44,
   "metadata": {
    "tags": []
   },
   "outputs": [],
   "source": [
    "for ds in [train2, test]:\n",
    "    ds['month'] = ds['startdate'].dt.month"
   ]
  },
  {
   "cell_type": "markdown",
   "metadata": {},
   "source": [
    "`loc_group` is also an important categorical variable as it specifies the location of the weather data. According to the competition, `elevation__elevation` is also an important feature, so we will add them to `B_cols`.\n"
   ]
  },
  {
   "cell_type": "code",
   "execution_count": 45,
   "metadata": {
    "tags": []
   },
   "outputs": [
    {
     "name": "stdout",
     "output_type": "stream",
     "text": [
      "We have 27 features for fitting the Boosting models.\n"
     ]
    },
    {
     "data": {
      "text/plain": [
       "['nmme0-tmp2m-34w__nmme0mean_shifted',\n",
       " 'nmme-tmp2m-56w__nmmemean_shifted',\n",
       " 'nmme-prate-34w__nmmemean_shifted',\n",
       " 'nmme0-prate-56w__nmme0mean_shifted',\n",
       " 'nmme0-prate-34w__nmme0mean_shifted',\n",
       " 'nmme-prate-56w__nmmemean_shifted',\n",
       " 'nmme-tmp2m-34w__nmmemean_shifted',\n",
       " 'nmme0mean',\n",
       " 'contest-pevpr-sfc-gauss-14d__pevpr',\n",
       " 'contest-wind-h10-14d__wind-hgt-10',\n",
       " 'contest-rhum-sig995-14d__rhum',\n",
       " 'contest-wind-h100-14d__wind-hgt-100',\n",
       " 'contest-tmp2m-14d__tmp2m',\n",
       " 'contest-slp-14d__slp',\n",
       " 'contest-wind-vwnd-925-14d__wind-vwnd-925',\n",
       " 'contest-pres-sfc-gauss-14d__pres',\n",
       " 'contest-wind-uwnd-250-14d__wind-uwnd-250',\n",
       " 'contest-prwtr-eatm-14d__prwtr',\n",
       " 'contest-wind-vwnd-250-14d__wind-vwnd-250',\n",
       " 'contest-precip-14d__precip',\n",
       " 'contest-wind-h850-14d__wind-hgt-850',\n",
       " 'contest-wind-uwnd-925-14d__wind-uwnd-925',\n",
       " 'contest-wind-h500-14d__wind-hgt-500',\n",
       " 'climateregions__climateregion',\n",
       " 'month',\n",
       " 'loc_group',\n",
       " 'elevation__elevation']"
      ]
     },
     "execution_count": 45,
     "metadata": {},
     "output_type": "execute_result"
    }
   ],
   "source": [
    "B_cols += ['climateregions__climateregion', 'month', 'loc_group', 'elevation__elevation']\n",
    "\n",
    "print(f\"We have {len(B_cols)} features for fitting the Boosting models.\")\n",
    "B_cols"
   ]
  },
  {
   "cell_type": "code",
   "execution_count": 46,
   "metadata": {
    "tags": []
   },
   "outputs": [],
   "source": [
    "del ds"
   ]
  },
  {
   "cell_type": "markdown",
   "metadata": {},
   "source": [
    "### Boosting Models for Predicting Fitted Residuals\n"
   ]
  },
  {
   "cell_type": "markdown",
   "metadata": {},
   "source": [
    "As we are no longer looking to explain any linear relationships between the predictors and the target variable (as they have been handled by the linear regressions we fitted), we will move on to using some Boosting models includeing CatBoost, LightGBM, and XGBoost to capture complex non-linear relationships between the input features and the fitted residuals. \n",
    "\n",
    "We will use a combination of three Boosting models to predict our fitted residuals, so basically we are trying to see if there is any non-linear pattern in the fitted residuals that we could explain using Boosting models. If the patterm we found is generalizable to unseen data, we can further reduce the gap between what Machine Learning models can predict and the ground truths. \n",
    "\n",
    "- **CatBoost**: CatBoost works by iteratively building a set of decision trees. At each iteration, it calculates the gradient of the loss function with respect to the current set of predictions, and fits a decision tree to the negative gradient. The predictions from the new decision tree are then added to the current predictions, and the process is repeated for a specified number of iterations. CatBoost also incorporates a unique mechanism for handling categorical variables, which it achieves by using an ordered boosting technique that sorts the categories in a way that optimizes the loss function.\n",
    "\n",
    "- **LightGBM**: LightGBM, on the other hand, uses a different approach for building decision trees. Instead of using a depth-first approach like many other Boosting models, LightGBM uses a leaf-wise approach that grows the tree by expanding the leaf with the largest loss reduction. This approach can be more efficient than depth-first approaches because it reduces the number of data points that need to be processed for each split. LightGBM also uses the Gradient-based One-Side Sampling (GOSS) technique to sample the most important instances for each iteration, which further improves efficiency.\n",
    "\n",
    "- **XGBoost**: XGBoost also builds decision trees, but it uses a slightly different algorithm. Like CatBoost and LightGBM, XGBoost uses a gradient-based approach to build decision trees. However, it also includes several advanced features such as regularization techniques, early stopping, and a second-order approximation of the gradient to improve prediction accuracy. XGBoost also allows for parallel processing, which can be useful for large-scale datasets.\n"
   ]
  },
  {
   "cell_type": "markdown",
   "metadata": {},
   "source": [
    "<center><img src=\"https://cf-courses-data.s3.us.cloud-object-storage.appdomain.cloud/IBM-GPXX0CRSEN/images/1_V-vikG-ye2Y03R943d0CPw.jpeg\" width=\"50%\"></center>\n",
    "\n",
    "<p style=\"color:gray; text-align:center;\">Credit: enjoyalgorithms.com</p>\n"
   ]
  },
  {
   "cell_type": "markdown",
   "metadata": {},
   "source": [
    "We need to specify catrgorical columns for the three Boosting models.\n"
   ]
  },
  {
   "cell_type": "code",
   "execution_count": 47,
   "metadata": {
    "tags": []
   },
   "outputs": [],
   "source": [
    "cat_cols =  ['climateregions__climateregion', 'month', 'loc_group']"
   ]
  },
  {
   "cell_type": "markdown",
   "metadata": {},
   "source": [
    "We use the `boosting` function to help us fit three Boosting models at one. The function takes in three parameter:\n",
    "\n",
    "- `ratios`: list of floats, specifying the weighting of each model in the final predictions.\n",
    "\n",
    "- `selected_cols`: list of strings, selected features for fitting the three Boosting models.\n",
    "\n",
    "- `cat_cols`: list of strings, names of categorical columns in `selected_cols`.\n",
    "\n",
    "The function will return the predicted residuals for the training and test set.\n"
   ]
  },
  {
   "cell_type": "code",
   "execution_count": 48,
   "metadata": {
    "tags": []
   },
   "outputs": [],
   "source": [
    "def boosting(ratios=[0.6, 0.3, 0.1], selected_cols=B_cols, cat_cols=cat_cols):\n",
    "    \n",
    "    \n",
    "    X_train, y_train = train2[selected_cols], train2['residuals']\n",
    "    X_test, y_test = test[selected_cols], test['residuals']\n",
    "\n",
    "    for ds in [X_train, X_test]:\n",
    "        ds['loc_group'] = ds['loc_group'].astype(\"category\")\n",
    "        ds['climateregions__climateregion'] = ds['climateregions__climateregion'].astype(\"category\")\n",
    "        ds['month'] = ds['month'].astype(\"category\")\n",
    "\n",
    "\n",
    "    cat_inds = [selected_cols.index(col) for col in cat_cols]\n",
    "\n",
    "    train_pred_cb, train_pred_lgb, train_pred_xgb = [np.zeros(len(y_train))] * 3\n",
    "    test_pred_cb, test_pred_lgb, test_pred_xgb = [np.zeros(len(y_test))] * 3\n",
    "\n",
    "    if ratios[0] > 0:\n",
    "        cbr = cb.CatBoostRegressor(loss_function=\"RMSE\", random_state=42, verbose=1)  \n",
    "        cbr.fit(X_train, y_train, cat_features=cat_inds)\n",
    "        train_pred_cb = cbr.predict(X_train)\n",
    "        test_pred_cb = cbr.predict(X_test)\n",
    "    if ratios[1] > 0:\n",
    "        lgbr = lgb.LGBMRegressor(objective='regression', metric='rmse', random_state=42, verbose=1)       \n",
    "        lgbr.fit(X_train, y_train, categorical_feature=cat_inds)\n",
    "        train_pred_lgb = lgbr.predict(X_train)\n",
    "        test_pred_lgb = lgbr.predict(X_test)\n",
    "    if ratios[2] > 0:\n",
    "        xgbr = xgb.XGBRegressor(objective=\"reg:squarederror\", eval_metric='rmse', enable_categorical=True, random_state=42, verbose=0)\n",
    "        xgbr.fit(X_train, y_train)\n",
    "        train_pred_xgb = xgbr.predict(X_train)\n",
    "        test_pred_xgb = xgbr.predict(X_test)\n",
    "\n",
    "    train_pred = ratios[0] * train_pred_cb + ratios[1] * train_pred_lgb + ratios[2] * train_pred_xgb\n",
    "    test_pred = ratios[0] * test_pred_cb + ratios[1] * test_pred_lgb + ratios[2] * test_pred_xgb\n",
    "\n",
    "    print(f\"train rmse = {rmse(y_train, train_pred)}, test rmse = {rmse(y_test, test_pred)}\")\n",
    "    \n",
    "    return train_pred, test_pred"
   ]
  },
  {
   "cell_type": "markdown",
   "metadata": {},
   "source": [
    "The predicted residuals are the part of the fitted residuals that could be captured by the complex non-linear Boosting models. The difference between the predicted residuals and our linear regression fitted residuals will be the final error of our predictions.\n",
    "\n",
    "In the next cell, you can alter the `ratios` argument to increase/decrease each model's contribution to the final prediction and check the resulting training and test root mean squared error. \n",
    "\n",
    "As there is a memory limit with this lab and our dataset is quite large, LightGBM and XGBoost training are commented out. According to experience, CatBoost tends to give the best performance. If you have local or cloud training resources, feel free to download this notebook and play with the `ratios` argument.\n"
   ]
  },
  {
   "cell_type": "markdown",
   "metadata": {},
   "source": [
    "Note: The following CatBoost training is expected to take approximately 5 minutes.\n"
   ]
  },
  {
   "cell_type": "code",
   "execution_count": 49,
   "metadata": {
    "tags": []
   },
   "outputs": [
    {
     "name": "stdout",
     "output_type": "stream",
     "text": [
      "Pure CatBoost:\n",
      "Learning rate set to 0.100888\n",
      "0:\tlearn: 2.6250930\ttotal: 306ms\tremaining: 5m 5s\n",
      "1:\tlearn: 2.4453648\ttotal: 499ms\tremaining: 4m 8s\n",
      "2:\tlearn: 2.2885073\ttotal: 682ms\tremaining: 3m 46s\n",
      "3:\tlearn: 2.1498162\ttotal: 925ms\tremaining: 3m 50s\n",
      "4:\tlearn: 2.0290918\ttotal: 1.11s\tremaining: 3m 41s\n",
      "5:\tlearn: 1.9234335\ttotal: 1.28s\tremaining: 3m 32s\n",
      "6:\tlearn: 1.8328460\ttotal: 1.49s\tremaining: 3m 31s\n",
      "7:\tlearn: 1.7482912\ttotal: 1.71s\tremaining: 3m 32s\n",
      "8:\tlearn: 1.6744576\ttotal: 2s\tremaining: 3m 39s\n",
      "9:\tlearn: 1.6091328\ttotal: 2.23s\tremaining: 3m 40s\n",
      "10:\tlearn: 1.5535997\ttotal: 2.47s\tremaining: 3m 41s\n",
      "11:\tlearn: 1.5030752\ttotal: 2.71s\tremaining: 3m 42s\n",
      "12:\tlearn: 1.4586029\ttotal: 2.96s\tremaining: 3m 44s\n",
      "13:\tlearn: 1.4202099\ttotal: 3.12s\tremaining: 3m 40s\n",
      "14:\tlearn: 1.3852506\ttotal: 3.36s\tremaining: 3m 40s\n",
      "15:\tlearn: 1.3524831\ttotal: 3.61s\tremaining: 3m 41s\n",
      "16:\tlearn: 1.3249027\ttotal: 3.86s\tremaining: 3m 43s\n",
      "17:\tlearn: 1.2985962\ttotal: 4.11s\tremaining: 3m 43s\n",
      "18:\tlearn: 1.2756275\ttotal: 4.35s\tremaining: 3m 44s\n",
      "19:\tlearn: 1.2548700\ttotal: 4.54s\tremaining: 3m 42s\n",
      "20:\tlearn: 1.2348382\ttotal: 4.78s\tremaining: 3m 42s\n",
      "21:\tlearn: 1.2161136\ttotal: 4.99s\tremaining: 3m 42s\n",
      "22:\tlearn: 1.1990650\ttotal: 5.25s\tremaining: 3m 43s\n",
      "23:\tlearn: 1.1824260\ttotal: 5.46s\tremaining: 3m 41s\n",
      "24:\tlearn: 1.1675543\ttotal: 5.71s\tremaining: 3m 42s\n",
      "25:\tlearn: 1.1534106\ttotal: 5.93s\tremaining: 3m 42s\n",
      "26:\tlearn: 1.1401801\ttotal: 6.19s\tremaining: 3m 42s\n",
      "27:\tlearn: 1.1292722\ttotal: 6.39s\tremaining: 3m 41s\n",
      "28:\tlearn: 1.1181725\ttotal: 6.61s\tremaining: 3m 41s\n",
      "29:\tlearn: 1.1085750\ttotal: 6.86s\tremaining: 3m 41s\n",
      "30:\tlearn: 1.0996708\ttotal: 7.09s\tremaining: 3m 41s\n",
      "31:\tlearn: 1.0878725\ttotal: 7.32s\tremaining: 3m 41s\n",
      "32:\tlearn: 1.0799644\ttotal: 7.53s\tremaining: 3m 40s\n",
      "33:\tlearn: 1.0724038\ttotal: 7.77s\tremaining: 3m 40s\n",
      "34:\tlearn: 1.0649407\ttotal: 8.01s\tremaining: 3m 40s\n",
      "35:\tlearn: 1.0572778\ttotal: 8.27s\tremaining: 3m 41s\n",
      "36:\tlearn: 1.0504956\ttotal: 8.5s\tremaining: 3m 41s\n",
      "37:\tlearn: 1.0423884\ttotal: 8.7s\tremaining: 3m 40s\n",
      "38:\tlearn: 1.0348431\ttotal: 8.93s\tremaining: 3m 40s\n",
      "39:\tlearn: 1.0271011\ttotal: 9.15s\tremaining: 3m 39s\n",
      "40:\tlearn: 1.0203534\ttotal: 9.41s\tremaining: 3m 40s\n",
      "41:\tlearn: 1.0140982\ttotal: 9.65s\tremaining: 3m 40s\n",
      "42:\tlearn: 1.0062844\ttotal: 9.88s\tremaining: 3m 39s\n",
      "43:\tlearn: 1.0014410\ttotal: 10.1s\tremaining: 3m 38s\n",
      "44:\tlearn: 0.9951233\ttotal: 10.3s\tremaining: 3m 37s\n",
      "45:\tlearn: 0.9886970\ttotal: 10.5s\tremaining: 3m 37s\n",
      "46:\tlearn: 0.9841256\ttotal: 10.7s\tremaining: 3m 36s\n",
      "47:\tlearn: 0.9803398\ttotal: 10.9s\tremaining: 3m 35s\n",
      "48:\tlearn: 0.9741851\ttotal: 11.1s\tremaining: 3m 35s\n",
      "49:\tlearn: 0.9667585\ttotal: 11.3s\tremaining: 3m 35s\n",
      "50:\tlearn: 0.9609447\ttotal: 11.5s\tremaining: 3m 34s\n",
      "51:\tlearn: 0.9550342\ttotal: 11.7s\tremaining: 3m 33s\n",
      "52:\tlearn: 0.9506699\ttotal: 11.9s\tremaining: 3m 33s\n",
      "53:\tlearn: 0.9468242\ttotal: 12.1s\tremaining: 3m 32s\n",
      "54:\tlearn: 0.9416032\ttotal: 12.3s\tremaining: 3m 32s\n",
      "55:\tlearn: 0.9366458\ttotal: 12.6s\tremaining: 3m 31s\n",
      "56:\tlearn: 0.9318226\ttotal: 12.8s\tremaining: 3m 32s\n",
      "57:\tlearn: 0.9287811\ttotal: 13s\tremaining: 3m 31s\n",
      "58:\tlearn: 0.9237303\ttotal: 13.3s\tremaining: 3m 31s\n",
      "59:\tlearn: 0.9199450\ttotal: 13.5s\tremaining: 3m 31s\n",
      "60:\tlearn: 0.9146560\ttotal: 13.7s\tremaining: 3m 30s\n",
      "61:\tlearn: 0.9109042\ttotal: 13.9s\tremaining: 3m 30s\n",
      "62:\tlearn: 0.9078186\ttotal: 14.2s\tremaining: 3m 30s\n",
      "63:\tlearn: 0.9037171\ttotal: 14.4s\tremaining: 3m 29s\n",
      "64:\tlearn: 0.9012424\ttotal: 14.6s\tremaining: 3m 29s\n",
      "65:\tlearn: 0.8986088\ttotal: 14.8s\tremaining: 3m 28s\n",
      "66:\tlearn: 0.8952126\ttotal: 15s\tremaining: 3m 28s\n",
      "67:\tlearn: 0.8900764\ttotal: 15.2s\tremaining: 3m 29s\n",
      "68:\tlearn: 0.8858092\ttotal: 15.5s\tremaining: 3m 28s\n",
      "69:\tlearn: 0.8827289\ttotal: 15.6s\tremaining: 3m 27s\n",
      "70:\tlearn: 0.8802320\ttotal: 15.9s\tremaining: 3m 27s\n",
      "71:\tlearn: 0.8774800\ttotal: 16.1s\tremaining: 3m 26s\n",
      "72:\tlearn: 0.8728530\ttotal: 16.3s\tremaining: 3m 27s\n",
      "73:\tlearn: 0.8689411\ttotal: 16.6s\tremaining: 3m 27s\n",
      "74:\tlearn: 0.8663897\ttotal: 16.8s\tremaining: 3m 26s\n",
      "75:\tlearn: 0.8622352\ttotal: 17s\tremaining: 3m 27s\n",
      "76:\tlearn: 0.8587990\ttotal: 17.3s\tremaining: 3m 26s\n",
      "77:\tlearn: 0.8557727\ttotal: 17.5s\tremaining: 3m 26s\n",
      "78:\tlearn: 0.8512382\ttotal: 17.7s\tremaining: 3m 26s\n",
      "79:\tlearn: 0.8483973\ttotal: 17.9s\tremaining: 3m 26s\n",
      "80:\tlearn: 0.8446082\ttotal: 18.2s\tremaining: 3m 26s\n",
      "81:\tlearn: 0.8418626\ttotal: 18.4s\tremaining: 3m 26s\n",
      "82:\tlearn: 0.8399206\ttotal: 18.6s\tremaining: 3m 25s\n",
      "83:\tlearn: 0.8367189\ttotal: 18.8s\tremaining: 3m 25s\n",
      "84:\tlearn: 0.8335545\ttotal: 19s\tremaining: 3m 24s\n",
      "85:\tlearn: 0.8307653\ttotal: 19.3s\tremaining: 3m 25s\n",
      "86:\tlearn: 0.8279006\ttotal: 19.6s\tremaining: 3m 25s\n",
      "87:\tlearn: 0.8249923\ttotal: 19.8s\tremaining: 3m 25s\n",
      "88:\tlearn: 0.8226457\ttotal: 20.1s\tremaining: 3m 25s\n",
      "89:\tlearn: 0.8202654\ttotal: 20.3s\tremaining: 3m 25s\n",
      "90:\tlearn: 0.8177133\ttotal: 20.5s\tremaining: 3m 25s\n",
      "91:\tlearn: 0.8143659\ttotal: 20.8s\tremaining: 3m 25s\n",
      "92:\tlearn: 0.8120530\ttotal: 21s\tremaining: 3m 25s\n",
      "93:\tlearn: 0.8089166\ttotal: 21.3s\tremaining: 3m 24s\n",
      "94:\tlearn: 0.8068063\ttotal: 21.4s\tremaining: 3m 24s\n",
      "95:\tlearn: 0.8038648\ttotal: 21.7s\tremaining: 3m 24s\n",
      "96:\tlearn: 0.8008730\ttotal: 21.9s\tremaining: 3m 24s\n",
      "97:\tlearn: 0.7987206\ttotal: 22.1s\tremaining: 3m 23s\n",
      "98:\tlearn: 0.7965735\ttotal: 22.4s\tremaining: 3m 23s\n",
      "99:\tlearn: 0.7946307\ttotal: 22.6s\tremaining: 3m 23s\n",
      "100:\tlearn: 0.7921198\ttotal: 22.8s\tremaining: 3m 23s\n",
      "101:\tlearn: 0.7899799\ttotal: 23.1s\tremaining: 3m 23s\n",
      "102:\tlearn: 0.7879682\ttotal: 23.3s\tremaining: 3m 22s\n",
      "103:\tlearn: 0.7851797\ttotal: 23.6s\tremaining: 3m 22s\n",
      "104:\tlearn: 0.7838072\ttotal: 23.8s\tremaining: 3m 22s\n",
      "105:\tlearn: 0.7816693\ttotal: 24s\tremaining: 3m 22s\n",
      "106:\tlearn: 0.7791776\ttotal: 24.3s\tremaining: 3m 22s\n",
      "107:\tlearn: 0.7773879\ttotal: 24.5s\tremaining: 3m 21s\n",
      "108:\tlearn: 0.7753936\ttotal: 24.7s\tremaining: 3m 21s\n",
      "109:\tlearn: 0.7735183\ttotal: 24.9s\tremaining: 3m 21s\n",
      "110:\tlearn: 0.7714510\ttotal: 25.2s\tremaining: 3m 21s\n",
      "111:\tlearn: 0.7698690\ttotal: 25.4s\tremaining: 3m 21s\n",
      "112:\tlearn: 0.7675529\ttotal: 25.7s\tremaining: 3m 21s\n",
      "113:\tlearn: 0.7658938\ttotal: 25.9s\tremaining: 3m 21s\n",
      "114:\tlearn: 0.7645843\ttotal: 26.1s\tremaining: 3m 21s\n",
      "115:\tlearn: 0.7629101\ttotal: 26.4s\tremaining: 3m 20s\n",
      "116:\tlearn: 0.7606534\ttotal: 26.7s\tremaining: 3m 21s\n",
      "117:\tlearn: 0.7584578\ttotal: 26.9s\tremaining: 3m 21s\n",
      "118:\tlearn: 0.7565503\ttotal: 27.1s\tremaining: 3m 20s\n",
      "119:\tlearn: 0.7544418\ttotal: 27.4s\tremaining: 3m 21s\n",
      "120:\tlearn: 0.7525159\ttotal: 27.7s\tremaining: 3m 21s\n",
      "121:\tlearn: 0.7504093\ttotal: 28s\tremaining: 3m 21s\n",
      "122:\tlearn: 0.7487320\ttotal: 28.2s\tremaining: 3m 21s\n",
      "123:\tlearn: 0.7474682\ttotal: 28.5s\tremaining: 3m 21s\n",
      "124:\tlearn: 0.7456237\ttotal: 28.7s\tremaining: 3m 20s\n",
      "125:\tlearn: 0.7442470\ttotal: 28.9s\tremaining: 3m 20s\n",
      "126:\tlearn: 0.7425537\ttotal: 29.1s\tremaining: 3m 20s\n",
      "127:\tlearn: 0.7408125\ttotal: 29.3s\tremaining: 3m 19s\n",
      "128:\tlearn: 0.7387538\ttotal: 29.5s\tremaining: 3m 19s\n",
      "129:\tlearn: 0.7367154\ttotal: 29.8s\tremaining: 3m 19s\n",
      "130:\tlearn: 0.7350776\ttotal: 30s\tremaining: 3m 18s\n",
      "131:\tlearn: 0.7336481\ttotal: 30.2s\tremaining: 3m 18s\n",
      "132:\tlearn: 0.7326750\ttotal: 30.4s\tremaining: 3m 18s\n",
      "133:\tlearn: 0.7310559\ttotal: 30.6s\tremaining: 3m 18s\n",
      "134:\tlearn: 0.7293405\ttotal: 30.9s\tremaining: 3m 17s\n",
      "135:\tlearn: 0.7280290\ttotal: 31.1s\tremaining: 3m 17s\n",
      "136:\tlearn: 0.7270399\ttotal: 31.3s\tremaining: 3m 17s\n",
      "137:\tlearn: 0.7253057\ttotal: 31.5s\tremaining: 3m 17s\n",
      "138:\tlearn: 0.7240478\ttotal: 31.8s\tremaining: 3m 16s\n",
      "139:\tlearn: 0.7230803\ttotal: 31.9s\tremaining: 3m 16s\n",
      "140:\tlearn: 0.7208600\ttotal: 32.2s\tremaining: 3m 16s\n",
      "141:\tlearn: 0.7197047\ttotal: 32.4s\tremaining: 3m 15s\n",
      "142:\tlearn: 0.7183639\ttotal: 32.6s\tremaining: 3m 15s\n",
      "143:\tlearn: 0.7169191\ttotal: 32.9s\tremaining: 3m 15s\n",
      "144:\tlearn: 0.7151881\ttotal: 33.1s\tremaining: 3m 15s\n",
      "145:\tlearn: 0.7134316\ttotal: 33.3s\tremaining: 3m 14s\n",
      "146:\tlearn: 0.7119396\ttotal: 33.5s\tremaining: 3m 14s\n",
      "147:\tlearn: 0.7106499\ttotal: 33.8s\tremaining: 3m 14s\n",
      "148:\tlearn: 0.7092497\ttotal: 34s\tremaining: 3m 14s\n",
      "149:\tlearn: 0.7068235\ttotal: 34.2s\tremaining: 3m 13s\n",
      "150:\tlearn: 0.7055260\ttotal: 34.4s\tremaining: 3m 13s\n",
      "151:\tlearn: 0.7036243\ttotal: 34.7s\tremaining: 3m 13s\n",
      "152:\tlearn: 0.7022610\ttotal: 34.9s\tremaining: 3m 13s\n",
      "153:\tlearn: 0.7007017\ttotal: 35.1s\tremaining: 3m 12s\n",
      "154:\tlearn: 0.6993817\ttotal: 35.4s\tremaining: 3m 12s\n",
      "155:\tlearn: 0.6980632\ttotal: 35.6s\tremaining: 3m 12s\n",
      "156:\tlearn: 0.6958809\ttotal: 35.8s\tremaining: 3m 12s\n",
      "157:\tlearn: 0.6945193\ttotal: 36s\tremaining: 3m 12s\n",
      "158:\tlearn: 0.6937531\ttotal: 36.2s\tremaining: 3m 11s\n",
      "159:\tlearn: 0.6922817\ttotal: 36.5s\tremaining: 3m 11s\n",
      "160:\tlearn: 0.6900889\ttotal: 36.7s\tremaining: 3m 11s\n",
      "161:\tlearn: 0.6888641\ttotal: 36.9s\tremaining: 3m 10s\n",
      "162:\tlearn: 0.6863119\ttotal: 37.2s\tremaining: 3m 10s\n",
      "163:\tlearn: 0.6851804\ttotal: 37.4s\tremaining: 3m 10s\n",
      "164:\tlearn: 0.6840711\ttotal: 37.6s\tremaining: 3m 10s\n",
      "165:\tlearn: 0.6828215\ttotal: 37.8s\tremaining: 3m 10s\n",
      "166:\tlearn: 0.6804476\ttotal: 38.1s\tremaining: 3m 9s\n",
      "167:\tlearn: 0.6794879\ttotal: 38.2s\tremaining: 3m 9s\n",
      "168:\tlearn: 0.6778246\ttotal: 38.4s\tremaining: 3m 9s\n",
      "169:\tlearn: 0.6765933\ttotal: 38.7s\tremaining: 3m 8s\n",
      "170:\tlearn: 0.6743222\ttotal: 38.9s\tremaining: 3m 8s\n",
      "171:\tlearn: 0.6727578\ttotal: 39.1s\tremaining: 3m 8s\n",
      "172:\tlearn: 0.6711795\ttotal: 39.4s\tremaining: 3m 8s\n",
      "173:\tlearn: 0.6701885\ttotal: 39.6s\tremaining: 3m 7s\n",
      "174:\tlearn: 0.6694773\ttotal: 39.8s\tremaining: 3m 7s\n",
      "175:\tlearn: 0.6679303\ttotal: 40s\tremaining: 3m 7s\n",
      "176:\tlearn: 0.6669251\ttotal: 40.2s\tremaining: 3m 7s\n",
      "177:\tlearn: 0.6654969\ttotal: 40.5s\tremaining: 3m 6s\n",
      "178:\tlearn: 0.6636811\ttotal: 40.7s\tremaining: 3m 6s\n",
      "179:\tlearn: 0.6624436\ttotal: 41s\tremaining: 3m 6s\n",
      "180:\tlearn: 0.6614302\ttotal: 41.2s\tremaining: 3m 6s\n",
      "181:\tlearn: 0.6597261\ttotal: 41.4s\tremaining: 3m 5s\n",
      "182:\tlearn: 0.6589147\ttotal: 41.6s\tremaining: 3m 5s\n",
      "183:\tlearn: 0.6579465\ttotal: 41.8s\tremaining: 3m 5s\n",
      "184:\tlearn: 0.6569176\ttotal: 42s\tremaining: 3m 5s\n",
      "185:\tlearn: 0.6563150\ttotal: 42.2s\tremaining: 3m 4s\n",
      "186:\tlearn: 0.6546835\ttotal: 42.4s\tremaining: 3m 4s\n",
      "187:\tlearn: 0.6534601\ttotal: 42.6s\tremaining: 3m 4s\n",
      "188:\tlearn: 0.6528931\ttotal: 42.9s\tremaining: 3m 3s\n",
      "189:\tlearn: 0.6507722\ttotal: 43.2s\tremaining: 3m 3s\n",
      "190:\tlearn: 0.6500027\ttotal: 43.3s\tremaining: 3m 3s\n",
      "191:\tlearn: 0.6487171\ttotal: 43.6s\tremaining: 3m 3s\n",
      "192:\tlearn: 0.6477573\ttotal: 43.8s\tremaining: 3m 2s\n",
      "193:\tlearn: 0.6460018\ttotal: 44s\tremaining: 3m 2s\n",
      "194:\tlearn: 0.6448881\ttotal: 44.2s\tremaining: 3m 2s\n",
      "195:\tlearn: 0.6438174\ttotal: 44.4s\tremaining: 3m 2s\n",
      "196:\tlearn: 0.6425347\ttotal: 44.6s\tremaining: 3m 1s\n",
      "197:\tlearn: 0.6415988\ttotal: 44.8s\tremaining: 3m 1s\n",
      "198:\tlearn: 0.6408325\ttotal: 45.1s\tremaining: 3m 1s\n",
      "199:\tlearn: 0.6401541\ttotal: 45.2s\tremaining: 3m\n",
      "200:\tlearn: 0.6391219\ttotal: 45.6s\tremaining: 3m 1s\n",
      "201:\tlearn: 0.6386109\ttotal: 46s\tremaining: 3m 1s\n",
      "202:\tlearn: 0.6377125\ttotal: 46.5s\tremaining: 3m 2s\n",
      "203:\tlearn: 0.6361565\ttotal: 47s\tremaining: 3m 3s\n",
      "204:\tlearn: 0.6353219\ttotal: 47.4s\tremaining: 3m 3s\n",
      "205:\tlearn: 0.6338538\ttotal: 47.6s\tremaining: 3m 3s\n",
      "206:\tlearn: 0.6320677\ttotal: 47.9s\tremaining: 3m 3s\n",
      "207:\tlearn: 0.6313477\ttotal: 48.1s\tremaining: 3m 3s\n",
      "208:\tlearn: 0.6303681\ttotal: 48.3s\tremaining: 3m 2s\n",
      "209:\tlearn: 0.6298245\ttotal: 48.5s\tremaining: 3m 2s\n",
      "210:\tlearn: 0.6291554\ttotal: 48.7s\tremaining: 3m 2s\n",
      "211:\tlearn: 0.6284225\ttotal: 49s\tremaining: 3m 1s\n",
      "212:\tlearn: 0.6279521\ttotal: 49.1s\tremaining: 3m 1s\n",
      "213:\tlearn: 0.6271780\ttotal: 49.4s\tremaining: 3m 1s\n",
      "214:\tlearn: 0.6264232\ttotal: 49.6s\tremaining: 3m\n",
      "215:\tlearn: 0.6253125\ttotal: 49.8s\tremaining: 3m\n",
      "216:\tlearn: 0.6244845\ttotal: 50s\tremaining: 3m\n",
      "217:\tlearn: 0.6240189\ttotal: 50.2s\tremaining: 3m\n",
      "218:\tlearn: 0.6232143\ttotal: 50.4s\tremaining: 2m 59s\n",
      "219:\tlearn: 0.6222846\ttotal: 50.6s\tremaining: 2m 59s\n",
      "220:\tlearn: 0.6219286\ttotal: 50.8s\tremaining: 2m 59s\n",
      "221:\tlearn: 0.6214886\ttotal: 51s\tremaining: 2m 58s\n",
      "222:\tlearn: 0.6204946\ttotal: 51.2s\tremaining: 2m 58s\n",
      "223:\tlearn: 0.6197525\ttotal: 51.4s\tremaining: 2m 57s\n",
      "224:\tlearn: 0.6186073\ttotal: 51.6s\tremaining: 2m 57s\n",
      "225:\tlearn: 0.6173975\ttotal: 51.8s\tremaining: 2m 57s\n",
      "226:\tlearn: 0.6163014\ttotal: 52s\tremaining: 2m 57s\n",
      "227:\tlearn: 0.6151590\ttotal: 52.2s\tremaining: 2m 56s\n",
      "228:\tlearn: 0.6144346\ttotal: 52.4s\tremaining: 2m 56s\n",
      "229:\tlearn: 0.6129322\ttotal: 52.6s\tremaining: 2m 56s\n",
      "230:\tlearn: 0.6118545\ttotal: 52.8s\tremaining: 2m 55s\n",
      "231:\tlearn: 0.6113928\ttotal: 53s\tremaining: 2m 55s\n",
      "232:\tlearn: 0.6106167\ttotal: 53.3s\tremaining: 2m 55s\n",
      "233:\tlearn: 0.6096234\ttotal: 53.6s\tremaining: 2m 55s\n",
      "234:\tlearn: 0.6089447\ttotal: 53.8s\tremaining: 2m 55s\n",
      "235:\tlearn: 0.6081961\ttotal: 54s\tremaining: 2m 54s\n",
      "236:\tlearn: 0.6074760\ttotal: 54.2s\tremaining: 2m 54s\n",
      "237:\tlearn: 0.6068501\ttotal: 54.4s\tremaining: 2m 54s\n",
      "238:\tlearn: 0.6060959\ttotal: 54.7s\tremaining: 2m 54s\n",
      "239:\tlearn: 0.6053777\ttotal: 54.9s\tremaining: 2m 53s\n",
      "240:\tlearn: 0.6048842\ttotal: 55.1s\tremaining: 2m 53s\n",
      "241:\tlearn: 0.6043443\ttotal: 55.3s\tremaining: 2m 53s\n",
      "242:\tlearn: 0.6039567\ttotal: 55.4s\tremaining: 2m 52s\n",
      "243:\tlearn: 0.6031868\ttotal: 55.7s\tremaining: 2m 52s\n",
      "244:\tlearn: 0.6026142\ttotal: 55.9s\tremaining: 2m 52s\n",
      "245:\tlearn: 0.6021437\ttotal: 56.1s\tremaining: 2m 52s\n",
      "246:\tlearn: 0.6008884\ttotal: 56.3s\tremaining: 2m 51s\n",
      "247:\tlearn: 0.5999272\ttotal: 56.6s\tremaining: 2m 51s\n",
      "248:\tlearn: 0.5990683\ttotal: 56.8s\tremaining: 2m 51s\n",
      "249:\tlearn: 0.5981918\ttotal: 57s\tremaining: 2m 51s\n",
      "250:\tlearn: 0.5970591\ttotal: 57.3s\tremaining: 2m 50s\n",
      "251:\tlearn: 0.5964134\ttotal: 57.5s\tremaining: 2m 50s\n",
      "252:\tlearn: 0.5957641\ttotal: 57.7s\tremaining: 2m 50s\n",
      "253:\tlearn: 0.5949079\ttotal: 58s\tremaining: 2m 50s\n",
      "254:\tlearn: 0.5940384\ttotal: 58.2s\tremaining: 2m 50s\n",
      "255:\tlearn: 0.5934109\ttotal: 58.5s\tremaining: 2m 49s\n",
      "256:\tlearn: 0.5926988\ttotal: 58.7s\tremaining: 2m 49s\n",
      "257:\tlearn: 0.5923405\ttotal: 58.9s\tremaining: 2m 49s\n",
      "258:\tlearn: 0.5918534\ttotal: 59.1s\tremaining: 2m 49s\n",
      "259:\tlearn: 0.5912047\ttotal: 59.3s\tremaining: 2m 48s\n",
      "260:\tlearn: 0.5903891\ttotal: 59.6s\tremaining: 2m 48s\n",
      "261:\tlearn: 0.5894636\ttotal: 59.8s\tremaining: 2m 48s\n",
      "262:\tlearn: 0.5890768\ttotal: 60s\tremaining: 2m 48s\n",
      "263:\tlearn: 0.5884373\ttotal: 1m\tremaining: 2m 47s\n",
      "264:\tlearn: 0.5875148\ttotal: 1m\tremaining: 2m 47s\n",
      "265:\tlearn: 0.5868718\ttotal: 1m\tremaining: 2m 47s\n",
      "266:\tlearn: 0.5865152\ttotal: 1m\tremaining: 2m 47s\n",
      "267:\tlearn: 0.5853385\ttotal: 1m 1s\tremaining: 2m 46s\n",
      "268:\tlearn: 0.5845869\ttotal: 1m 1s\tremaining: 2m 46s\n",
      "269:\tlearn: 0.5841439\ttotal: 1m 1s\tremaining: 2m 46s\n",
      "270:\tlearn: 0.5829111\ttotal: 1m 1s\tremaining: 2m 46s\n",
      "271:\tlearn: 0.5818091\ttotal: 1m 1s\tremaining: 2m 45s\n",
      "272:\tlearn: 0.5805412\ttotal: 1m 2s\tremaining: 2m 45s\n",
      "273:\tlearn: 0.5797828\ttotal: 1m 2s\tremaining: 2m 45s\n",
      "274:\tlearn: 0.5789375\ttotal: 1m 2s\tremaining: 2m 45s\n",
      "275:\tlearn: 0.5782047\ttotal: 1m 2s\tremaining: 2m 44s\n",
      "276:\tlearn: 0.5777069\ttotal: 1m 3s\tremaining: 2m 44s\n",
      "277:\tlearn: 0.5771105\ttotal: 1m 3s\tremaining: 2m 44s\n",
      "278:\tlearn: 0.5764269\ttotal: 1m 3s\tremaining: 2m 44s\n",
      "279:\tlearn: 0.5752304\ttotal: 1m 3s\tremaining: 2m 43s\n",
      "280:\tlearn: 0.5746741\ttotal: 1m 3s\tremaining: 2m 43s\n",
      "281:\tlearn: 0.5742465\ttotal: 1m 4s\tremaining: 2m 43s\n",
      "282:\tlearn: 0.5736638\ttotal: 1m 4s\tremaining: 2m 42s\n",
      "283:\tlearn: 0.5731005\ttotal: 1m 4s\tremaining: 2m 42s\n",
      "284:\tlearn: 0.5723393\ttotal: 1m 4s\tremaining: 2m 42s\n",
      "285:\tlearn: 0.5716289\ttotal: 1m 4s\tremaining: 2m 42s\n",
      "286:\tlearn: 0.5705922\ttotal: 1m 5s\tremaining: 2m 41s\n",
      "287:\tlearn: 0.5700209\ttotal: 1m 5s\tremaining: 2m 41s\n",
      "288:\tlearn: 0.5694251\ttotal: 1m 5s\tremaining: 2m 41s\n",
      "289:\tlearn: 0.5690816\ttotal: 1m 5s\tremaining: 2m 40s\n",
      "290:\tlearn: 0.5681990\ttotal: 1m 5s\tremaining: 2m 40s\n",
      "291:\tlearn: 0.5668871\ttotal: 1m 6s\tremaining: 2m 40s\n",
      "292:\tlearn: 0.5664346\ttotal: 1m 6s\tremaining: 2m 40s\n",
      "293:\tlearn: 0.5654642\ttotal: 1m 6s\tremaining: 2m 39s\n",
      "294:\tlearn: 0.5646943\ttotal: 1m 6s\tremaining: 2m 39s\n",
      "295:\tlearn: 0.5639380\ttotal: 1m 6s\tremaining: 2m 39s\n",
      "296:\tlearn: 0.5628936\ttotal: 1m 7s\tremaining: 2m 39s\n",
      "297:\tlearn: 0.5619665\ttotal: 1m 7s\tremaining: 2m 38s\n",
      "298:\tlearn: 0.5612509\ttotal: 1m 7s\tremaining: 2m 38s\n",
      "299:\tlearn: 0.5603721\ttotal: 1m 7s\tremaining: 2m 38s\n",
      "300:\tlearn: 0.5598401\ttotal: 1m 8s\tremaining: 2m 38s\n",
      "301:\tlearn: 0.5590776\ttotal: 1m 8s\tremaining: 2m 37s\n",
      "302:\tlearn: 0.5585959\ttotal: 1m 8s\tremaining: 2m 37s\n",
      "303:\tlearn: 0.5580932\ttotal: 1m 8s\tremaining: 2m 37s\n",
      "304:\tlearn: 0.5573906\ttotal: 1m 8s\tremaining: 2m 36s\n",
      "305:\tlearn: 0.5565944\ttotal: 1m 9s\tremaining: 2m 36s\n",
      "306:\tlearn: 0.5557370\ttotal: 1m 9s\tremaining: 2m 36s\n",
      "307:\tlearn: 0.5552612\ttotal: 1m 9s\tremaining: 2m 36s\n",
      "308:\tlearn: 0.5548583\ttotal: 1m 9s\tremaining: 2m 36s\n",
      "309:\tlearn: 0.5542243\ttotal: 1m 9s\tremaining: 2m 35s\n",
      "310:\tlearn: 0.5533150\ttotal: 1m 10s\tremaining: 2m 35s\n",
      "311:\tlearn: 0.5526755\ttotal: 1m 10s\tremaining: 2m 35s\n",
      "312:\tlearn: 0.5520498\ttotal: 1m 10s\tremaining: 2m 35s\n",
      "313:\tlearn: 0.5512957\ttotal: 1m 10s\tremaining: 2m 34s\n",
      "314:\tlearn: 0.5509849\ttotal: 1m 11s\tremaining: 2m 34s\n",
      "315:\tlearn: 0.5502199\ttotal: 1m 11s\tremaining: 2m 34s\n",
      "316:\tlearn: 0.5495059\ttotal: 1m 11s\tremaining: 2m 34s\n",
      "317:\tlearn: 0.5489522\ttotal: 1m 11s\tremaining: 2m 33s\n",
      "318:\tlearn: 0.5485356\ttotal: 1m 11s\tremaining: 2m 33s\n",
      "319:\tlearn: 0.5481785\ttotal: 1m 12s\tremaining: 2m 33s\n",
      "320:\tlearn: 0.5477590\ttotal: 1m 12s\tremaining: 2m 33s\n",
      "321:\tlearn: 0.5472391\ttotal: 1m 12s\tremaining: 2m 32s\n",
      "322:\tlearn: 0.5461301\ttotal: 1m 12s\tremaining: 2m 32s\n",
      "323:\tlearn: 0.5452979\ttotal: 1m 13s\tremaining: 2m 32s\n",
      "324:\tlearn: 0.5449934\ttotal: 1m 13s\tremaining: 2m 32s\n",
      "325:\tlearn: 0.5443461\ttotal: 1m 13s\tremaining: 2m 32s\n",
      "326:\tlearn: 0.5438522\ttotal: 1m 13s\tremaining: 2m 31s\n",
      "327:\tlearn: 0.5431078\ttotal: 1m 13s\tremaining: 2m 31s\n",
      "328:\tlearn: 0.5425835\ttotal: 1m 14s\tremaining: 2m 31s\n",
      "329:\tlearn: 0.5419242\ttotal: 1m 14s\tremaining: 2m 31s\n",
      "330:\tlearn: 0.5412807\ttotal: 1m 14s\tremaining: 2m 30s\n",
      "331:\tlearn: 0.5405120\ttotal: 1m 14s\tremaining: 2m 30s\n",
      "332:\tlearn: 0.5399601\ttotal: 1m 15s\tremaining: 2m 30s\n",
      "333:\tlearn: 0.5394462\ttotal: 1m 15s\tremaining: 2m 30s\n",
      "334:\tlearn: 0.5385051\ttotal: 1m 15s\tremaining: 2m 30s\n",
      "335:\tlearn: 0.5379772\ttotal: 1m 15s\tremaining: 2m 29s\n",
      "336:\tlearn: 0.5375749\ttotal: 1m 16s\tremaining: 2m 29s\n",
      "337:\tlearn: 0.5369263\ttotal: 1m 16s\tremaining: 2m 29s\n",
      "338:\tlearn: 0.5364934\ttotal: 1m 16s\tremaining: 2m 28s\n",
      "339:\tlearn: 0.5360044\ttotal: 1m 16s\tremaining: 2m 28s\n",
      "340:\tlearn: 0.5354440\ttotal: 1m 16s\tremaining: 2m 28s\n",
      "341:\tlearn: 0.5346984\ttotal: 1m 17s\tremaining: 2m 28s\n",
      "342:\tlearn: 0.5340601\ttotal: 1m 17s\tremaining: 2m 28s\n",
      "343:\tlearn: 0.5335757\ttotal: 1m 17s\tremaining: 2m 27s\n",
      "344:\tlearn: 0.5332862\ttotal: 1m 17s\tremaining: 2m 27s\n",
      "345:\tlearn: 0.5326956\ttotal: 1m 17s\tremaining: 2m 27s\n",
      "346:\tlearn: 0.5319816\ttotal: 1m 18s\tremaining: 2m 27s\n",
      "347:\tlearn: 0.5313546\ttotal: 1m 18s\tremaining: 2m 27s\n",
      "348:\tlearn: 0.5306128\ttotal: 1m 18s\tremaining: 2m 26s\n",
      "349:\tlearn: 0.5298633\ttotal: 1m 18s\tremaining: 2m 26s\n",
      "350:\tlearn: 0.5294855\ttotal: 1m 19s\tremaining: 2m 26s\n",
      "351:\tlearn: 0.5288372\ttotal: 1m 19s\tremaining: 2m 26s\n",
      "352:\tlearn: 0.5284016\ttotal: 1m 19s\tremaining: 2m 25s\n",
      "353:\tlearn: 0.5279513\ttotal: 1m 19s\tremaining: 2m 25s\n",
      "354:\tlearn: 0.5276625\ttotal: 1m 20s\tremaining: 2m 25s\n",
      "355:\tlearn: 0.5273071\ttotal: 1m 20s\tremaining: 2m 25s\n",
      "356:\tlearn: 0.5269892\ttotal: 1m 20s\tremaining: 2m 25s\n",
      "357:\tlearn: 0.5266822\ttotal: 1m 20s\tremaining: 2m 24s\n",
      "358:\tlearn: 0.5262695\ttotal: 1m 20s\tremaining: 2m 24s\n",
      "359:\tlearn: 0.5258314\ttotal: 1m 21s\tremaining: 2m 24s\n",
      "360:\tlearn: 0.5254163\ttotal: 1m 21s\tremaining: 2m 24s\n",
      "361:\tlearn: 0.5249876\ttotal: 1m 21s\tremaining: 2m 23s\n",
      "362:\tlearn: 0.5244495\ttotal: 1m 21s\tremaining: 2m 23s\n",
      "363:\tlearn: 0.5240611\ttotal: 1m 22s\tremaining: 2m 23s\n",
      "364:\tlearn: 0.5235081\ttotal: 1m 22s\tremaining: 2m 23s\n",
      "365:\tlearn: 0.5231643\ttotal: 1m 22s\tremaining: 2m 22s\n",
      "366:\tlearn: 0.5226613\ttotal: 1m 22s\tremaining: 2m 22s\n",
      "367:\tlearn: 0.5220795\ttotal: 1m 22s\tremaining: 2m 22s\n",
      "368:\tlearn: 0.5217364\ttotal: 1m 23s\tremaining: 2m 22s\n",
      "369:\tlearn: 0.5214303\ttotal: 1m 23s\tremaining: 2m 21s\n",
      "370:\tlearn: 0.5207880\ttotal: 1m 23s\tremaining: 2m 21s\n",
      "371:\tlearn: 0.5204614\ttotal: 1m 23s\tremaining: 2m 21s\n",
      "372:\tlearn: 0.5200667\ttotal: 1m 23s\tremaining: 2m 21s\n",
      "373:\tlearn: 0.5195539\ttotal: 1m 24s\tremaining: 2m 20s\n",
      "374:\tlearn: 0.5191483\ttotal: 1m 24s\tremaining: 2m 20s\n",
      "375:\tlearn: 0.5189901\ttotal: 1m 24s\tremaining: 2m 20s\n",
      "376:\tlearn: 0.5185252\ttotal: 1m 24s\tremaining: 2m 19s\n",
      "377:\tlearn: 0.5180564\ttotal: 1m 24s\tremaining: 2m 19s\n",
      "378:\tlearn: 0.5176475\ttotal: 1m 25s\tremaining: 2m 19s\n",
      "379:\tlearn: 0.5171165\ttotal: 1m 25s\tremaining: 2m 19s\n",
      "380:\tlearn: 0.5168632\ttotal: 1m 25s\tremaining: 2m 19s\n",
      "381:\tlearn: 0.5166508\ttotal: 1m 25s\tremaining: 2m 18s\n",
      "382:\tlearn: 0.5162477\ttotal: 1m 26s\tremaining: 2m 18s\n",
      "383:\tlearn: 0.5158320\ttotal: 1m 26s\tremaining: 2m 18s\n",
      "384:\tlearn: 0.5153451\ttotal: 1m 26s\tremaining: 2m 18s\n",
      "385:\tlearn: 0.5150888\ttotal: 1m 26s\tremaining: 2m 17s\n",
      "386:\tlearn: 0.5146320\ttotal: 1m 26s\tremaining: 2m 17s\n",
      "387:\tlearn: 0.5138286\ttotal: 1m 27s\tremaining: 2m 17s\n",
      "388:\tlearn: 0.5133443\ttotal: 1m 27s\tremaining: 2m 17s\n",
      "389:\tlearn: 0.5129822\ttotal: 1m 27s\tremaining: 2m 16s\n",
      "390:\tlearn: 0.5126961\ttotal: 1m 27s\tremaining: 2m 16s\n",
      "391:\tlearn: 0.5122173\ttotal: 1m 27s\tremaining: 2m 16s\n",
      "392:\tlearn: 0.5119037\ttotal: 1m 28s\tremaining: 2m 16s\n",
      "393:\tlearn: 0.5115853\ttotal: 1m 28s\tremaining: 2m 15s\n",
      "394:\tlearn: 0.5111168\ttotal: 1m 28s\tremaining: 2m 15s\n",
      "395:\tlearn: 0.5107102\ttotal: 1m 28s\tremaining: 2m 15s\n",
      "396:\tlearn: 0.5103595\ttotal: 1m 29s\tremaining: 2m 15s\n",
      "397:\tlearn: 0.5098570\ttotal: 1m 29s\tremaining: 2m 15s\n",
      "398:\tlearn: 0.5095821\ttotal: 1m 29s\tremaining: 2m 14s\n",
      "399:\tlearn: 0.5093140\ttotal: 1m 29s\tremaining: 2m 14s\n",
      "400:\tlearn: 0.5087358\ttotal: 1m 29s\tremaining: 2m 14s\n",
      "401:\tlearn: 0.5083354\ttotal: 1m 30s\tremaining: 2m 14s\n",
      "402:\tlearn: 0.5080853\ttotal: 1m 30s\tremaining: 2m 13s\n",
      "403:\tlearn: 0.5076366\ttotal: 1m 30s\tremaining: 2m 13s\n",
      "404:\tlearn: 0.5070493\ttotal: 1m 30s\tremaining: 2m 13s\n",
      "405:\tlearn: 0.5067669\ttotal: 1m 30s\tremaining: 2m 13s\n",
      "406:\tlearn: 0.5063281\ttotal: 1m 31s\tremaining: 2m 12s\n",
      "407:\tlearn: 0.5058127\ttotal: 1m 31s\tremaining: 2m 12s\n",
      "408:\tlearn: 0.5053774\ttotal: 1m 31s\tremaining: 2m 12s\n",
      "409:\tlearn: 0.5049763\ttotal: 1m 31s\tremaining: 2m 12s\n",
      "410:\tlearn: 0.5046165\ttotal: 1m 32s\tremaining: 2m 11s\n",
      "411:\tlearn: 0.5041467\ttotal: 1m 32s\tremaining: 2m 11s\n",
      "412:\tlearn: 0.5037421\ttotal: 1m 32s\tremaining: 2m 11s\n",
      "413:\tlearn: 0.5034839\ttotal: 1m 32s\tremaining: 2m 11s\n",
      "414:\tlearn: 0.5028892\ttotal: 1m 32s\tremaining: 2m 10s\n",
      "415:\tlearn: 0.5024708\ttotal: 1m 33s\tremaining: 2m 10s\n",
      "416:\tlearn: 0.5020098\ttotal: 1m 33s\tremaining: 2m 10s\n",
      "417:\tlearn: 0.5016423\ttotal: 1m 33s\tremaining: 2m 10s\n",
      "418:\tlearn: 0.5012160\ttotal: 1m 33s\tremaining: 2m 9s\n",
      "419:\tlearn: 0.5005596\ttotal: 1m 33s\tremaining: 2m 9s\n",
      "420:\tlearn: 0.4999473\ttotal: 1m 34s\tremaining: 2m 9s\n",
      "421:\tlearn: 0.4994164\ttotal: 1m 34s\tremaining: 2m 9s\n",
      "422:\tlearn: 0.4990808\ttotal: 1m 34s\tremaining: 2m 8s\n",
      "423:\tlearn: 0.4986489\ttotal: 1m 34s\tremaining: 2m 8s\n",
      "424:\tlearn: 0.4983823\ttotal: 1m 34s\tremaining: 2m 8s\n",
      "425:\tlearn: 0.4981118\ttotal: 1m 35s\tremaining: 2m 8s\n",
      "426:\tlearn: 0.4978264\ttotal: 1m 35s\tremaining: 2m 7s\n",
      "427:\tlearn: 0.4975058\ttotal: 1m 35s\tremaining: 2m 7s\n",
      "428:\tlearn: 0.4971244\ttotal: 1m 35s\tremaining: 2m 7s\n",
      "429:\tlearn: 0.4965201\ttotal: 1m 35s\tremaining: 2m 7s\n",
      "430:\tlearn: 0.4962556\ttotal: 1m 36s\tremaining: 2m 6s\n",
      "431:\tlearn: 0.4958184\ttotal: 1m 36s\tremaining: 2m 6s\n",
      "432:\tlearn: 0.4953775\ttotal: 1m 36s\tremaining: 2m 6s\n",
      "433:\tlearn: 0.4949742\ttotal: 1m 36s\tremaining: 2m 6s\n",
      "434:\tlearn: 0.4946782\ttotal: 1m 37s\tremaining: 2m 6s\n",
      "435:\tlearn: 0.4942660\ttotal: 1m 37s\tremaining: 2m 5s\n",
      "436:\tlearn: 0.4935629\ttotal: 1m 37s\tremaining: 2m 5s\n",
      "437:\tlearn: 0.4931840\ttotal: 1m 37s\tremaining: 2m 5s\n",
      "438:\tlearn: 0.4928973\ttotal: 1m 37s\tremaining: 2m 5s\n",
      "439:\tlearn: 0.4925328\ttotal: 1m 38s\tremaining: 2m 4s\n",
      "440:\tlearn: 0.4921962\ttotal: 1m 38s\tremaining: 2m 4s\n",
      "441:\tlearn: 0.4917233\ttotal: 1m 38s\tremaining: 2m 4s\n",
      "442:\tlearn: 0.4914420\ttotal: 1m 38s\tremaining: 2m 4s\n",
      "443:\tlearn: 0.4911656\ttotal: 1m 39s\tremaining: 2m 4s\n",
      "444:\tlearn: 0.4908217\ttotal: 1m 39s\tremaining: 2m 3s\n",
      "445:\tlearn: 0.4904314\ttotal: 1m 39s\tremaining: 2m 3s\n",
      "446:\tlearn: 0.4901689\ttotal: 1m 39s\tremaining: 2m 3s\n",
      "447:\tlearn: 0.4898675\ttotal: 1m 39s\tremaining: 2m 3s\n",
      "448:\tlearn: 0.4895962\ttotal: 1m 40s\tremaining: 2m 2s\n",
      "449:\tlearn: 0.4893383\ttotal: 1m 40s\tremaining: 2m 2s\n",
      "450:\tlearn: 0.4890527\ttotal: 1m 40s\tremaining: 2m 2s\n",
      "451:\tlearn: 0.4885781\ttotal: 1m 40s\tremaining: 2m 2s\n",
      "452:\tlearn: 0.4882490\ttotal: 1m 41s\tremaining: 2m 2s\n",
      "453:\tlearn: 0.4880631\ttotal: 1m 41s\tremaining: 2m 1s\n",
      "454:\tlearn: 0.4878425\ttotal: 1m 41s\tremaining: 2m 1s\n",
      "455:\tlearn: 0.4872424\ttotal: 1m 41s\tremaining: 2m 1s\n",
      "456:\tlearn: 0.4865449\ttotal: 1m 41s\tremaining: 2m 1s\n",
      "457:\tlearn: 0.4863207\ttotal: 1m 42s\tremaining: 2m\n",
      "458:\tlearn: 0.4860325\ttotal: 1m 42s\tremaining: 2m\n",
      "459:\tlearn: 0.4857364\ttotal: 1m 42s\tremaining: 2m\n",
      "460:\tlearn: 0.4854091\ttotal: 1m 42s\tremaining: 2m\n",
      "461:\tlearn: 0.4850453\ttotal: 1m 43s\tremaining: 2m\n",
      "462:\tlearn: 0.4845769\ttotal: 1m 43s\tremaining: 1m 59s\n",
      "463:\tlearn: 0.4842443\ttotal: 1m 43s\tremaining: 1m 59s\n",
      "464:\tlearn: 0.4837596\ttotal: 1m 43s\tremaining: 1m 59s\n",
      "465:\tlearn: 0.4833700\ttotal: 1m 43s\tremaining: 1m 59s\n",
      "466:\tlearn: 0.4828288\ttotal: 1m 44s\tremaining: 1m 58s\n",
      "467:\tlearn: 0.4822966\ttotal: 1m 44s\tremaining: 1m 58s\n",
      "468:\tlearn: 0.4819489\ttotal: 1m 44s\tremaining: 1m 58s\n",
      "469:\tlearn: 0.4815117\ttotal: 1m 44s\tremaining: 1m 58s\n",
      "470:\tlearn: 0.4811811\ttotal: 1m 45s\tremaining: 1m 57s\n",
      "471:\tlearn: 0.4808409\ttotal: 1m 45s\tremaining: 1m 57s\n",
      "472:\tlearn: 0.4804781\ttotal: 1m 45s\tremaining: 1m 57s\n",
      "473:\tlearn: 0.4799467\ttotal: 1m 45s\tremaining: 1m 57s\n",
      "474:\tlearn: 0.4794649\ttotal: 1m 45s\tremaining: 1m 57s\n",
      "475:\tlearn: 0.4790647\ttotal: 1m 46s\tremaining: 1m 56s\n",
      "476:\tlearn: 0.4783888\ttotal: 1m 46s\tremaining: 1m 56s\n",
      "477:\tlearn: 0.4780364\ttotal: 1m 46s\tremaining: 1m 56s\n",
      "478:\tlearn: 0.4777006\ttotal: 1m 46s\tremaining: 1m 56s\n",
      "479:\tlearn: 0.4771971\ttotal: 1m 47s\tremaining: 1m 56s\n",
      "480:\tlearn: 0.4767612\ttotal: 1m 47s\tremaining: 1m 55s\n",
      "481:\tlearn: 0.4761908\ttotal: 1m 47s\tremaining: 1m 55s\n",
      "482:\tlearn: 0.4759055\ttotal: 1m 47s\tremaining: 1m 55s\n",
      "483:\tlearn: 0.4755833\ttotal: 1m 48s\tremaining: 1m 55s\n",
      "484:\tlearn: 0.4753262\ttotal: 1m 48s\tremaining: 1m 54s\n",
      "485:\tlearn: 0.4749928\ttotal: 1m 48s\tremaining: 1m 54s\n",
      "486:\tlearn: 0.4747627\ttotal: 1m 49s\tremaining: 1m 54s\n",
      "487:\tlearn: 0.4743241\ttotal: 1m 49s\tremaining: 1m 55s\n",
      "488:\tlearn: 0.4740483\ttotal: 1m 50s\tremaining: 1m 55s\n",
      "489:\tlearn: 0.4737193\ttotal: 1m 50s\tremaining: 1m 54s\n",
      "490:\tlearn: 0.4735030\ttotal: 1m 50s\tremaining: 1m 54s\n",
      "491:\tlearn: 0.4732739\ttotal: 1m 50s\tremaining: 1m 54s\n",
      "492:\tlearn: 0.4730583\ttotal: 1m 51s\tremaining: 1m 54s\n",
      "493:\tlearn: 0.4728605\ttotal: 1m 51s\tremaining: 1m 53s\n",
      "494:\tlearn: 0.4721983\ttotal: 1m 51s\tremaining: 1m 53s\n",
      "495:\tlearn: 0.4718956\ttotal: 1m 51s\tremaining: 1m 53s\n",
      "496:\tlearn: 0.4717237\ttotal: 1m 51s\tremaining: 1m 53s\n",
      "497:\tlearn: 0.4714019\ttotal: 1m 52s\tremaining: 1m 53s\n",
      "498:\tlearn: 0.4711694\ttotal: 1m 52s\tremaining: 1m 52s\n",
      "499:\tlearn: 0.4708152\ttotal: 1m 52s\tremaining: 1m 52s\n",
      "500:\tlearn: 0.4705698\ttotal: 1m 52s\tremaining: 1m 52s\n",
      "501:\tlearn: 0.4702865\ttotal: 1m 53s\tremaining: 1m 52s\n",
      "502:\tlearn: 0.4701225\ttotal: 1m 53s\tremaining: 1m 51s\n",
      "503:\tlearn: 0.4697730\ttotal: 1m 53s\tremaining: 1m 51s\n",
      "504:\tlearn: 0.4695116\ttotal: 1m 53s\tremaining: 1m 51s\n",
      "505:\tlearn: 0.4689723\ttotal: 1m 53s\tremaining: 1m 51s\n",
      "506:\tlearn: 0.4687865\ttotal: 1m 54s\tremaining: 1m 50s\n",
      "507:\tlearn: 0.4685406\ttotal: 1m 54s\tremaining: 1m 50s\n",
      "508:\tlearn: 0.4683368\ttotal: 1m 54s\tremaining: 1m 50s\n",
      "509:\tlearn: 0.4678143\ttotal: 1m 54s\tremaining: 1m 50s\n",
      "510:\tlearn: 0.4675071\ttotal: 1m 54s\tremaining: 1m 50s\n",
      "511:\tlearn: 0.4671957\ttotal: 1m 55s\tremaining: 1m 49s\n",
      "512:\tlearn: 0.4670035\ttotal: 1m 55s\tremaining: 1m 49s\n",
      "513:\tlearn: 0.4667223\ttotal: 1m 55s\tremaining: 1m 49s\n",
      "514:\tlearn: 0.4664190\ttotal: 1m 55s\tremaining: 1m 49s\n",
      "515:\tlearn: 0.4661973\ttotal: 1m 56s\tremaining: 1m 48s\n",
      "516:\tlearn: 0.4659917\ttotal: 1m 56s\tremaining: 1m 48s\n",
      "517:\tlearn: 0.4657990\ttotal: 1m 56s\tremaining: 1m 48s\n",
      "518:\tlearn: 0.4654798\ttotal: 1m 56s\tremaining: 1m 48s\n",
      "519:\tlearn: 0.4652119\ttotal: 1m 56s\tremaining: 1m 47s\n",
      "520:\tlearn: 0.4650066\ttotal: 1m 57s\tremaining: 1m 47s\n",
      "521:\tlearn: 0.4647546\ttotal: 1m 57s\tremaining: 1m 47s\n",
      "522:\tlearn: 0.4645548\ttotal: 1m 57s\tremaining: 1m 47s\n",
      "523:\tlearn: 0.4642876\ttotal: 1m 57s\tremaining: 1m 47s\n",
      "524:\tlearn: 0.4638323\ttotal: 1m 58s\tremaining: 1m 46s\n",
      "525:\tlearn: 0.4635762\ttotal: 1m 58s\tremaining: 1m 46s\n",
      "526:\tlearn: 0.4633892\ttotal: 1m 58s\tremaining: 1m 46s\n",
      "527:\tlearn: 0.4631287\ttotal: 1m 58s\tremaining: 1m 46s\n",
      "528:\tlearn: 0.4629079\ttotal: 1m 58s\tremaining: 1m 45s\n",
      "529:\tlearn: 0.4624598\ttotal: 1m 59s\tremaining: 1m 45s\n",
      "530:\tlearn: 0.4622087\ttotal: 1m 59s\tremaining: 1m 45s\n",
      "531:\tlearn: 0.4620416\ttotal: 1m 59s\tremaining: 1m 45s\n",
      "532:\tlearn: 0.4617292\ttotal: 1m 59s\tremaining: 1m 44s\n",
      "533:\tlearn: 0.4612991\ttotal: 2m\tremaining: 1m 44s\n",
      "534:\tlearn: 0.4610047\ttotal: 2m\tremaining: 1m 44s\n",
      "535:\tlearn: 0.4607699\ttotal: 2m\tremaining: 1m 44s\n",
      "536:\tlearn: 0.4606352\ttotal: 2m\tremaining: 1m 44s\n",
      "537:\tlearn: 0.4601491\ttotal: 2m\tremaining: 1m 43s\n",
      "538:\tlearn: 0.4597837\ttotal: 2m 1s\tremaining: 1m 43s\n",
      "539:\tlearn: 0.4595770\ttotal: 2m 1s\tremaining: 1m 43s\n",
      "540:\tlearn: 0.4592320\ttotal: 2m 1s\tremaining: 1m 43s\n",
      "541:\tlearn: 0.4590475\ttotal: 2m 1s\tremaining: 1m 42s\n",
      "542:\tlearn: 0.4585531\ttotal: 2m 2s\tremaining: 1m 42s\n",
      "543:\tlearn: 0.4582335\ttotal: 2m 2s\tremaining: 1m 42s\n",
      "544:\tlearn: 0.4578832\ttotal: 2m 2s\tremaining: 1m 42s\n",
      "545:\tlearn: 0.4574131\ttotal: 2m 2s\tremaining: 1m 42s\n",
      "546:\tlearn: 0.4571014\ttotal: 2m 3s\tremaining: 1m 41s\n",
      "547:\tlearn: 0.4568871\ttotal: 2m 3s\tremaining: 1m 41s\n",
      "548:\tlearn: 0.4566459\ttotal: 2m 3s\tremaining: 1m 41s\n",
      "549:\tlearn: 0.4563852\ttotal: 2m 3s\tremaining: 1m 41s\n",
      "550:\tlearn: 0.4561102\ttotal: 2m 3s\tremaining: 1m 41s\n",
      "551:\tlearn: 0.4558447\ttotal: 2m 4s\tremaining: 1m 40s\n",
      "552:\tlearn: 0.4556140\ttotal: 2m 4s\tremaining: 1m 40s\n",
      "553:\tlearn: 0.4553301\ttotal: 2m 4s\tremaining: 1m 40s\n",
      "554:\tlearn: 0.4551372\ttotal: 2m 4s\tremaining: 1m 40s\n",
      "555:\tlearn: 0.4549797\ttotal: 2m 5s\tremaining: 1m 39s\n",
      "556:\tlearn: 0.4546842\ttotal: 2m 5s\tremaining: 1m 39s\n",
      "557:\tlearn: 0.4545147\ttotal: 2m 5s\tremaining: 1m 39s\n",
      "558:\tlearn: 0.4544009\ttotal: 2m 5s\tremaining: 1m 39s\n",
      "559:\tlearn: 0.4541314\ttotal: 2m 5s\tremaining: 1m 38s\n",
      "560:\tlearn: 0.4537064\ttotal: 2m 5s\tremaining: 1m 38s\n",
      "561:\tlearn: 0.4534093\ttotal: 2m 6s\tremaining: 1m 38s\n",
      "562:\tlearn: 0.4531847\ttotal: 2m 6s\tremaining: 1m 38s\n",
      "563:\tlearn: 0.4529468\ttotal: 2m 6s\tremaining: 1m 37s\n",
      "564:\tlearn: 0.4527112\ttotal: 2m 6s\tremaining: 1m 37s\n",
      "565:\tlearn: 0.4524366\ttotal: 2m 7s\tremaining: 1m 37s\n",
      "566:\tlearn: 0.4521698\ttotal: 2m 7s\tremaining: 1m 37s\n",
      "567:\tlearn: 0.4519013\ttotal: 2m 7s\tremaining: 1m 37s\n",
      "568:\tlearn: 0.4516128\ttotal: 2m 7s\tremaining: 1m 36s\n",
      "569:\tlearn: 0.4513105\ttotal: 2m 8s\tremaining: 1m 36s\n",
      "570:\tlearn: 0.4510693\ttotal: 2m 8s\tremaining: 1m 36s\n",
      "571:\tlearn: 0.4507646\ttotal: 2m 8s\tremaining: 1m 36s\n",
      "572:\tlearn: 0.4505299\ttotal: 2m 8s\tremaining: 1m 35s\n",
      "573:\tlearn: 0.4501283\ttotal: 2m 8s\tremaining: 1m 35s\n",
      "574:\tlearn: 0.4497571\ttotal: 2m 9s\tremaining: 1m 35s\n",
      "575:\tlearn: 0.4493361\ttotal: 2m 9s\tremaining: 1m 35s\n",
      "576:\tlearn: 0.4491154\ttotal: 2m 9s\tremaining: 1m 35s\n",
      "577:\tlearn: 0.4489279\ttotal: 2m 9s\tremaining: 1m 34s\n",
      "578:\tlearn: 0.4487967\ttotal: 2m 9s\tremaining: 1m 34s\n",
      "579:\tlearn: 0.4485038\ttotal: 2m 10s\tremaining: 1m 34s\n",
      "580:\tlearn: 0.4481091\ttotal: 2m 10s\tremaining: 1m 34s\n",
      "581:\tlearn: 0.4479042\ttotal: 2m 10s\tremaining: 1m 33s\n",
      "582:\tlearn: 0.4475792\ttotal: 2m 10s\tremaining: 1m 33s\n",
      "583:\tlearn: 0.4472678\ttotal: 2m 11s\tremaining: 1m 33s\n",
      "584:\tlearn: 0.4470326\ttotal: 2m 11s\tremaining: 1m 33s\n",
      "585:\tlearn: 0.4466720\ttotal: 2m 11s\tremaining: 1m 33s\n",
      "586:\tlearn: 0.4464818\ttotal: 2m 11s\tremaining: 1m 32s\n",
      "587:\tlearn: 0.4461879\ttotal: 2m 12s\tremaining: 1m 32s\n",
      "588:\tlearn: 0.4458941\ttotal: 2m 12s\tremaining: 1m 32s\n",
      "589:\tlearn: 0.4457366\ttotal: 2m 12s\tremaining: 1m 32s\n",
      "590:\tlearn: 0.4455188\ttotal: 2m 12s\tremaining: 1m 31s\n",
      "591:\tlearn: 0.4451780\ttotal: 2m 12s\tremaining: 1m 31s\n",
      "592:\tlearn: 0.4449449\ttotal: 2m 13s\tremaining: 1m 31s\n",
      "593:\tlearn: 0.4446002\ttotal: 2m 13s\tremaining: 1m 31s\n",
      "594:\tlearn: 0.4444062\ttotal: 2m 13s\tremaining: 1m 30s\n",
      "595:\tlearn: 0.4440495\ttotal: 2m 13s\tremaining: 1m 30s\n",
      "596:\tlearn: 0.4437245\ttotal: 2m 14s\tremaining: 1m 30s\n",
      "597:\tlearn: 0.4434092\ttotal: 2m 14s\tremaining: 1m 30s\n",
      "598:\tlearn: 0.4431591\ttotal: 2m 14s\tremaining: 1m 30s\n",
      "599:\tlearn: 0.4429544\ttotal: 2m 14s\tremaining: 1m 29s\n",
      "600:\tlearn: 0.4425993\ttotal: 2m 14s\tremaining: 1m 29s\n",
      "601:\tlearn: 0.4424035\ttotal: 2m 15s\tremaining: 1m 29s\n",
      "602:\tlearn: 0.4421276\ttotal: 2m 15s\tremaining: 1m 29s\n",
      "603:\tlearn: 0.4417988\ttotal: 2m 15s\tremaining: 1m 28s\n",
      "604:\tlearn: 0.4416193\ttotal: 2m 15s\tremaining: 1m 28s\n",
      "605:\tlearn: 0.4414733\ttotal: 2m 15s\tremaining: 1m 28s\n",
      "606:\tlearn: 0.4413471\ttotal: 2m 16s\tremaining: 1m 28s\n",
      "607:\tlearn: 0.4411507\ttotal: 2m 16s\tremaining: 1m 27s\n",
      "608:\tlearn: 0.4409878\ttotal: 2m 16s\tremaining: 1m 27s\n",
      "609:\tlearn: 0.4405883\ttotal: 2m 16s\tremaining: 1m 27s\n",
      "610:\tlearn: 0.4402148\ttotal: 2m 17s\tremaining: 1m 27s\n",
      "611:\tlearn: 0.4399417\ttotal: 2m 17s\tremaining: 1m 27s\n",
      "612:\tlearn: 0.4397646\ttotal: 2m 17s\tremaining: 1m 26s\n",
      "613:\tlearn: 0.4393417\ttotal: 2m 17s\tremaining: 1m 26s\n",
      "614:\tlearn: 0.4389934\ttotal: 2m 17s\tremaining: 1m 26s\n",
      "615:\tlearn: 0.4387019\ttotal: 2m 18s\tremaining: 1m 26s\n",
      "616:\tlearn: 0.4384774\ttotal: 2m 18s\tremaining: 1m 25s\n",
      "617:\tlearn: 0.4382477\ttotal: 2m 18s\tremaining: 1m 25s\n",
      "618:\tlearn: 0.4379258\ttotal: 2m 18s\tremaining: 1m 25s\n",
      "619:\tlearn: 0.4377181\ttotal: 2m 19s\tremaining: 1m 25s\n",
      "620:\tlearn: 0.4375675\ttotal: 2m 19s\tremaining: 1m 24s\n",
      "621:\tlearn: 0.4373695\ttotal: 2m 19s\tremaining: 1m 24s\n",
      "622:\tlearn: 0.4371305\ttotal: 2m 19s\tremaining: 1m 24s\n",
      "623:\tlearn: 0.4369189\ttotal: 2m 19s\tremaining: 1m 24s\n",
      "624:\tlearn: 0.4365883\ttotal: 2m 20s\tremaining: 1m 24s\n",
      "625:\tlearn: 0.4362428\ttotal: 2m 20s\tremaining: 1m 23s\n",
      "626:\tlearn: 0.4359702\ttotal: 2m 20s\tremaining: 1m 23s\n",
      "627:\tlearn: 0.4356888\ttotal: 2m 20s\tremaining: 1m 23s\n",
      "628:\tlearn: 0.4355347\ttotal: 2m 20s\tremaining: 1m 23s\n",
      "629:\tlearn: 0.4353778\ttotal: 2m 21s\tremaining: 1m 22s\n",
      "630:\tlearn: 0.4352215\ttotal: 2m 21s\tremaining: 1m 22s\n",
      "631:\tlearn: 0.4349964\ttotal: 2m 21s\tremaining: 1m 22s\n",
      "632:\tlearn: 0.4348693\ttotal: 2m 21s\tremaining: 1m 22s\n",
      "633:\tlearn: 0.4346198\ttotal: 2m 22s\tremaining: 1m 21s\n",
      "634:\tlearn: 0.4344376\ttotal: 2m 22s\tremaining: 1m 21s\n",
      "635:\tlearn: 0.4342056\ttotal: 2m 22s\tremaining: 1m 21s\n",
      "636:\tlearn: 0.4339884\ttotal: 2m 22s\tremaining: 1m 21s\n",
      "637:\tlearn: 0.4336312\ttotal: 2m 22s\tremaining: 1m 21s\n",
      "638:\tlearn: 0.4331512\ttotal: 2m 23s\tremaining: 1m 20s\n",
      "639:\tlearn: 0.4329221\ttotal: 2m 23s\tremaining: 1m 20s\n",
      "640:\tlearn: 0.4327405\ttotal: 2m 23s\tremaining: 1m 20s\n",
      "641:\tlearn: 0.4325530\ttotal: 2m 23s\tremaining: 1m 20s\n",
      "642:\tlearn: 0.4322471\ttotal: 2m 23s\tremaining: 1m 19s\n",
      "643:\tlearn: 0.4320065\ttotal: 2m 24s\tremaining: 1m 19s\n",
      "644:\tlearn: 0.4316437\ttotal: 2m 24s\tremaining: 1m 19s\n",
      "645:\tlearn: 0.4313916\ttotal: 2m 24s\tremaining: 1m 19s\n",
      "646:\tlearn: 0.4311873\ttotal: 2m 24s\tremaining: 1m 19s\n",
      "647:\tlearn: 0.4309564\ttotal: 2m 25s\tremaining: 1m 18s\n",
      "648:\tlearn: 0.4307431\ttotal: 2m 25s\tremaining: 1m 18s\n",
      "649:\tlearn: 0.4305734\ttotal: 2m 25s\tremaining: 1m 18s\n",
      "650:\tlearn: 0.4302045\ttotal: 2m 25s\tremaining: 1m 18s\n",
      "651:\tlearn: 0.4300267\ttotal: 2m 25s\tremaining: 1m 17s\n",
      "652:\tlearn: 0.4296946\ttotal: 2m 26s\tremaining: 1m 17s\n",
      "653:\tlearn: 0.4294393\ttotal: 2m 26s\tremaining: 1m 17s\n",
      "654:\tlearn: 0.4289299\ttotal: 2m 26s\tremaining: 1m 17s\n",
      "655:\tlearn: 0.4286529\ttotal: 2m 26s\tremaining: 1m 17s\n",
      "656:\tlearn: 0.4283998\ttotal: 2m 27s\tremaining: 1m 16s\n",
      "657:\tlearn: 0.4281212\ttotal: 2m 27s\tremaining: 1m 16s\n",
      "658:\tlearn: 0.4279141\ttotal: 2m 27s\tremaining: 1m 16s\n",
      "659:\tlearn: 0.4276849\ttotal: 2m 27s\tremaining: 1m 16s\n",
      "660:\tlearn: 0.4275244\ttotal: 2m 27s\tremaining: 1m 15s\n",
      "661:\tlearn: 0.4272570\ttotal: 2m 28s\tremaining: 1m 15s\n",
      "662:\tlearn: 0.4269758\ttotal: 2m 28s\tremaining: 1m 15s\n",
      "663:\tlearn: 0.4267681\ttotal: 2m 28s\tremaining: 1m 15s\n",
      "664:\tlearn: 0.4265813\ttotal: 2m 28s\tremaining: 1m 15s\n",
      "665:\tlearn: 0.4263704\ttotal: 2m 29s\tremaining: 1m 14s\n",
      "666:\tlearn: 0.4261328\ttotal: 2m 29s\tremaining: 1m 14s\n",
      "667:\tlearn: 0.4258870\ttotal: 2m 29s\tremaining: 1m 14s\n",
      "668:\tlearn: 0.4255642\ttotal: 2m 29s\tremaining: 1m 14s\n",
      "669:\tlearn: 0.4253429\ttotal: 2m 30s\tremaining: 1m 13s\n",
      "670:\tlearn: 0.4251939\ttotal: 2m 30s\tremaining: 1m 13s\n",
      "671:\tlearn: 0.4250850\ttotal: 2m 30s\tremaining: 1m 13s\n",
      "672:\tlearn: 0.4249602\ttotal: 2m 30s\tremaining: 1m 13s\n",
      "673:\tlearn: 0.4247946\ttotal: 2m 30s\tremaining: 1m 13s\n",
      "674:\tlearn: 0.4245627\ttotal: 2m 31s\tremaining: 1m 12s\n",
      "675:\tlearn: 0.4243321\ttotal: 2m 31s\tremaining: 1m 12s\n",
      "676:\tlearn: 0.4239831\ttotal: 2m 31s\tremaining: 1m 12s\n",
      "677:\tlearn: 0.4237625\ttotal: 2m 31s\tremaining: 1m 12s\n",
      "678:\tlearn: 0.4235063\ttotal: 2m 32s\tremaining: 1m 11s\n",
      "679:\tlearn: 0.4233823\ttotal: 2m 32s\tremaining: 1m 11s\n",
      "680:\tlearn: 0.4231768\ttotal: 2m 32s\tremaining: 1m 11s\n",
      "681:\tlearn: 0.4229634\ttotal: 2m 32s\tremaining: 1m 11s\n",
      "682:\tlearn: 0.4228253\ttotal: 2m 32s\tremaining: 1m 10s\n",
      "683:\tlearn: 0.4225627\ttotal: 2m 33s\tremaining: 1m 10s\n",
      "684:\tlearn: 0.4222424\ttotal: 2m 33s\tremaining: 1m 10s\n",
      "685:\tlearn: 0.4220891\ttotal: 2m 33s\tremaining: 1m 10s\n",
      "686:\tlearn: 0.4219490\ttotal: 2m 33s\tremaining: 1m 10s\n",
      "687:\tlearn: 0.4218339\ttotal: 2m 33s\tremaining: 1m 9s\n",
      "688:\tlearn: 0.4217031\ttotal: 2m 34s\tremaining: 1m 9s\n",
      "689:\tlearn: 0.4215237\ttotal: 2m 34s\tremaining: 1m 9s\n",
      "690:\tlearn: 0.4213644\ttotal: 2m 34s\tremaining: 1m 9s\n",
      "691:\tlearn: 0.4210764\ttotal: 2m 34s\tremaining: 1m 8s\n",
      "692:\tlearn: 0.4209129\ttotal: 2m 35s\tremaining: 1m 8s\n",
      "693:\tlearn: 0.4207423\ttotal: 2m 35s\tremaining: 1m 8s\n",
      "694:\tlearn: 0.4203641\ttotal: 2m 35s\tremaining: 1m 8s\n",
      "695:\tlearn: 0.4200967\ttotal: 2m 35s\tremaining: 1m 8s\n",
      "696:\tlearn: 0.4198704\ttotal: 2m 35s\tremaining: 1m 7s\n",
      "697:\tlearn: 0.4196466\ttotal: 2m 36s\tremaining: 1m 7s\n",
      "698:\tlearn: 0.4195008\ttotal: 2m 36s\tremaining: 1m 7s\n",
      "699:\tlearn: 0.4193477\ttotal: 2m 36s\tremaining: 1m 7s\n",
      "700:\tlearn: 0.4191052\ttotal: 2m 36s\tremaining: 1m 6s\n",
      "701:\tlearn: 0.4189507\ttotal: 2m 37s\tremaining: 1m 6s\n",
      "702:\tlearn: 0.4187564\ttotal: 2m 37s\tremaining: 1m 6s\n",
      "703:\tlearn: 0.4184858\ttotal: 2m 37s\tremaining: 1m 6s\n",
      "704:\tlearn: 0.4182935\ttotal: 2m 37s\tremaining: 1m 6s\n",
      "705:\tlearn: 0.4180621\ttotal: 2m 38s\tremaining: 1m 5s\n",
      "706:\tlearn: 0.4178772\ttotal: 2m 38s\tremaining: 1m 5s\n",
      "707:\tlearn: 0.4176310\ttotal: 2m 38s\tremaining: 1m 5s\n",
      "708:\tlearn: 0.4174038\ttotal: 2m 38s\tremaining: 1m 5s\n",
      "709:\tlearn: 0.4172563\ttotal: 2m 39s\tremaining: 1m 4s\n",
      "710:\tlearn: 0.4171028\ttotal: 2m 39s\tremaining: 1m 4s\n",
      "711:\tlearn: 0.4168664\ttotal: 2m 39s\tremaining: 1m 4s\n",
      "712:\tlearn: 0.4166834\ttotal: 2m 39s\tremaining: 1m 4s\n",
      "713:\tlearn: 0.4165601\ttotal: 2m 39s\tremaining: 1m 4s\n",
      "714:\tlearn: 0.4163760\ttotal: 2m 40s\tremaining: 1m 3s\n",
      "715:\tlearn: 0.4162157\ttotal: 2m 40s\tremaining: 1m 3s\n",
      "716:\tlearn: 0.4159950\ttotal: 2m 40s\tremaining: 1m 3s\n",
      "717:\tlearn: 0.4158134\ttotal: 2m 40s\tremaining: 1m 3s\n",
      "718:\tlearn: 0.4155021\ttotal: 2m 41s\tremaining: 1m 2s\n",
      "719:\tlearn: 0.4153180\ttotal: 2m 41s\tremaining: 1m 2s\n",
      "720:\tlearn: 0.4151678\ttotal: 2m 41s\tremaining: 1m 2s\n",
      "721:\tlearn: 0.4149769\ttotal: 2m 41s\tremaining: 1m 2s\n",
      "722:\tlearn: 0.4147782\ttotal: 2m 42s\tremaining: 1m 2s\n",
      "723:\tlearn: 0.4146516\ttotal: 2m 42s\tremaining: 1m 1s\n",
      "724:\tlearn: 0.4144963\ttotal: 2m 42s\tremaining: 1m 1s\n",
      "725:\tlearn: 0.4143386\ttotal: 2m 42s\tremaining: 1m 1s\n",
      "726:\tlearn: 0.4141922\ttotal: 2m 42s\tremaining: 1m 1s\n",
      "727:\tlearn: 0.4139334\ttotal: 2m 43s\tremaining: 1m\n",
      "728:\tlearn: 0.4138297\ttotal: 2m 43s\tremaining: 1m\n",
      "729:\tlearn: 0.4137034\ttotal: 2m 43s\tremaining: 1m\n",
      "730:\tlearn: 0.4135175\ttotal: 2m 43s\tremaining: 1m\n",
      "731:\tlearn: 0.4133290\ttotal: 2m 43s\tremaining: 1m\n",
      "732:\tlearn: 0.4131987\ttotal: 2m 44s\tremaining: 59.8s\n",
      "733:\tlearn: 0.4128846\ttotal: 2m 44s\tremaining: 59.6s\n",
      "734:\tlearn: 0.4127725\ttotal: 2m 44s\tremaining: 59.4s\n",
      "735:\tlearn: 0.4126019\ttotal: 2m 44s\tremaining: 59.1s\n",
      "736:\tlearn: 0.4124932\ttotal: 2m 45s\tremaining: 58.9s\n",
      "737:\tlearn: 0.4122295\ttotal: 2m 45s\tremaining: 58.7s\n",
      "738:\tlearn: 0.4120844\ttotal: 2m 45s\tremaining: 58.4s\n",
      "739:\tlearn: 0.4118789\ttotal: 2m 45s\tremaining: 58.2s\n",
      "740:\tlearn: 0.4116089\ttotal: 2m 45s\tremaining: 58s\n",
      "741:\tlearn: 0.4114316\ttotal: 2m 46s\tremaining: 57.8s\n",
      "742:\tlearn: 0.4113288\ttotal: 2m 46s\tremaining: 57.6s\n",
      "743:\tlearn: 0.4111997\ttotal: 2m 46s\tremaining: 57.3s\n",
      "744:\tlearn: 0.4110428\ttotal: 2m 46s\tremaining: 57.1s\n",
      "745:\tlearn: 0.4109500\ttotal: 2m 47s\tremaining: 56.9s\n",
      "746:\tlearn: 0.4107048\ttotal: 2m 47s\tremaining: 56.7s\n",
      "747:\tlearn: 0.4105805\ttotal: 2m 47s\tremaining: 56.4s\n",
      "748:\tlearn: 0.4104266\ttotal: 2m 47s\tremaining: 56.2s\n",
      "749:\tlearn: 0.4100538\ttotal: 2m 47s\tremaining: 56s\n",
      "750:\tlearn: 0.4098524\ttotal: 2m 48s\tremaining: 55.8s\n",
      "751:\tlearn: 0.4097301\ttotal: 2m 48s\tremaining: 55.5s\n",
      "752:\tlearn: 0.4096042\ttotal: 2m 48s\tremaining: 55.3s\n",
      "753:\tlearn: 0.4092906\ttotal: 2m 48s\tremaining: 55.1s\n",
      "754:\tlearn: 0.4090931\ttotal: 2m 49s\tremaining: 54.9s\n",
      "755:\tlearn: 0.4089299\ttotal: 2m 49s\tremaining: 54.6s\n",
      "756:\tlearn: 0.4087189\ttotal: 2m 49s\tremaining: 54.4s\n",
      "757:\tlearn: 0.4085721\ttotal: 2m 49s\tremaining: 54.2s\n",
      "758:\tlearn: 0.4084828\ttotal: 2m 49s\tremaining: 53.9s\n",
      "759:\tlearn: 0.4083413\ttotal: 2m 50s\tremaining: 53.7s\n",
      "760:\tlearn: 0.4081440\ttotal: 2m 50s\tremaining: 53.5s\n",
      "761:\tlearn: 0.4078218\ttotal: 2m 50s\tremaining: 53.3s\n",
      "762:\tlearn: 0.4074852\ttotal: 2m 50s\tremaining: 53s\n",
      "763:\tlearn: 0.4072116\ttotal: 2m 51s\tremaining: 52.8s\n",
      "764:\tlearn: 0.4068467\ttotal: 2m 51s\tremaining: 52.6s\n",
      "765:\tlearn: 0.4066526\ttotal: 2m 51s\tremaining: 52.4s\n",
      "766:\tlearn: 0.4065313\ttotal: 2m 51s\tremaining: 52.2s\n",
      "767:\tlearn: 0.4063741\ttotal: 2m 52s\tremaining: 52.1s\n",
      "768:\tlearn: 0.4061353\ttotal: 2m 52s\tremaining: 52s\n",
      "769:\tlearn: 0.4058939\ttotal: 2m 53s\tremaining: 51.8s\n",
      "770:\tlearn: 0.4057267\ttotal: 2m 53s\tremaining: 51.6s\n",
      "771:\tlearn: 0.4055503\ttotal: 2m 53s\tremaining: 51.4s\n",
      "772:\tlearn: 0.4053676\ttotal: 2m 54s\tremaining: 51.2s\n",
      "773:\tlearn: 0.4052270\ttotal: 2m 54s\tremaining: 50.9s\n",
      "774:\tlearn: 0.4050585\ttotal: 2m 54s\tremaining: 50.7s\n",
      "775:\tlearn: 0.4048167\ttotal: 2m 54s\tremaining: 50.5s\n",
      "776:\tlearn: 0.4046943\ttotal: 2m 55s\tremaining: 50.2s\n",
      "777:\tlearn: 0.4044354\ttotal: 2m 55s\tremaining: 50s\n",
      "778:\tlearn: 0.4041545\ttotal: 2m 55s\tremaining: 49.8s\n",
      "779:\tlearn: 0.4039432\ttotal: 2m 55s\tremaining: 49.6s\n",
      "780:\tlearn: 0.4037598\ttotal: 2m 55s\tremaining: 49.3s\n",
      "781:\tlearn: 0.4035805\ttotal: 2m 56s\tremaining: 49.1s\n",
      "782:\tlearn: 0.4034616\ttotal: 2m 56s\tremaining: 48.9s\n",
      "783:\tlearn: 0.4032568\ttotal: 2m 56s\tremaining: 48.7s\n",
      "784:\tlearn: 0.4029433\ttotal: 2m 56s\tremaining: 48.5s\n",
      "785:\tlearn: 0.4027757\ttotal: 2m 57s\tremaining: 48.2s\n",
      "786:\tlearn: 0.4026504\ttotal: 2m 57s\tremaining: 48s\n",
      "787:\tlearn: 0.4025205\ttotal: 2m 57s\tremaining: 47.8s\n",
      "788:\tlearn: 0.4023226\ttotal: 2m 57s\tremaining: 47.6s\n",
      "789:\tlearn: 0.4021457\ttotal: 2m 58s\tremaining: 47.3s\n",
      "790:\tlearn: 0.4019762\ttotal: 2m 58s\tremaining: 47.1s\n",
      "791:\tlearn: 0.4017603\ttotal: 2m 58s\tremaining: 46.9s\n",
      "792:\tlearn: 0.4016472\ttotal: 2m 58s\tremaining: 46.7s\n",
      "793:\tlearn: 0.4015374\ttotal: 2m 59s\tremaining: 46.5s\n",
      "794:\tlearn: 0.4014109\ttotal: 2m 59s\tremaining: 46.2s\n",
      "795:\tlearn: 0.4012584\ttotal: 2m 59s\tremaining: 46s\n",
      "796:\tlearn: 0.4010025\ttotal: 2m 59s\tremaining: 45.8s\n",
      "797:\tlearn: 0.4007283\ttotal: 3m\tremaining: 45.6s\n",
      "798:\tlearn: 0.4005948\ttotal: 3m\tremaining: 45.3s\n",
      "799:\tlearn: 0.4004506\ttotal: 3m\tremaining: 45.1s\n",
      "800:\tlearn: 0.4002345\ttotal: 3m\tremaining: 44.9s\n",
      "801:\tlearn: 0.4000815\ttotal: 3m\tremaining: 44.6s\n",
      "802:\tlearn: 0.3998717\ttotal: 3m 1s\tremaining: 44.4s\n",
      "803:\tlearn: 0.3996928\ttotal: 3m 1s\tremaining: 44.2s\n",
      "804:\tlearn: 0.3995116\ttotal: 3m 1s\tremaining: 44s\n",
      "805:\tlearn: 0.3993322\ttotal: 3m 1s\tremaining: 43.8s\n",
      "806:\tlearn: 0.3991663\ttotal: 3m 1s\tremaining: 43.5s\n",
      "807:\tlearn: 0.3989369\ttotal: 3m 2s\tremaining: 43.3s\n",
      "808:\tlearn: 0.3987173\ttotal: 3m 2s\tremaining: 43.1s\n",
      "809:\tlearn: 0.3985144\ttotal: 3m 2s\tremaining: 42.8s\n",
      "810:\tlearn: 0.3982799\ttotal: 3m 2s\tremaining: 42.6s\n",
      "811:\tlearn: 0.3981414\ttotal: 3m 3s\tremaining: 42.4s\n",
      "812:\tlearn: 0.3979734\ttotal: 3m 3s\tremaining: 42.2s\n",
      "813:\tlearn: 0.3978761\ttotal: 3m 3s\tremaining: 41.9s\n",
      "814:\tlearn: 0.3977677\ttotal: 3m 3s\tremaining: 41.7s\n",
      "815:\tlearn: 0.3976496\ttotal: 3m 3s\tremaining: 41.5s\n",
      "816:\tlearn: 0.3975213\ttotal: 3m 4s\tremaining: 41.2s\n",
      "817:\tlearn: 0.3974047\ttotal: 3m 4s\tremaining: 41s\n",
      "818:\tlearn: 0.3971035\ttotal: 3m 4s\tremaining: 40.8s\n",
      "819:\tlearn: 0.3969910\ttotal: 3m 4s\tremaining: 40.6s\n",
      "820:\tlearn: 0.3968204\ttotal: 3m 5s\tremaining: 40.3s\n",
      "821:\tlearn: 0.3966699\ttotal: 3m 5s\tremaining: 40.1s\n",
      "822:\tlearn: 0.3965319\ttotal: 3m 5s\tremaining: 39.9s\n",
      "823:\tlearn: 0.3963092\ttotal: 3m 5s\tremaining: 39.7s\n",
      "824:\tlearn: 0.3961495\ttotal: 3m 5s\tremaining: 39.4s\n",
      "825:\tlearn: 0.3959166\ttotal: 3m 6s\tremaining: 39.2s\n",
      "826:\tlearn: 0.3956609\ttotal: 3m 6s\tremaining: 39s\n",
      "827:\tlearn: 0.3954091\ttotal: 3m 6s\tremaining: 38.8s\n",
      "828:\tlearn: 0.3952240\ttotal: 3m 6s\tremaining: 38.5s\n",
      "829:\tlearn: 0.3950562\ttotal: 3m 7s\tremaining: 38.3s\n",
      "830:\tlearn: 0.3948788\ttotal: 3m 7s\tremaining: 38.1s\n",
      "831:\tlearn: 0.3947040\ttotal: 3m 7s\tremaining: 37.9s\n",
      "832:\tlearn: 0.3945422\ttotal: 3m 7s\tremaining: 37.6s\n",
      "833:\tlearn: 0.3944075\ttotal: 3m 7s\tremaining: 37.4s\n",
      "834:\tlearn: 0.3942433\ttotal: 3m 8s\tremaining: 37.2s\n",
      "835:\tlearn: 0.3939362\ttotal: 3m 8s\tremaining: 37s\n",
      "836:\tlearn: 0.3937531\ttotal: 3m 8s\tremaining: 36.7s\n",
      "837:\tlearn: 0.3936419\ttotal: 3m 8s\tremaining: 36.5s\n",
      "838:\tlearn: 0.3935221\ttotal: 3m 8s\tremaining: 36.3s\n",
      "839:\tlearn: 0.3933366\ttotal: 3m 9s\tremaining: 36s\n",
      "840:\tlearn: 0.3931962\ttotal: 3m 9s\tremaining: 35.8s\n",
      "841:\tlearn: 0.3930911\ttotal: 3m 9s\tremaining: 35.6s\n",
      "842:\tlearn: 0.3928154\ttotal: 3m 9s\tremaining: 35.4s\n",
      "843:\tlearn: 0.3925778\ttotal: 3m 10s\tremaining: 35.1s\n",
      "844:\tlearn: 0.3924714\ttotal: 3m 10s\tremaining: 34.9s\n",
      "845:\tlearn: 0.3923248\ttotal: 3m 10s\tremaining: 34.7s\n",
      "846:\tlearn: 0.3922225\ttotal: 3m 10s\tremaining: 34.5s\n",
      "847:\tlearn: 0.3920775\ttotal: 3m 10s\tremaining: 34.2s\n",
      "848:\tlearn: 0.3919512\ttotal: 3m 11s\tremaining: 34s\n",
      "849:\tlearn: 0.3918248\ttotal: 3m 11s\tremaining: 33.8s\n",
      "850:\tlearn: 0.3916490\ttotal: 3m 11s\tremaining: 33.6s\n",
      "851:\tlearn: 0.3914858\ttotal: 3m 11s\tremaining: 33.3s\n",
      "852:\tlearn: 0.3913483\ttotal: 3m 12s\tremaining: 33.1s\n",
      "853:\tlearn: 0.3911808\ttotal: 3m 12s\tremaining: 32.9s\n",
      "854:\tlearn: 0.3910801\ttotal: 3m 12s\tremaining: 32.7s\n",
      "855:\tlearn: 0.3909594\ttotal: 3m 12s\tremaining: 32.5s\n",
      "856:\tlearn: 0.3908601\ttotal: 3m 13s\tremaining: 32.2s\n",
      "857:\tlearn: 0.3907638\ttotal: 3m 13s\tremaining: 32s\n",
      "858:\tlearn: 0.3906225\ttotal: 3m 13s\tremaining: 31.8s\n",
      "859:\tlearn: 0.3904789\ttotal: 3m 13s\tremaining: 31.5s\n",
      "860:\tlearn: 0.3903218\ttotal: 3m 13s\tremaining: 31.3s\n",
      "861:\tlearn: 0.3901677\ttotal: 3m 14s\tremaining: 31.1s\n",
      "862:\tlearn: 0.3899375\ttotal: 3m 14s\tremaining: 30.9s\n",
      "863:\tlearn: 0.3897917\ttotal: 3m 14s\tremaining: 30.6s\n",
      "864:\tlearn: 0.3895609\ttotal: 3m 14s\tremaining: 30.4s\n",
      "865:\tlearn: 0.3893661\ttotal: 3m 15s\tremaining: 30.2s\n",
      "866:\tlearn: 0.3892821\ttotal: 3m 15s\tremaining: 30s\n",
      "867:\tlearn: 0.3891374\ttotal: 3m 15s\tremaining: 29.7s\n",
      "868:\tlearn: 0.3889202\ttotal: 3m 15s\tremaining: 29.5s\n",
      "869:\tlearn: 0.3886782\ttotal: 3m 16s\tremaining: 29.3s\n",
      "870:\tlearn: 0.3885372\ttotal: 3m 16s\tremaining: 29.1s\n",
      "871:\tlearn: 0.3883767\ttotal: 3m 16s\tremaining: 28.8s\n",
      "872:\tlearn: 0.3882529\ttotal: 3m 16s\tremaining: 28.6s\n",
      "873:\tlearn: 0.3879990\ttotal: 3m 16s\tremaining: 28.4s\n",
      "874:\tlearn: 0.3878159\ttotal: 3m 17s\tremaining: 28.2s\n",
      "875:\tlearn: 0.3875694\ttotal: 3m 17s\tremaining: 27.9s\n",
      "876:\tlearn: 0.3874180\ttotal: 3m 17s\tremaining: 27.7s\n",
      "877:\tlearn: 0.3872387\ttotal: 3m 17s\tremaining: 27.5s\n",
      "878:\tlearn: 0.3871009\ttotal: 3m 18s\tremaining: 27.3s\n",
      "879:\tlearn: 0.3869480\ttotal: 3m 18s\tremaining: 27s\n",
      "880:\tlearn: 0.3868151\ttotal: 3m 18s\tremaining: 26.8s\n",
      "881:\tlearn: 0.3866513\ttotal: 3m 18s\tremaining: 26.6s\n",
      "882:\tlearn: 0.3864943\ttotal: 3m 18s\tremaining: 26.4s\n",
      "883:\tlearn: 0.3863853\ttotal: 3m 19s\tremaining: 26.1s\n",
      "884:\tlearn: 0.3862359\ttotal: 3m 19s\tremaining: 25.9s\n",
      "885:\tlearn: 0.3861299\ttotal: 3m 19s\tremaining: 25.7s\n",
      "886:\tlearn: 0.3858991\ttotal: 3m 19s\tremaining: 25.5s\n",
      "887:\tlearn: 0.3857658\ttotal: 3m 20s\tremaining: 25.2s\n",
      "888:\tlearn: 0.3855493\ttotal: 3m 20s\tremaining: 25s\n",
      "889:\tlearn: 0.3854476\ttotal: 3m 20s\tremaining: 24.8s\n",
      "890:\tlearn: 0.3852854\ttotal: 3m 20s\tremaining: 24.6s\n",
      "891:\tlearn: 0.3851802\ttotal: 3m 21s\tremaining: 24.3s\n",
      "892:\tlearn: 0.3850718\ttotal: 3m 21s\tremaining: 24.1s\n",
      "893:\tlearn: 0.3849434\ttotal: 3m 21s\tremaining: 23.9s\n",
      "894:\tlearn: 0.3848463\ttotal: 3m 21s\tremaining: 23.7s\n",
      "895:\tlearn: 0.3846435\ttotal: 3m 21s\tremaining: 23.4s\n",
      "896:\tlearn: 0.3845577\ttotal: 3m 22s\tremaining: 23.2s\n",
      "897:\tlearn: 0.3843994\ttotal: 3m 22s\tremaining: 23s\n",
      "898:\tlearn: 0.3842436\ttotal: 3m 22s\tremaining: 22.7s\n",
      "899:\tlearn: 0.3840946\ttotal: 3m 22s\tremaining: 22.5s\n",
      "900:\tlearn: 0.3839459\ttotal: 3m 22s\tremaining: 22.3s\n",
      "901:\tlearn: 0.3837140\ttotal: 3m 23s\tremaining: 22.1s\n",
      "902:\tlearn: 0.3835405\ttotal: 3m 23s\tremaining: 21.8s\n",
      "903:\tlearn: 0.3834387\ttotal: 3m 23s\tremaining: 21.6s\n",
      "904:\tlearn: 0.3833431\ttotal: 3m 23s\tremaining: 21.4s\n",
      "905:\tlearn: 0.3832386\ttotal: 3m 23s\tremaining: 21.2s\n",
      "906:\tlearn: 0.3830419\ttotal: 3m 24s\tremaining: 20.9s\n",
      "907:\tlearn: 0.3828871\ttotal: 3m 24s\tremaining: 20.7s\n",
      "908:\tlearn: 0.3828129\ttotal: 3m 24s\tremaining: 20.5s\n",
      "909:\tlearn: 0.3827088\ttotal: 3m 24s\tremaining: 20.3s\n",
      "910:\tlearn: 0.3825793\ttotal: 3m 25s\tremaining: 20s\n",
      "911:\tlearn: 0.3824411\ttotal: 3m 25s\tremaining: 19.8s\n",
      "912:\tlearn: 0.3823471\ttotal: 3m 25s\tremaining: 19.6s\n",
      "913:\tlearn: 0.3821128\ttotal: 3m 25s\tremaining: 19.4s\n",
      "914:\tlearn: 0.3818501\ttotal: 3m 26s\tremaining: 19.1s\n",
      "915:\tlearn: 0.3816664\ttotal: 3m 26s\tremaining: 18.9s\n",
      "916:\tlearn: 0.3815046\ttotal: 3m 26s\tremaining: 18.7s\n",
      "917:\tlearn: 0.3813779\ttotal: 3m 26s\tremaining: 18.5s\n",
      "918:\tlearn: 0.3811923\ttotal: 3m 27s\tremaining: 18.2s\n",
      "919:\tlearn: 0.3811007\ttotal: 3m 27s\tremaining: 18s\n",
      "920:\tlearn: 0.3809604\ttotal: 3m 27s\tremaining: 17.8s\n",
      "921:\tlearn: 0.3808046\ttotal: 3m 27s\tremaining: 17.6s\n",
      "922:\tlearn: 0.3806771\ttotal: 3m 27s\tremaining: 17.3s\n",
      "923:\tlearn: 0.3805381\ttotal: 3m 28s\tremaining: 17.1s\n",
      "924:\tlearn: 0.3803894\ttotal: 3m 28s\tremaining: 16.9s\n",
      "925:\tlearn: 0.3802605\ttotal: 3m 28s\tremaining: 16.7s\n",
      "926:\tlearn: 0.3801245\ttotal: 3m 28s\tremaining: 16.4s\n",
      "927:\tlearn: 0.3799947\ttotal: 3m 29s\tremaining: 16.2s\n",
      "928:\tlearn: 0.3799218\ttotal: 3m 29s\tremaining: 16s\n",
      "929:\tlearn: 0.3798213\ttotal: 3m 29s\tremaining: 15.8s\n",
      "930:\tlearn: 0.3797076\ttotal: 3m 29s\tremaining: 15.5s\n",
      "931:\tlearn: 0.3796191\ttotal: 3m 29s\tremaining: 15.3s\n",
      "932:\tlearn: 0.3793509\ttotal: 3m 30s\tremaining: 15.1s\n",
      "933:\tlearn: 0.3791737\ttotal: 3m 30s\tremaining: 14.9s\n",
      "934:\tlearn: 0.3790525\ttotal: 3m 30s\tremaining: 14.6s\n",
      "935:\tlearn: 0.3789559\ttotal: 3m 30s\tremaining: 14.4s\n",
      "936:\tlearn: 0.3788192\ttotal: 3m 30s\tremaining: 14.2s\n",
      "937:\tlearn: 0.3786281\ttotal: 3m 31s\tremaining: 14s\n",
      "938:\tlearn: 0.3785097\ttotal: 3m 31s\tremaining: 13.7s\n",
      "939:\tlearn: 0.3784180\ttotal: 3m 31s\tremaining: 13.5s\n",
      "940:\tlearn: 0.3782139\ttotal: 3m 32s\tremaining: 13.3s\n",
      "941:\tlearn: 0.3780596\ttotal: 3m 32s\tremaining: 13.1s\n",
      "942:\tlearn: 0.3778798\ttotal: 3m 32s\tremaining: 12.8s\n",
      "943:\tlearn: 0.3777185\ttotal: 3m 32s\tremaining: 12.6s\n",
      "944:\tlearn: 0.3774774\ttotal: 3m 32s\tremaining: 12.4s\n",
      "945:\tlearn: 0.3773232\ttotal: 3m 33s\tremaining: 12.2s\n",
      "946:\tlearn: 0.3771992\ttotal: 3m 33s\tremaining: 11.9s\n",
      "947:\tlearn: 0.3771091\ttotal: 3m 33s\tremaining: 11.7s\n",
      "948:\tlearn: 0.3769989\ttotal: 3m 33s\tremaining: 11.5s\n",
      "949:\tlearn: 0.3768914\ttotal: 3m 34s\tremaining: 11.3s\n",
      "950:\tlearn: 0.3766723\ttotal: 3m 34s\tremaining: 11s\n",
      "951:\tlearn: 0.3765252\ttotal: 3m 34s\tremaining: 10.8s\n",
      "952:\tlearn: 0.3764209\ttotal: 3m 34s\tremaining: 10.6s\n",
      "953:\tlearn: 0.3761984\ttotal: 3m 34s\tremaining: 10.4s\n",
      "954:\tlearn: 0.3761113\ttotal: 3m 35s\tremaining: 10.1s\n",
      "955:\tlearn: 0.3759501\ttotal: 3m 35s\tremaining: 9.91s\n",
      "956:\tlearn: 0.3758101\ttotal: 3m 35s\tremaining: 9.68s\n",
      "957:\tlearn: 0.3756886\ttotal: 3m 35s\tremaining: 9.46s\n",
      "958:\tlearn: 0.3754894\ttotal: 3m 35s\tremaining: 9.23s\n",
      "959:\tlearn: 0.3753689\ttotal: 3m 36s\tremaining: 9.01s\n",
      "960:\tlearn: 0.3751694\ttotal: 3m 36s\tremaining: 8.78s\n",
      "961:\tlearn: 0.3750623\ttotal: 3m 36s\tremaining: 8.55s\n",
      "962:\tlearn: 0.3749198\ttotal: 3m 36s\tremaining: 8.33s\n",
      "963:\tlearn: 0.3748107\ttotal: 3m 37s\tremaining: 8.11s\n",
      "964:\tlearn: 0.3746988\ttotal: 3m 37s\tremaining: 7.88s\n",
      "965:\tlearn: 0.3745992\ttotal: 3m 37s\tremaining: 7.66s\n",
      "966:\tlearn: 0.3744415\ttotal: 3m 37s\tremaining: 7.43s\n",
      "967:\tlearn: 0.3743135\ttotal: 3m 37s\tremaining: 7.21s\n",
      "968:\tlearn: 0.3741325\ttotal: 3m 38s\tremaining: 6.98s\n",
      "969:\tlearn: 0.3740170\ttotal: 3m 38s\tremaining: 6.75s\n",
      "970:\tlearn: 0.3738209\ttotal: 3m 38s\tremaining: 6.53s\n",
      "971:\tlearn: 0.3736334\ttotal: 3m 38s\tremaining: 6.31s\n",
      "972:\tlearn: 0.3735158\ttotal: 3m 39s\tremaining: 6.08s\n",
      "973:\tlearn: 0.3734337\ttotal: 3m 39s\tremaining: 5.85s\n",
      "974:\tlearn: 0.3733211\ttotal: 3m 39s\tremaining: 5.63s\n",
      "975:\tlearn: 0.3732237\ttotal: 3m 39s\tremaining: 5.4s\n",
      "976:\tlearn: 0.3729752\ttotal: 3m 39s\tremaining: 5.18s\n",
      "977:\tlearn: 0.3727871\ttotal: 3m 40s\tremaining: 4.95s\n",
      "978:\tlearn: 0.3725686\ttotal: 3m 40s\tremaining: 4.73s\n",
      "979:\tlearn: 0.3724273\ttotal: 3m 40s\tremaining: 4.5s\n",
      "980:\tlearn: 0.3723233\ttotal: 3m 40s\tremaining: 4.28s\n",
      "981:\tlearn: 0.3721910\ttotal: 3m 41s\tremaining: 4.05s\n",
      "982:\tlearn: 0.3720928\ttotal: 3m 41s\tremaining: 3.83s\n",
      "983:\tlearn: 0.3720051\ttotal: 3m 41s\tremaining: 3.6s\n",
      "984:\tlearn: 0.3718489\ttotal: 3m 41s\tremaining: 3.38s\n",
      "985:\tlearn: 0.3717433\ttotal: 3m 41s\tremaining: 3.15s\n",
      "986:\tlearn: 0.3716105\ttotal: 3m 42s\tremaining: 2.92s\n",
      "987:\tlearn: 0.3714666\ttotal: 3m 42s\tremaining: 2.7s\n",
      "988:\tlearn: 0.3713861\ttotal: 3m 42s\tremaining: 2.48s\n",
      "989:\tlearn: 0.3712622\ttotal: 3m 42s\tremaining: 2.25s\n",
      "990:\tlearn: 0.3710847\ttotal: 3m 43s\tremaining: 2.02s\n",
      "991:\tlearn: 0.3709091\ttotal: 3m 43s\tremaining: 1.8s\n",
      "992:\tlearn: 0.3707856\ttotal: 3m 43s\tremaining: 1.57s\n",
      "993:\tlearn: 0.3706842\ttotal: 3m 43s\tremaining: 1.35s\n",
      "994:\tlearn: 0.3704650\ttotal: 3m 43s\tremaining: 1.13s\n",
      "995:\tlearn: 0.3703310\ttotal: 3m 44s\tremaining: 900ms\n",
      "996:\tlearn: 0.3701630\ttotal: 3m 44s\tremaining: 675ms\n",
      "997:\tlearn: 0.3700635\ttotal: 3m 44s\tremaining: 450ms\n",
      "998:\tlearn: 0.3699391\ttotal: 3m 44s\tremaining: 225ms\n",
      "999:\tlearn: 0.3698289\ttotal: 3m 44s\tremaining: 0us\n",
      "train rmse = 0.36695827674680565, test rmse = 0.8233803852861004\n"
     ]
    }
   ],
   "source": [
    "print(\"Pure CatBoost:\")\n",
    "train_pred1, test_pred1 = boosting(ratios=[1, 0, 0])\n",
    "# print(\"Pure LightGBM:\")\n",
    "# train_pred2, test_pred2 = boosting(ratios=[0, 1, 0])\n",
    "# print(\"Pure XGBoost:\")\n",
    "# train_pred3, test_pred3 = boosting(ratios=[0, 0, 1])"
   ]
  },
  {
   "cell_type": "markdown",
   "metadata": {},
   "source": [
    "### Plotting Predictions\n"
   ]
  },
  {
   "cell_type": "markdown",
   "metadata": {},
   "source": [
    "As we have now obtained the residuals predicted by the Boosting models(s). We can add them back to the predictions by the Lasso Regressions to obtain the final target predictions.\n"
   ]
  },
  {
   "cell_type": "markdown",
   "metadata": {},
   "source": [
    "We append linear predictions, which were produced by the 514 Lasso Regressions, to our original data frame:\n"
   ]
  },
  {
   "cell_type": "code",
   "execution_count": 50,
   "metadata": {
    "tags": []
   },
   "outputs": [],
   "source": [
    "df['linearPrediction'] = predictions "
   ]
  },
  {
   "cell_type": "code",
   "execution_count": 51,
   "metadata": {
    "tags": []
   },
   "outputs": [],
   "source": [
    "del predictions"
   ]
  },
  {
   "cell_type": "markdown",
   "metadata": {},
   "source": [
    "We append the residuals predicted by the Boosting model(s) to the original data frame as well.\n"
   ]
  },
  {
   "cell_type": "code",
   "execution_count": 52,
   "metadata": {
    "tags": []
   },
   "outputs": [],
   "source": [
    "train2_inds = train2.index\n",
    "test_inds = test.index"
   ]
  },
  {
   "cell_type": "code",
   "execution_count": 53,
   "metadata": {
    "tags": []
   },
   "outputs": [],
   "source": [
    "df['boostedResiduals'] = 0\n",
    "df.loc[train2_inds, 'boostedResiduals'] = train_pred1\n",
    "df.loc[test_inds, 'boostedResiduals'] = test_pred1"
   ]
  },
  {
   "cell_type": "code",
   "execution_count": 54,
   "metadata": {
    "tags": []
   },
   "outputs": [],
   "source": [
    "del train2_inds\n",
    "del test_inds"
   ]
  },
  {
   "cell_type": "code",
   "execution_count": 55,
   "metadata": {
    "tags": []
   },
   "outputs": [
    {
     "data": {
      "image/png": "[encoded data removed]",
      "text/plain": [
       "<Figure size 640x480 with 1 Axes>"
      ]
     },
     "metadata": {},
     "output_type": "display_data"
    }
   ],
   "source": [
    "plt.hist(df['boostedResiduals'], density=True)\n",
    "plt.xlabel(\"Boosted residuals\")\n",
    "plt.ylabel(\"Normalized count\")\n",
    "plt.title(\"Boosting fitted residuals\")\n",
    "plt.show()"
   ]
  },
  {
   "cell_type": "markdown",
   "metadata": {},
   "source": [
    "We confirm that there are null values in the boosted residuals and the linear predictions.\n"
   ]
  },
  {
   "cell_type": "code",
   "execution_count": 56,
   "metadata": {
    "tags": []
   },
   "outputs": [
    {
     "data": {
      "text/plain": [
       "(0, 0)"
      ]
     },
     "execution_count": 56,
     "metadata": {},
     "output_type": "execute_result"
    }
   ],
   "source": [
    "df.boostedResiduals.isnull().sum(), df.linearPrediction.isnull().sum()"
   ]
  },
  {
   "cell_type": "markdown",
   "metadata": {},
   "source": [
    "Final predictions equal linear predictions plus boosted residuals.\n"
   ]
  },
  {
   "cell_type": "code",
   "execution_count": 57,
   "metadata": {
    "tags": []
   },
   "outputs": [],
   "source": [
    "df['finalPrediction'] = df['linearPrediction'] + df['boostedResiduals']"
   ]
  },
  {
   "cell_type": "markdown",
   "metadata": {},
   "source": [
    "Since it would be hard to visualize predictions for all 514 locations, we will pick the locations whose forecasts have the smallest root mean squared error (rmse) and we visualize those locations.\n"
   ]
  },
  {
   "cell_type": "markdown",
   "metadata": {},
   "source": [
    "We calculate the rmse of all the groups and store the calculations in `boostedresiduals_dict`:\n"
   ]
  },
  {
   "cell_type": "code",
   "execution_count": 58,
   "metadata": {
    "tags": []
   },
   "outputs": [],
   "source": [
    "boostedresiduals_grouped = df.groupby(['loc_group'])\n",
    "boostedresiduals_dict = {}\n",
    "\n",
    "for name, group in boostedresiduals_grouped:\n",
    "    \n",
    "    rmse = np.sqrt(np.sum(group['boostedResiduals']**2) / group.shape[0])\n",
    "    boostedresiduals_dict[name] = rmse"
   ]
  },
  {
   "cell_type": "code",
   "execution_count": 59,
   "metadata": {
    "tags": []
   },
   "outputs": [],
   "source": [
    "del group"
   ]
  },
  {
   "cell_type": "markdown",
   "metadata": {},
   "source": [
    "We sort the location groups by the corresponding rmses in ascending order and we pick four best predicted groups:\n"
   ]
  },
  {
   "cell_type": "code",
   "execution_count": 60,
   "metadata": {
    "tags": []
   },
   "outputs": [
    {
     "data": {
      "text/plain": [
       "[0, 45, 9, 75]"
      ]
     },
     "execution_count": 60,
     "metadata": {},
     "output_type": "execute_result"
    }
   ],
   "source": [
    "sorted_boostedresiduals_dict = dict(sorted(boostedresiduals_dict.items(), key=lambda item: item[1]))\n",
    "best_predicted_groups = list(sorted_boostedresiduals_dict.keys())[:4]\n",
    "best_predicted_groups"
   ]
  },
  {
   "cell_type": "markdown",
   "metadata": {},
   "source": [
    "We plot the final predictions:\n"
   ]
  },
  {
   "cell_type": "code",
   "execution_count": 61,
   "metadata": {
    "tags": []
   },
   "outputs": [
    {
     "data": {
      "image/png": "[encoded data removed]",
      "text/plain": [
       "<Figure size 1200x600 with 4 Axes>"
      ]
     },
     "metadata": {},
     "output_type": "display_data"
    }
   ],
   "source": [
    "plt.figure(figsize=(12, 6))\n",
    "\n",
    "for i, group in enumerate(best_predicted_groups):\n",
    "    \n",
    "    plt.subplot(2,2,i+1)\n",
    "    train2_inds = train2.loc[train2.loc_group == group].index\n",
    "    test_inds = test.loc[test.loc_group == group].index\n",
    "    \n",
    "    plt.plot(df.loc[df.loc_group == group, 'startdate'], df.loc[df.loc_group == group, target], label='target')\n",
    "    plt.plot(df.loc[test_inds, 'startdate'], df.loc[test_inds, 'finalPrediction'], label='predictions')\n",
    "    \n",
    "    plt.title(f\"Group{group} predictions\")\n",
    "    plt.xticks(rotation=45)\n",
    "    plt.legend(loc='lower right')\n",
    "    \n",
    "plt.suptitle(\"Groups that have the smallest average rmse\")\n",
    "plt.tight_layout()"
   ]
  },
  {
   "cell_type": "markdown",
   "metadata": {},
   "source": [
    "## Congratulations! You have completed this guided project.\n"
   ]
  },
  {
   "cell_type": "markdown",
   "metadata": {},
   "source": [
    "This guided project demonstrates one way of jump-starting your Data Science competition. Data Science or Machine Learning projects should always follow the following cycle:\n",
    "\n",
    "- **Problem formulation**: defining the problem and understanding the business context.\n",
    "\n",
    "- **Data collection**: gathering and acquiring data from various sources.\n",
    "\n",
    "- **Data preprocessing**: cleaning, transforming, and preparing data for analysis.\n",
    "\n",
    "- **Exploratory data analysis**: understanding the structure, contents, and patterns in the data through visualizations and summary statistics.\n",
    "\n",
    "- **Feature engineering**: creating new features from the existing data.\n",
    "\n",
    "- **Model selection**: choosing an appropriate model or algorithm for the problem.\n",
    "\n",
    "- **Model training**: fitting the model to the data and tuning its hyperparameters.\n",
    "\n",
    "- **Model evaluation**: assessing the performance of the model using appropriate metrics and techniques.\n"
   ]
  },
  {
   "cell_type": "markdown",
   "metadata": {},
   "source": [
    "However, please keep in mind that at each step of the cycle, there exists a million of different solutions and tools for solving the problem. It's a rapidly evolving field, so there is on one fixed set of winning techniques, but as long as you keep learning and practicing you will eventually develop your own set of rules for your Data Science game! Happy Learning!\n"
   ]
  },
  {
   "cell_type": "markdown",
   "metadata": {},
   "source": [
    "## Author(s)\n"
   ]
  },
  {
   "cell_type": "markdown",
   "metadata": {},
   "source": [
    "[Roxanne Li](https://www.linkedin.com/in/roxanne-li/?utm_medium=Exinfluencer&utm_source=Exinfluencer&utm_content=000026UJ&utm_term=10006555&utm_id=NA-SkillsNetwork-Channel-SkillsNetworkGuidedProjectsIBMGPXX0CRSEN2517-2023-01-01)\n"
   ]
  },
  {
   "cell_type": "markdown",
   "metadata": {},
   "source": [
    "### Other Contributor(s)\n"
   ]
  },
  {
   "cell_type": "markdown",
   "metadata": {},
   "source": [
    "[Sina Nazeri](https://www.linkedin.com/in/sina-nazeri?utm_medium=Exinfluencer&utm_source=Exinfluencer&utm_content=000026UJ&utm_term=10006555&utm_id=NA-SkillsNetwork-Channel-SkillsNetworkGuidedProjectsIBMGPXX0CRSEN2517-2023-01-01)  \n",
    "[JC Chen](contributor_link)\n"
   ]
  },
  {
   "cell_type": "markdown",
   "metadata": {},
   "source": [
    "## Change Log\n"
   ]
  },
  {
   "cell_type": "markdown",
   "metadata": {},
   "source": [
    "|Date (YYYY-MM-DD)|Version|Changed By|Change Description|\n",
    "|-|-|-|-|\n",
    "|2020-07-17|0.1|Sam|Create Lab Template|\n",
    "|2023-04-03|0.1|Roxanne Li|Create Project First Draft|\n",
    "|2023-04-06|0.1|JC Chen|Reviewed Project First Draft|\n",
    "|2023-04-15|0.2|Roxanne Li|Updated Project|\n"
   ]
  },
  {
   "cell_type": "markdown",
   "metadata": {},
   "source": [
    "Copyright © 2022 IBM Corporation. All rights reserved.\n"
   ]
  }
 ],
 "metadata": {
  "kernelspec": {
   "display_name": "Python",
   "language": "python",
   "name": "conda-env-python-py"
  },
  "language_info": {
   "codemirror_mode": {
    "name": "ipython",
    "version": 3
   },
   "file_extension": ".py",
   "mimetype": "text/x-python",
   "name": "python",
   "nbconvert_exporter": "python",
   "pygments_lexer": "ipython3",
   "version": "3.7.12"
  }
 },
 "nbformat": 4,
 "nbformat_minor": 4
}
